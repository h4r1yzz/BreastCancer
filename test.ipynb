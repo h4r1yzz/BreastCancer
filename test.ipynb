{
 "cells": [
  {
   "cell_type": "code",
   "execution_count": 4,
   "metadata": {},
   "outputs": [
    {
     "data": {
      "text/html": [
       "        <script type=\"text/javascript\">\n",
       "        window.PlotlyConfig = {MathJaxConfig: 'local'};\n",
       "        if (window.MathJax && window.MathJax.Hub && window.MathJax.Hub.Config) {window.MathJax.Hub.Config({SVG: {font: \"STIX-Web\"}});}\n",
       "        if (typeof require !== 'undefined') {\n",
       "        require.undef(\"plotly\");\n",
       "        requirejs.config({\n",
       "            paths: {\n",
       "                'plotly': ['https://cdn.plot.ly/plotly-2.35.2.min']\n",
       "            }\n",
       "        });\n",
       "        require(['plotly'], function(Plotly) {\n",
       "            window._Plotly = Plotly;\n",
       "        });\n",
       "        }\n",
       "        </script>\n",
       "        "
      ]
     },
     "metadata": {},
     "output_type": "display_data"
    }
   ],
   "source": [
    "import numpy as np \n",
    "import pandas as pd\n",
    "\n",
    "import seaborn as sns\n",
    "import matplotlib.pyplot as plt\n",
    "import plotly.express as px\n",
    "import plotly.graph_objects as go\n",
    "from sklearn.preprocessing import RobustScaler\n",
    "from sklearn.decomposition import PCA\n",
    "from sklearn.model_selection import train_test_split, GridSearchCV, StratifiedKFold\n",
    "from sklearn.feature_selection import RFECV\n",
    "from sklearn.tree import DecisionTreeClassifier\n",
    "from sklearn.linear_model import LogisticRegression\n",
    "from sklearn import svm\n",
    "from sklearn.ensemble import RandomForestClassifier\n",
    "from sklearn.neighbors import KNeighborsClassifier\n",
    "from sklearn.metrics import confusion_matrix, ConfusionMatrixDisplay, roc_curve, precision_recall_curve, auc\n",
    "from plotly.subplots import make_subplots\n",
    "import itertools\n",
    "# Run the following two lines of code for Uncaught Error: Script error for plotly\n",
    "from plotly.offline import plot, iplot, init_notebook_mode\n",
    "init_notebook_mode(connected=True)"
   ]
  },
  {
   "cell_type": "markdown",
   "metadata": {},
   "source": [
    "1. Load libraries and clean data"
   ]
  },
  {
   "cell_type": "code",
   "execution_count": 8,
   "metadata": {},
   "outputs": [
    {
     "data": {
      "text/html": [
       "<div>\n",
       "<style scoped>\n",
       "    .dataframe tbody tr th:only-of-type {\n",
       "        vertical-align: middle;\n",
       "    }\n",
       "\n",
       "    .dataframe tbody tr th {\n",
       "        vertical-align: top;\n",
       "    }\n",
       "\n",
       "    .dataframe thead th {\n",
       "        text-align: right;\n",
       "    }\n",
       "</style>\n",
       "<table border=\"1\" class=\"dataframe\">\n",
       "  <thead>\n",
       "    <tr style=\"text-align: right;\">\n",
       "      <th></th>\n",
       "      <th>id</th>\n",
       "      <th>diagnosis</th>\n",
       "      <th>radius_mean</th>\n",
       "      <th>texture_mean</th>\n",
       "      <th>perimeter_mean</th>\n",
       "      <th>area_mean</th>\n",
       "      <th>smoothness_mean</th>\n",
       "      <th>compactness_mean</th>\n",
       "      <th>concavity_mean</th>\n",
       "      <th>concave points_mean</th>\n",
       "      <th>...</th>\n",
       "      <th>texture_worst</th>\n",
       "      <th>perimeter_worst</th>\n",
       "      <th>area_worst</th>\n",
       "      <th>smoothness_worst</th>\n",
       "      <th>compactness_worst</th>\n",
       "      <th>concavity_worst</th>\n",
       "      <th>concave points_worst</th>\n",
       "      <th>symmetry_worst</th>\n",
       "      <th>fractal_dimension_worst</th>\n",
       "      <th>Unnamed: 32</th>\n",
       "    </tr>\n",
       "  </thead>\n",
       "  <tbody>\n",
       "    <tr>\n",
       "      <th>0</th>\n",
       "      <td>842302</td>\n",
       "      <td>M</td>\n",
       "      <td>17.99</td>\n",
       "      <td>10.38</td>\n",
       "      <td>122.80</td>\n",
       "      <td>1001.0</td>\n",
       "      <td>0.11840</td>\n",
       "      <td>0.27760</td>\n",
       "      <td>0.3001</td>\n",
       "      <td>0.14710</td>\n",
       "      <td>...</td>\n",
       "      <td>17.33</td>\n",
       "      <td>184.60</td>\n",
       "      <td>2019.0</td>\n",
       "      <td>0.1622</td>\n",
       "      <td>0.6656</td>\n",
       "      <td>0.7119</td>\n",
       "      <td>0.2654</td>\n",
       "      <td>0.4601</td>\n",
       "      <td>0.11890</td>\n",
       "      <td>NaN</td>\n",
       "    </tr>\n",
       "    <tr>\n",
       "      <th>1</th>\n",
       "      <td>842517</td>\n",
       "      <td>M</td>\n",
       "      <td>20.57</td>\n",
       "      <td>17.77</td>\n",
       "      <td>132.90</td>\n",
       "      <td>1326.0</td>\n",
       "      <td>0.08474</td>\n",
       "      <td>0.07864</td>\n",
       "      <td>0.0869</td>\n",
       "      <td>0.07017</td>\n",
       "      <td>...</td>\n",
       "      <td>23.41</td>\n",
       "      <td>158.80</td>\n",
       "      <td>1956.0</td>\n",
       "      <td>0.1238</td>\n",
       "      <td>0.1866</td>\n",
       "      <td>0.2416</td>\n",
       "      <td>0.1860</td>\n",
       "      <td>0.2750</td>\n",
       "      <td>0.08902</td>\n",
       "      <td>NaN</td>\n",
       "    </tr>\n",
       "    <tr>\n",
       "      <th>2</th>\n",
       "      <td>84300903</td>\n",
       "      <td>M</td>\n",
       "      <td>19.69</td>\n",
       "      <td>21.25</td>\n",
       "      <td>130.00</td>\n",
       "      <td>1203.0</td>\n",
       "      <td>0.10960</td>\n",
       "      <td>0.15990</td>\n",
       "      <td>0.1974</td>\n",
       "      <td>0.12790</td>\n",
       "      <td>...</td>\n",
       "      <td>25.53</td>\n",
       "      <td>152.50</td>\n",
       "      <td>1709.0</td>\n",
       "      <td>0.1444</td>\n",
       "      <td>0.4245</td>\n",
       "      <td>0.4504</td>\n",
       "      <td>0.2430</td>\n",
       "      <td>0.3613</td>\n",
       "      <td>0.08758</td>\n",
       "      <td>NaN</td>\n",
       "    </tr>\n",
       "    <tr>\n",
       "      <th>3</th>\n",
       "      <td>84348301</td>\n",
       "      <td>M</td>\n",
       "      <td>11.42</td>\n",
       "      <td>20.38</td>\n",
       "      <td>77.58</td>\n",
       "      <td>386.1</td>\n",
       "      <td>0.14250</td>\n",
       "      <td>0.28390</td>\n",
       "      <td>0.2414</td>\n",
       "      <td>0.10520</td>\n",
       "      <td>...</td>\n",
       "      <td>26.50</td>\n",
       "      <td>98.87</td>\n",
       "      <td>567.7</td>\n",
       "      <td>0.2098</td>\n",
       "      <td>0.8663</td>\n",
       "      <td>0.6869</td>\n",
       "      <td>0.2575</td>\n",
       "      <td>0.6638</td>\n",
       "      <td>0.17300</td>\n",
       "      <td>NaN</td>\n",
       "    </tr>\n",
       "    <tr>\n",
       "      <th>4</th>\n",
       "      <td>84358402</td>\n",
       "      <td>M</td>\n",
       "      <td>20.29</td>\n",
       "      <td>14.34</td>\n",
       "      <td>135.10</td>\n",
       "      <td>1297.0</td>\n",
       "      <td>0.10030</td>\n",
       "      <td>0.13280</td>\n",
       "      <td>0.1980</td>\n",
       "      <td>0.10430</td>\n",
       "      <td>...</td>\n",
       "      <td>16.67</td>\n",
       "      <td>152.20</td>\n",
       "      <td>1575.0</td>\n",
       "      <td>0.1374</td>\n",
       "      <td>0.2050</td>\n",
       "      <td>0.4000</td>\n",
       "      <td>0.1625</td>\n",
       "      <td>0.2364</td>\n",
       "      <td>0.07678</td>\n",
       "      <td>NaN</td>\n",
       "    </tr>\n",
       "  </tbody>\n",
       "</table>\n",
       "<p>5 rows × 33 columns</p>\n",
       "</div>"
      ],
      "text/plain": [
       "         id diagnosis  radius_mean  texture_mean  perimeter_mean  area_mean  \\\n",
       "0    842302         M        17.99         10.38          122.80     1001.0   \n",
       "1    842517         M        20.57         17.77          132.90     1326.0   \n",
       "2  84300903         M        19.69         21.25          130.00     1203.0   \n",
       "3  84348301         M        11.42         20.38           77.58      386.1   \n",
       "4  84358402         M        20.29         14.34          135.10     1297.0   \n",
       "\n",
       "   smoothness_mean  compactness_mean  concavity_mean  concave points_mean  \\\n",
       "0          0.11840           0.27760          0.3001              0.14710   \n",
       "1          0.08474           0.07864          0.0869              0.07017   \n",
       "2          0.10960           0.15990          0.1974              0.12790   \n",
       "3          0.14250           0.28390          0.2414              0.10520   \n",
       "4          0.10030           0.13280          0.1980              0.10430   \n",
       "\n",
       "   ...  texture_worst  perimeter_worst  area_worst  smoothness_worst  \\\n",
       "0  ...          17.33           184.60      2019.0            0.1622   \n",
       "1  ...          23.41           158.80      1956.0            0.1238   \n",
       "2  ...          25.53           152.50      1709.0            0.1444   \n",
       "3  ...          26.50            98.87       567.7            0.2098   \n",
       "4  ...          16.67           152.20      1575.0            0.1374   \n",
       "\n",
       "   compactness_worst  concavity_worst  concave points_worst  symmetry_worst  \\\n",
       "0             0.6656           0.7119                0.2654          0.4601   \n",
       "1             0.1866           0.2416                0.1860          0.2750   \n",
       "2             0.4245           0.4504                0.2430          0.3613   \n",
       "3             0.8663           0.6869                0.2575          0.6638   \n",
       "4             0.2050           0.4000                0.1625          0.2364   \n",
       "\n",
       "   fractal_dimension_worst  Unnamed: 32  \n",
       "0                  0.11890          NaN  \n",
       "1                  0.08902          NaN  \n",
       "2                  0.08758          NaN  \n",
       "3                  0.17300          NaN  \n",
       "4                  0.07678          NaN  \n",
       "\n",
       "[5 rows x 33 columns]"
      ]
     },
     "execution_count": 8,
     "metadata": {},
     "output_type": "execute_result"
    }
   ],
   "source": [
    "df = pd.read_csv(\"data/data.csv\")\n",
    "df.head()"
   ]
  },
  {
   "cell_type": "code",
   "execution_count": 9,
   "metadata": {},
   "outputs": [
    {
     "data": {
      "text/plain": [
       "id                           0\n",
       "diagnosis                    0\n",
       "radius_mean                  0\n",
       "texture_mean                 0\n",
       "perimeter_mean               0\n",
       "area_mean                    0\n",
       "smoothness_mean              0\n",
       "compactness_mean             0\n",
       "concavity_mean               0\n",
       "concave points_mean          0\n",
       "symmetry_mean                0\n",
       "fractal_dimension_mean       0\n",
       "radius_se                    0\n",
       "texture_se                   0\n",
       "perimeter_se                 0\n",
       "area_se                      0\n",
       "smoothness_se                0\n",
       "compactness_se               0\n",
       "concavity_se                 0\n",
       "concave points_se            0\n",
       "symmetry_se                  0\n",
       "fractal_dimension_se         0\n",
       "radius_worst                 0\n",
       "texture_worst                0\n",
       "perimeter_worst              0\n",
       "area_worst                   0\n",
       "smoothness_worst             0\n",
       "compactness_worst            0\n",
       "concavity_worst              0\n",
       "concave points_worst         0\n",
       "symmetry_worst               0\n",
       "fractal_dimension_worst      0\n",
       "Unnamed: 32                569\n",
       "dtype: int64"
      ]
     },
     "execution_count": 9,
     "metadata": {},
     "output_type": "execute_result"
    }
   ],
   "source": [
    "missing_values_count = df.isnull().sum()\n",
    "missing_values_count"
   ]
  },
  {
   "cell_type": "code",
   "execution_count": 10,
   "metadata": {},
   "outputs": [],
   "source": [
    "df.drop(['id','Unnamed: 32'],axis=1,inplace=True)"
   ]
  },
  {
   "cell_type": "markdown",
   "metadata": {},
   "source": [
    "2. Data analysis"
   ]
  },
  {
   "cell_type": "code",
   "execution_count": 11,
   "metadata": {},
   "outputs": [
    {
     "data": {
      "text/plain": [
       "(569, 31)"
      ]
     },
     "execution_count": 11,
     "metadata": {},
     "output_type": "execute_result"
    }
   ],
   "source": [
    "df.shape\n"
   ]
  },
  {
   "cell_type": "code",
   "execution_count": 12,
   "metadata": {},
   "outputs": [
    {
     "data": {
      "text/plain": [
       "array(['M', 'B'], dtype=object)"
      ]
     },
     "execution_count": 12,
     "metadata": {},
     "output_type": "execute_result"
    }
   ],
   "source": [
    "df.diagnosis.unique()\n"
   ]
  },
  {
   "cell_type": "code",
   "execution_count": 13,
   "metadata": {},
   "outputs": [
    {
     "data": {
      "text/html": [
       "<div>\n",
       "<style scoped>\n",
       "    .dataframe tbody tr th:only-of-type {\n",
       "        vertical-align: middle;\n",
       "    }\n",
       "\n",
       "    .dataframe tbody tr th {\n",
       "        vertical-align: top;\n",
       "    }\n",
       "\n",
       "    .dataframe thead th {\n",
       "        text-align: right;\n",
       "    }\n",
       "</style>\n",
       "<table border=\"1\" class=\"dataframe\">\n",
       "  <thead>\n",
       "    <tr style=\"text-align: right;\">\n",
       "      <th></th>\n",
       "      <th>radius_mean</th>\n",
       "      <th>texture_mean</th>\n",
       "      <th>perimeter_mean</th>\n",
       "      <th>area_mean</th>\n",
       "      <th>smoothness_mean</th>\n",
       "      <th>compactness_mean</th>\n",
       "      <th>concavity_mean</th>\n",
       "      <th>concave points_mean</th>\n",
       "      <th>symmetry_mean</th>\n",
       "      <th>fractal_dimension_mean</th>\n",
       "      <th>...</th>\n",
       "      <th>radius_worst</th>\n",
       "      <th>texture_worst</th>\n",
       "      <th>perimeter_worst</th>\n",
       "      <th>area_worst</th>\n",
       "      <th>smoothness_worst</th>\n",
       "      <th>compactness_worst</th>\n",
       "      <th>concavity_worst</th>\n",
       "      <th>concave points_worst</th>\n",
       "      <th>symmetry_worst</th>\n",
       "      <th>fractal_dimension_worst</th>\n",
       "    </tr>\n",
       "  </thead>\n",
       "  <tbody>\n",
       "    <tr>\n",
       "      <th>count</th>\n",
       "      <td>569.000000</td>\n",
       "      <td>569.000000</td>\n",
       "      <td>569.000000</td>\n",
       "      <td>569.000000</td>\n",
       "      <td>569.000000</td>\n",
       "      <td>569.000000</td>\n",
       "      <td>569.000000</td>\n",
       "      <td>569.000000</td>\n",
       "      <td>569.000000</td>\n",
       "      <td>569.000000</td>\n",
       "      <td>...</td>\n",
       "      <td>569.000000</td>\n",
       "      <td>569.000000</td>\n",
       "      <td>569.000000</td>\n",
       "      <td>569.000000</td>\n",
       "      <td>569.000000</td>\n",
       "      <td>569.000000</td>\n",
       "      <td>569.000000</td>\n",
       "      <td>569.000000</td>\n",
       "      <td>569.000000</td>\n",
       "      <td>569.000000</td>\n",
       "    </tr>\n",
       "    <tr>\n",
       "      <th>mean</th>\n",
       "      <td>14.127292</td>\n",
       "      <td>19.289649</td>\n",
       "      <td>91.969033</td>\n",
       "      <td>654.889104</td>\n",
       "      <td>0.096360</td>\n",
       "      <td>0.104341</td>\n",
       "      <td>0.088799</td>\n",
       "      <td>0.048919</td>\n",
       "      <td>0.181162</td>\n",
       "      <td>0.062798</td>\n",
       "      <td>...</td>\n",
       "      <td>16.269190</td>\n",
       "      <td>25.677223</td>\n",
       "      <td>107.261213</td>\n",
       "      <td>880.583128</td>\n",
       "      <td>0.132369</td>\n",
       "      <td>0.254265</td>\n",
       "      <td>0.272188</td>\n",
       "      <td>0.114606</td>\n",
       "      <td>0.290076</td>\n",
       "      <td>0.083946</td>\n",
       "    </tr>\n",
       "    <tr>\n",
       "      <th>std</th>\n",
       "      <td>3.524049</td>\n",
       "      <td>4.301036</td>\n",
       "      <td>24.298981</td>\n",
       "      <td>351.914129</td>\n",
       "      <td>0.014064</td>\n",
       "      <td>0.052813</td>\n",
       "      <td>0.079720</td>\n",
       "      <td>0.038803</td>\n",
       "      <td>0.027414</td>\n",
       "      <td>0.007060</td>\n",
       "      <td>...</td>\n",
       "      <td>4.833242</td>\n",
       "      <td>6.146258</td>\n",
       "      <td>33.602542</td>\n",
       "      <td>569.356993</td>\n",
       "      <td>0.022832</td>\n",
       "      <td>0.157336</td>\n",
       "      <td>0.208624</td>\n",
       "      <td>0.065732</td>\n",
       "      <td>0.061867</td>\n",
       "      <td>0.018061</td>\n",
       "    </tr>\n",
       "    <tr>\n",
       "      <th>min</th>\n",
       "      <td>6.981000</td>\n",
       "      <td>9.710000</td>\n",
       "      <td>43.790000</td>\n",
       "      <td>143.500000</td>\n",
       "      <td>0.052630</td>\n",
       "      <td>0.019380</td>\n",
       "      <td>0.000000</td>\n",
       "      <td>0.000000</td>\n",
       "      <td>0.106000</td>\n",
       "      <td>0.049960</td>\n",
       "      <td>...</td>\n",
       "      <td>7.930000</td>\n",
       "      <td>12.020000</td>\n",
       "      <td>50.410000</td>\n",
       "      <td>185.200000</td>\n",
       "      <td>0.071170</td>\n",
       "      <td>0.027290</td>\n",
       "      <td>0.000000</td>\n",
       "      <td>0.000000</td>\n",
       "      <td>0.156500</td>\n",
       "      <td>0.055040</td>\n",
       "    </tr>\n",
       "    <tr>\n",
       "      <th>25%</th>\n",
       "      <td>11.700000</td>\n",
       "      <td>16.170000</td>\n",
       "      <td>75.170000</td>\n",
       "      <td>420.300000</td>\n",
       "      <td>0.086370</td>\n",
       "      <td>0.064920</td>\n",
       "      <td>0.029560</td>\n",
       "      <td>0.020310</td>\n",
       "      <td>0.161900</td>\n",
       "      <td>0.057700</td>\n",
       "      <td>...</td>\n",
       "      <td>13.010000</td>\n",
       "      <td>21.080000</td>\n",
       "      <td>84.110000</td>\n",
       "      <td>515.300000</td>\n",
       "      <td>0.116600</td>\n",
       "      <td>0.147200</td>\n",
       "      <td>0.114500</td>\n",
       "      <td>0.064930</td>\n",
       "      <td>0.250400</td>\n",
       "      <td>0.071460</td>\n",
       "    </tr>\n",
       "    <tr>\n",
       "      <th>50%</th>\n",
       "      <td>13.370000</td>\n",
       "      <td>18.840000</td>\n",
       "      <td>86.240000</td>\n",
       "      <td>551.100000</td>\n",
       "      <td>0.095870</td>\n",
       "      <td>0.092630</td>\n",
       "      <td>0.061540</td>\n",
       "      <td>0.033500</td>\n",
       "      <td>0.179200</td>\n",
       "      <td>0.061540</td>\n",
       "      <td>...</td>\n",
       "      <td>14.970000</td>\n",
       "      <td>25.410000</td>\n",
       "      <td>97.660000</td>\n",
       "      <td>686.500000</td>\n",
       "      <td>0.131300</td>\n",
       "      <td>0.211900</td>\n",
       "      <td>0.226700</td>\n",
       "      <td>0.099930</td>\n",
       "      <td>0.282200</td>\n",
       "      <td>0.080040</td>\n",
       "    </tr>\n",
       "    <tr>\n",
       "      <th>75%</th>\n",
       "      <td>15.780000</td>\n",
       "      <td>21.800000</td>\n",
       "      <td>104.100000</td>\n",
       "      <td>782.700000</td>\n",
       "      <td>0.105300</td>\n",
       "      <td>0.130400</td>\n",
       "      <td>0.130700</td>\n",
       "      <td>0.074000</td>\n",
       "      <td>0.195700</td>\n",
       "      <td>0.066120</td>\n",
       "      <td>...</td>\n",
       "      <td>18.790000</td>\n",
       "      <td>29.720000</td>\n",
       "      <td>125.400000</td>\n",
       "      <td>1084.000000</td>\n",
       "      <td>0.146000</td>\n",
       "      <td>0.339100</td>\n",
       "      <td>0.382900</td>\n",
       "      <td>0.161400</td>\n",
       "      <td>0.317900</td>\n",
       "      <td>0.092080</td>\n",
       "    </tr>\n",
       "    <tr>\n",
       "      <th>max</th>\n",
       "      <td>28.110000</td>\n",
       "      <td>39.280000</td>\n",
       "      <td>188.500000</td>\n",
       "      <td>2501.000000</td>\n",
       "      <td>0.163400</td>\n",
       "      <td>0.345400</td>\n",
       "      <td>0.426800</td>\n",
       "      <td>0.201200</td>\n",
       "      <td>0.304000</td>\n",
       "      <td>0.097440</td>\n",
       "      <td>...</td>\n",
       "      <td>36.040000</td>\n",
       "      <td>49.540000</td>\n",
       "      <td>251.200000</td>\n",
       "      <td>4254.000000</td>\n",
       "      <td>0.222600</td>\n",
       "      <td>1.058000</td>\n",
       "      <td>1.252000</td>\n",
       "      <td>0.291000</td>\n",
       "      <td>0.663800</td>\n",
       "      <td>0.207500</td>\n",
       "    </tr>\n",
       "  </tbody>\n",
       "</table>\n",
       "<p>8 rows × 30 columns</p>\n",
       "</div>"
      ],
      "text/plain": [
       "       radius_mean  texture_mean  perimeter_mean    area_mean  \\\n",
       "count   569.000000    569.000000      569.000000   569.000000   \n",
       "mean     14.127292     19.289649       91.969033   654.889104   \n",
       "std       3.524049      4.301036       24.298981   351.914129   \n",
       "min       6.981000      9.710000       43.790000   143.500000   \n",
       "25%      11.700000     16.170000       75.170000   420.300000   \n",
       "50%      13.370000     18.840000       86.240000   551.100000   \n",
       "75%      15.780000     21.800000      104.100000   782.700000   \n",
       "max      28.110000     39.280000      188.500000  2501.000000   \n",
       "\n",
       "       smoothness_mean  compactness_mean  concavity_mean  concave points_mean  \\\n",
       "count       569.000000        569.000000      569.000000           569.000000   \n",
       "mean          0.096360          0.104341        0.088799             0.048919   \n",
       "std           0.014064          0.052813        0.079720             0.038803   \n",
       "min           0.052630          0.019380        0.000000             0.000000   \n",
       "25%           0.086370          0.064920        0.029560             0.020310   \n",
       "50%           0.095870          0.092630        0.061540             0.033500   \n",
       "75%           0.105300          0.130400        0.130700             0.074000   \n",
       "max           0.163400          0.345400        0.426800             0.201200   \n",
       "\n",
       "       symmetry_mean  fractal_dimension_mean  ...  radius_worst  \\\n",
       "count     569.000000              569.000000  ...    569.000000   \n",
       "mean        0.181162                0.062798  ...     16.269190   \n",
       "std         0.027414                0.007060  ...      4.833242   \n",
       "min         0.106000                0.049960  ...      7.930000   \n",
       "25%         0.161900                0.057700  ...     13.010000   \n",
       "50%         0.179200                0.061540  ...     14.970000   \n",
       "75%         0.195700                0.066120  ...     18.790000   \n",
       "max         0.304000                0.097440  ...     36.040000   \n",
       "\n",
       "       texture_worst  perimeter_worst   area_worst  smoothness_worst  \\\n",
       "count     569.000000       569.000000   569.000000        569.000000   \n",
       "mean       25.677223       107.261213   880.583128          0.132369   \n",
       "std         6.146258        33.602542   569.356993          0.022832   \n",
       "min        12.020000        50.410000   185.200000          0.071170   \n",
       "25%        21.080000        84.110000   515.300000          0.116600   \n",
       "50%        25.410000        97.660000   686.500000          0.131300   \n",
       "75%        29.720000       125.400000  1084.000000          0.146000   \n",
       "max        49.540000       251.200000  4254.000000          0.222600   \n",
       "\n",
       "       compactness_worst  concavity_worst  concave points_worst  \\\n",
       "count         569.000000       569.000000            569.000000   \n",
       "mean            0.254265         0.272188              0.114606   \n",
       "std             0.157336         0.208624              0.065732   \n",
       "min             0.027290         0.000000              0.000000   \n",
       "25%             0.147200         0.114500              0.064930   \n",
       "50%             0.211900         0.226700              0.099930   \n",
       "75%             0.339100         0.382900              0.161400   \n",
       "max             1.058000         1.252000              0.291000   \n",
       "\n",
       "       symmetry_worst  fractal_dimension_worst  \n",
       "count      569.000000               569.000000  \n",
       "mean         0.290076                 0.083946  \n",
       "std          0.061867                 0.018061  \n",
       "min          0.156500                 0.055040  \n",
       "25%          0.250400                 0.071460  \n",
       "50%          0.282200                 0.080040  \n",
       "75%          0.317900                 0.092080  \n",
       "max          0.663800                 0.207500  \n",
       "\n",
       "[8 rows x 30 columns]"
      ]
     },
     "execution_count": 13,
     "metadata": {},
     "output_type": "execute_result"
    }
   ],
   "source": [
    "df.describe()\n"
   ]
  },
  {
   "cell_type": "code",
   "execution_count": 14,
   "metadata": {},
   "outputs": [
    {
     "data": {
      "application/vnd.plotly.v1+json": {
       "config": {
        "plotlyServerURL": "https://plot.ly"
       },
       "data": [
        {
         "boxpoints": "outliers",
         "fillcolor": "gold",
         "jitter": 0.5,
         "line": {
          "width": 2
         },
         "marker": {
          "size": 3
         },
         "name": "smoothness_mean",
         "type": "box",
         "whiskerwidth": 0.2,
         "y": [
          0.1184,
          0.08474,
          0.1096,
          0.1425,
          0.1003,
          0.1278,
          0.09463,
          0.1189,
          0.1273,
          0.1186,
          0.08206,
          0.0971,
          0.0974,
          0.08401,
          0.1131,
          0.1139,
          0.09867,
          0.117,
          0.09831,
          0.09779,
          0.1075,
          0.1024,
          0.1073,
          0.09428,
          0.1121,
          0.1186,
          0.1054,
          0.0944,
          0.1082,
          0.09847,
          0.1064,
          0.1109,
          0.1197,
          0.09401,
          0.104,
          0.0961,
          0.09823,
          0.08983,
          0.09387,
          0.1016,
          0.08162,
          0.1227,
          0.09081,
          0.1041,
          0.09714,
          0.1099,
          0.086,
          0.1158,
          0.1031,
          0.08752,
          0.08637,
          0.07685,
          0.08261,
          0.1148,
          0.09056,
          0.09524,
          0.1053,
          0.1137,
          0.0806,
          0.09752,
          0.1134,
          0.1243,
          0.1049,
          0.07721,
          0.1122,
          0.1172,
          0.1044,
          0.08139,
          0.1066,
          0.09831,
          0.09009,
          0.09783,
          0.1071,
          0.1007,
          0.09172,
          0.09168,
          0.1291,
          0.1065,
          0.1286,
          0.09934,
          0.1102,
          0.1078,
          0.1063,
          0.1215,
          0.09723,
          0.09874,
          0.09444,
          0.09029,
          0.08772,
          0.1132,
          0.08974,
          0.092,
          0.07355,
          0.1022,
          0.1039,
          0.09078,
          0.1045,
          0.1024,
          0.08983,
          0.09752,
          0.09488,
          0.117,
          0.08013,
          0.1005,
          0.09989,
          0.1398,
          0.1142,
          0.08477,
          0.1326,
          0.08759,
          0.1037,
          0.09933,
          0.07837,
          0.1122,
          0.115,
          0.09768,
          0.09462,
          0.1162,
          0.1155,
          0.08402,
          0.09373,
          0.1054,
          0.1447,
          0.1101,
          0.07115,
          0.08785,
          0.09258,
          0.08217,
          0.115,
          0.1015,
          0.1066,
          0.1092,
          0.1008,
          0.09462,
          0.0943,
          0.09055,
          0.1051,
          0.09639,
          0.1167,
          0.1164,
          0.0925,
          0.09721,
          0.1092,
          0.08677,
          0.07793,
          0.1152,
          0.1091,
          0.08138,
          0.0997,
          0.07944,
          0.1135,
          0.09405,
          0.1072,
          0.09754,
          0.09384,
          0.08654,
          0.1115,
          0.07445,
          0.09311,
          0.07515,
          0.1089,
          0.08694,
          0.112,
          0.1012,
          0.08439,
          0.08421,
          0.09594,
          0.08865,
          0.1049,
          0.09855,
          0.1028,
          0.09048,
          0.1257,
          0.1006,
          0.08792,
          0.09138,
          0.09699,
          0.09831,
          0.06251,
          0.08739,
          0.1094,
          0.1141,
          0.09597,
          0.09059,
          0.09057,
          0.09267,
          0.08588,
          0.09774,
          0.1007,
          0.0808,
          0.1075,
          0.08749,
          0.0695,
          0.1034,
          0.1044,
          0.07941,
          0.12,
          0.07371,
          0.08523,
          0.09872,
          0.09586,
          0.08968,
          0.1141,
          0.1323,
          0.09965,
          0.08876,
          0.1089,
          0.08772,
          0.1002,
          0.08182,
          0.0909,
          0.08871,
          0.1142,
          0.1006,
          0.09463,
          0.1026,
          0.09363,
          0.08054,
          0.09383,
          0.0842,
          0.09646,
          0.1051,
          0.1061,
          0.1025,
          0.08445,
          0.09906,
          0.1053,
          0.08371,
          0.07903,
          0.1088,
          0.1141,
          0.06883,
          0.0778,
          0.09159,
          0.08464,
          0.0907,
          0.09509,
          0.08355,
          0.08223,
          0.09812,
          0.09423,
          0.07926,
          0.09592,
          0.08043,
          0.1027,
          0.107,
          0.07215,
          0.0876,
          0.09657,
          0.1013,
          0.1007,
          0.09345,
          0.1062,
          0.1008,
          0.1035,
          0.1096,
          0.0926,
          0.1335,
          0.1109,
          0.1063,
          0.1,
          0.08662,
          0.08999,
          0.0784,
          0.09726,
          0.09469,
          0.09688,
          0.07956,
          0.09425,
          0.1082,
          0.06429,
          0.09834,
          0.09401,
          0.09037,
          0.08855,
          0.1225,
          0.09379,
          0.08923,
          0.07948,
          0.09516,
          0.102,
          0.07813,
          0.1037,
          0.1066,
          0.07818,
          0.08393,
          0.08605,
          0.06955,
          0.0802,
          0.08713,
          0.08757,
          0.08992,
          0.1005,
          0.08372,
          0.09667,
          0.09198,
          0.08518,
          0.09968,
          0.06576,
          0.1015,
          0.115,
          0.08451,
          0.108,
          0.1068,
          0.08853,
          0.07474,
          0.08511,
          0.07005,
          0.07376,
          0.08352,
          0.08814,
          0.07618,
          0.08794,
          0.08597,
          0.1074,
          0.08511,
          0.07734,
          0.09746,
          0.09968,
          0.07557,
          0.1061,
          0.0802,
          0.1134,
          0.117,
          0.08673,
          0.1028,
          0.09309,
          0.07683,
          0.1169,
          0.1165,
          0.09491,
          0.09579,
          0.1054,
          0.08306,
          0.08313,
          0.1119,
          0.09462,
          0.09116,
          0.1007,
          0.1069,
          0.09751,
          0.08481,
          0.1033,
          0.09797,
          0.115,
          0.09882,
          0.08386,
          0.08875,
          0.09076,
          0.1158,
          0.07561,
          0.1243,
          0.1149,
          0.1024,
          0.07274,
          0.0876,
          0.1082,
          0.08743,
          0.08293,
          0.1009,
          0.07436,
          0.08582,
          0.09676,
          0.09686,
          0.07937,
          0.0915,
          0.09905,
          0.09231,
          0.09384,
          0.1063,
          0.09742,
          0.07963,
          0.1001,
          0.09446,
          0.08302,
          0.0988,
          0.09073,
          0.07517,
          0.08268,
          0.1216,
          0.1237,
          0.07987,
          0.06935,
          0.1042,
          0.08363,
          0.08682,
          0.08108,
          0.07026,
          0.08365,
          0.101,
          0.09996,
          0.1039,
          0.116,
          0.1167,
          0.1029,
          0.08045,
          0.1059,
          0.08044,
          0.07741,
          0.09087,
          0.123,
          0.08872,
          0.07351,
          0.09879,
          0.08682,
          0.1004,
          0.09495,
          0.07551,
          0.1036,
          0.08685,
          0.08858,
          0.1077,
          0.07969,
          0.08515,
          0.0832,
          0.09773,
          0.1044,
          0.112,
          0.08785,
          0.1018,
          0.08546,
          0.1031,
          0.1088,
          0.09057,
          0.1075,
          0.08117,
          0.09816,
          0.08801,
          0.08151,
          0.07896,
          0.09947,
          0.1054,
          0.1133,
          0.1018,
          0.08924,
          0.106,
          0.09136,
          0.08458,
          0.08684,
          0.07966,
          0.08915,
          0.08331,
          0.08817,
          0.08142,
          0.08947,
          0.103,
          0.09997,
          0.09179,
          0.08388,
          0.09684,
          0.06613,
          0.1032,
          0.08437,
          0.1099,
          0.08583,
          0.09245,
          0.09357,
          0.08791,
          0.08369,
          0.07984,
          0.09898,
          0.1084,
          0.06995,
          0.08508,
          0.07466,
          0.08284,
          0.08675,
          0.08311,
          0.09289,
          0.1175,
          0.08946,
          0.08752,
          0.08098,
          0.07699,
          0.1007,
          0.0904,
          0.08931,
          0.06828,
          0.1046,
          0.1026,
          0.09087,
          0.07991,
          0.1071,
          0.0995,
          0.1043,
          0.09514,
          0.08641,
          0.1089,
          0.1128,
          0.07497,
          0.08192,
          0.07838,
          0.1001,
          0.07372,
          0.07335,
          0.09587,
          0.1076,
          0.08928,
          0.1012,
          0.1085,
          0.09883,
          0.1162,
          0.1158,
          0.09342,
          0.1634,
          0.1255,
          0.1096,
          0.1194,
          0.09427,
          0.1183,
          0.08099,
          0.08472,
          0.1106,
          0.09832,
          0.09215,
          0.1049,
          0.1068,
          0.1037,
          0.1218,
          0.1125,
          0.1371,
          0.103,
          0.08511,
          0.09916,
          0.09492,
          0.1036,
          0.1075,
          0.09003,
          0.1248,
          0.11,
          0.1073,
          0.1016,
          0.09277,
          0.09156,
          0.09687,
          0.1046,
          0.1038,
          0.1236,
          0.08098,
          0.08668,
          0.09984,
          0.08837,
          0.08275,
          0.08671,
          0.09578,
          0.09246,
          0.09434,
          0.08877,
          0.08491,
          0.08192,
          0.07431,
          0.09566,
          0.08276,
          0.0924,
          0.08123,
          0.0903,
          0.1003,
          0.08123,
          0.08473,
          0.09261,
          0.09929,
          0.07449,
          0.1048,
          0.1099,
          0.111,
          0.0978,
          0.08455,
          0.1178,
          0.05263
         ]
        },
        {
         "boxpoints": "outliers",
         "fillcolor": "mediumturquoise",
         "jitter": 0.5,
         "line": {
          "width": 2
         },
         "marker": {
          "size": 3
         },
         "name": "compactness_mean",
         "type": "box",
         "whiskerwidth": 0.2,
         "y": [
          0.2776,
          0.07864,
          0.1599,
          0.2839,
          0.1328,
          0.17,
          0.109,
          0.1645,
          0.1932,
          0.2396,
          0.06669,
          0.1292,
          0.2458,
          0.1002,
          0.2293,
          0.1595,
          0.072,
          0.2022,
          0.1027,
          0.08129,
          0.127,
          0.06492,
          0.2135,
          0.1022,
          0.1457,
          0.2276,
          0.1868,
          0.1066,
          0.1697,
          0.1157,
          0.1887,
          0.1516,
          0.1496,
          0.1719,
          0.1559,
          0.1336,
          0.1098,
          0.03766,
          0.05131,
          0.1255,
          0.06031,
          0.1218,
          0.219,
          0.1436,
          0.1047,
          0.1686,
          0.05943,
          0.1231,
          0.09092,
          0.07698,
          0.04966,
          0.06059,
          0.04751,
          0.1485,
          0.07081,
          0.05473,
          0.1267,
          0.1365,
          0.03789,
          0.05272,
          0.08061,
          0.08963,
          0.2008,
          0.08751,
          0.1262,
          0.1479,
          0.07773,
          0.04701,
          0.1413,
          0.05234,
          0.1029,
          0.1531,
          0.183,
          0.128,
          0.06829,
          0.08424,
          0.1047,
          0.2146,
          0.3454,
          0.09546,
          0.09362,
          0.1535,
          0.2665,
          0.1791,
          0.07165,
          0.1053,
          0.09947,
          0.1206,
          0.09445,
          0.1339,
          0.08606,
          0.1036,
          0.05055,
          0.08165,
          0.1553,
          0.1313,
          0.07057,
          0.05301,
          0.07525,
          0.1141,
          0.08511,
          0.07568,
          0.04038,
          0.09697,
          0.08578,
          0.1765,
          0.1017,
          0.06815,
          0.2768,
          0.06575,
          0.08404,
          0.1209,
          0.2233,
          0.1303,
          0.08201,
          0.07849,
          0.1243,
          0.1649,
          0.1752,
          0.06722,
          0.06685,
          0.11,
          0.2867,
          0.1099,
          0.07325,
          0.06136,
          0.07862,
          0.08028,
          0.1807,
          0.1589,
          0.09509,
          0.1223,
          0.1284,
          0.09462,
          0.09709,
          0.05761,
          0.06095,
          0.06889,
          0.1305,
          0.1136,
          0.04102,
          0.1137,
          0.09486,
          0.09509,
          0.05139,
          0.1296,
          0.17,
          0.1167,
          0.1021,
          0.06376,
          0.07589,
          0.1305,
          0.1599,
          0.05113,
          0.08498,
          0.06679,
          0.1665,
          0.07223,
          0.05241,
          0.03718,
          0.1141,
          0.1185,
          0.1666,
          0.1015,
          0.1145,
          0.05352,
          0.05736,
          0.09182,
          0.1603,
          0.07885,
          0.06981,
          0.06288,
          0.1555,
          0.05743,
          0.04302,
          0.04276,
          0.1294,
          0.1556,
          0.01938,
          0.03774,
          0.1914,
          0.2832,
          0.08799,
          0.08155,
          0.1052,
          0.04695,
          0.08468,
          0.06141,
          0.05562,
          0.07253,
          0.2413,
          0.06601,
          0.02344,
          0.1353,
          0.198,
          0.05366,
          0.1267,
          0.08642,
          0.1428,
          0.1206,
          0.08087,
          0.1198,
          0.2084,
          0.1768,
          0.1058,
          0.09588,
          0.07232,
          0.07304,
          0.1483,
          0.0623,
          0.1348,
          0.069,
          0.1516,
          0.1146,
          0.1306,
          0.1517,
          0.1154,
          0.05907,
          0.1306,
          0.113,
          0.08711,
          0.1192,
          0.08502,
          0.1204,
          0.04994,
          0.07624,
          0.07722,
          0.1096,
          0.07529,
          0.1799,
          0.1572,
          0.03813,
          0.03574,
          0.1074,
          0.04087,
          0.06945,
          0.1682,
          0.08348,
          0.1039,
          0.1298,
          0.0663,
          0.03393,
          0.1325,
          0.06807,
          0.1558,
          0.05971,
          0.04524,
          0.1346,
          0.07234,
          0.07808,
          0.1606,
          0.05991,
          0.1849,
          0.1041,
          0.1188,
          0.1279,
          0.2063,
          0.2284,
          0.3114,
          0.1639,
          0.1088,
          0.0629,
          0.1273,
          0.05616,
          0.08995,
          0.1143,
          0.1147,
          0.08259,
          0.06219,
          0.1289,
          0.02675,
          0.07608,
          0.1961,
          0.04689,
          0.07027,
          0.0721,
          0.03872,
          0.05884,
          0.04052,
          0.07688,
          0.1453,
          0.0434,
          0.1442,
          0.1802,
          0.0958,
          0.04216,
          0.1011,
          0.03729,
          0.1181,
          0.05008,
          0.1676,
          0.09823,
          0.07943,
          0.05642,
          0.08393,
          0.06221,
          0.04721,
          0.05914,
          0.0522,
          0.06797,
          0.1642,
          0.1014,
          0.1838,
          0.06678,
          0.07694,
          0.05688,
          0.05251,
          0.03116,
          0.03614,
          0.03735,
          0.05253,
          0.03515,
          0.07948,
          0.05969,
          0.05847,
          0.03834,
          0.03212,
          0.1117,
          0.1972,
          0.03454,
          0.1111,
          0.08564,
          0.08834,
          0.1875,
          0.06545,
          0.07664,
          0.05306,
          0.03892,
          0.1319,
          0.1283,
          0.1371,
          0.1125,
          0.06779,
          0.04458,
          0.04202,
          0.1056,
          0.09965,
          0.1402,
          0.07326,
          0.1283,
          0.1139,
          0.09228,
          0.09097,
          0.1339,
          0.07281,
          0.09159,
          0.05794,
          0.0778,
          0.05886,
          0.1206,
          0.0363,
          0.2364,
          0.2363,
          0.09769,
          0.06064,
          0.1038,
          0.1304,
          0.05492,
          0.07698,
          0.05956,
          0.0265,
          0.06373,
          0.07952,
          0.08468,
          0.05696,
          0.1131,
          0.1669,
          0.07175,
          0.08562,
          0.1954,
          0.1497,
          0.06934,
          0.1515,
          0.1076,
          0.06374,
          0.1438,
          0.166,
          0.04726,
          0.07548,
          0.2154,
          0.1111,
          0.07079,
          0.1073,
          0.1297,
          0.08575,
          0.06636,
          0.07823,
          0.04831,
          0.1114,
          0.1318,
          0.07542,
          0.07428,
          0.1562,
          0.2087,
          0.09758,
          0.05361,
          0.1147,
          0.08895,
          0.04768,
          0.06232,
          0.2576,
          0.05242,
          0.07899,
          0.08836,
          0.04571,
          0.0746,
          0.08501,
          0.08316,
          0.1304,
          0.06526,
          0.05313,
          0.07804,
          0.06053,
          0.1025,
          0.04605,
          0.0812,
          0.06159,
          0.1571,
          0.05794,
          0.05978,
          0.07722,
          0.1836,
          0.1168,
          0.1147,
          0.08333,
          0.03912,
          0.1013,
          0.05743,
          0.03834,
          0.04522,
          0.2225,
          0.1316,
          0.1489,
          0.1389,
          0.07074,
          0.1133,
          0.07883,
          0.05895,
          0.0633,
          0.05581,
          0.1113,
          0.1109,
          0.06718,
          0.04462,
          0.1232,
          0.09218,
          0.1314,
          0.0889,
          0.078,
          0.1175,
          0.1064,
          0.09871,
          0.0645,
          0.09242,
          0.0543,
          0.07426,
          0.08574,
          0.05205,
          0.05073,
          0.04626,
          0.111,
          0.1988,
          0.05223,
          0.05855,
          0.05994,
          0.1223,
          0.1089,
          0.05428,
          0.2004,
          0.1483,
          0.06258,
          0.06,
          0.08549,
          0.03398,
          0.1069,
          0.08269,
          0.1108,
          0.05319,
          0.08228,
          0.1893,
          0.07838,
          0.05326,
          0.1155,
          0.07957,
          0.1299,
          0.1511,
          0.06698,
          0.1448,
          0.09263,
          0.07112,
          0.052,
          0.06217,
          0.1289,
          0.04043,
          0.05275,
          0.08345,
          0.1334,
          0.0763,
          0.1317,
          0.1644,
          0.1364,
          0.1681,
          0.1085,
          0.1275,
          0.2239,
          0.2204,
          0.1152,
          0.1071,
          0.06712,
          0.187,
          0.09661,
          0.05016,
          0.1469,
          0.08918,
          0.08597,
          0.08499,
          0.1248,
          0.131,
          0.1661,
          0.1117,
          0.1225,
          0.2106,
          0.04413,
          0.107,
          0.08419,
          0.07632,
          0.1138,
          0.06307,
          0.09755,
          0.09009,
          0.09713,
          0.09453,
          0.07255,
          0.1313,
          0.09752,
          0.1739,
          0.1154,
          0.1552,
          0.04878,
          0.1199,
          0.112,
          0.123,
          0.07214,
          0.06877,
          0.1018,
          0.06747,
          0.04994,
          0.08066,
          0.0503,
          0.06602,
          0.04227,
          0.08194,
          0.04234,
          0.05605,
          0.05824,
          0.07658,
          0.07504,
          0.04971,
          0.133,
          0.1021,
          0.1126,
          0.03558,
          0.2087,
          0.2236,
          0.1159,
          0.1034,
          0.1023,
          0.277,
          0.04362
         ]
        },
        {
         "boxpoints": "outliers",
         "fillcolor": "darkorange",
         "jitter": 0.5,
         "line": {
          "width": 2
         },
         "marker": {
          "size": 3
         },
         "name": "concavity_mean",
         "type": "box",
         "whiskerwidth": 0.2,
         "y": [
          0.3001,
          0.0869,
          0.1974,
          0.2414,
          0.198,
          0.1578,
          0.1127,
          0.09366,
          0.1859,
          0.2273,
          0.03299,
          0.09954,
          0.2065,
          0.09938,
          0.2128,
          0.1639,
          0.07395,
          0.1722,
          0.1479,
          0.06664,
          0.04568,
          0.02956,
          0.2077,
          0.1097,
          0.1525,
          0.2229,
          0.1425,
          0.149,
          0.1683,
          0.09875,
          0.2319,
          0.1218,
          0.2417,
          0.1657,
          0.1354,
          0.1348,
          0.1319,
          0.02562,
          0.02398,
          0.1063,
          0.0311,
          0.1044,
          0.2107,
          0.09847,
          0.08259,
          0.1974,
          0.01588,
          0.1226,
          0.06592,
          0.04751,
          0.01657,
          0.01857,
          0.01972,
          0.1772,
          0.05253,
          0.03036,
          0.1323,
          0.1293,
          0.000692,
          0.02061,
          0.01084,
          0.03,
          0.2135,
          0.05988,
          0.1128,
          0.1267,
          0.02172,
          0.03709,
          0.313,
          0.03653,
          0.108,
          0.08606,
          0.1692,
          0.07789,
          0.03372,
          0.09769,
          0.06877,
          0.1684,
          0.3754,
          0.03889,
          0.04591,
          0.1169,
          0.3339,
          0.1937,
          0.04151,
          0.1335,
          0.1204,
          0.1468,
          0.06015,
          0.09966,
          0.03102,
          0.1122,
          0.03261,
          0.03974,
          0.17,
          0.1465,
          0.0249,
          0.006829,
          0.04196,
          0.09388,
          0.08625,
          0,
          0.02383,
          0.06154,
          0.02995,
          0.2071,
          0.0707,
          0.02643,
          0.4264,
          0.05133,
          0.04334,
          0.1065,
          0.3003,
          0.06476,
          0.04132,
          0.03328,
          0.09263,
          0.169,
          0.2133,
          0.07293,
          0.03512,
          0.1457,
          0.4268,
          0.08842,
          0.08092,
          0.0142,
          0.05285,
          0.09271,
          0.1138,
          0.2545,
          0.02855,
          0.1466,
          0.1043,
          0.07135,
          0.1153,
          0.04711,
          0.03592,
          0.03503,
          0.1539,
          0.04635,
          0,
          0.09447,
          0.02031,
          0.04894,
          0.02251,
          0.0371,
          0.1659,
          0.0905,
          0.08487,
          0.02881,
          0.03136,
          0.1321,
          0.4108,
          0.01982,
          0.09293,
          0.03885,
          0.1855,
          0.0515,
          0.01972,
          0.00309,
          0.06843,
          0.1193,
          0.2508,
          0.0537,
          0.1324,
          0.01947,
          0.02531,
          0.08422,
          0.2159,
          0.02602,
          0.03987,
          0.05858,
          0.2032,
          0.02363,
          0,
          0,
          0.1307,
          0.1793,
          0.001595,
          0.009193,
          0.2871,
          0.2487,
          0.06593,
          0.06181,
          0.05375,
          0.001597,
          0.08169,
          0.03809,
          0.02353,
          0.03844,
          0.1981,
          0.03112,
          0,
          0.1085,
          0.1697,
          0.03873,
          0.1385,
          0.1103,
          0.1114,
          0.118,
          0.04187,
          0.1036,
          0.3523,
          0.1558,
          0.08005,
          0.0755,
          0.01756,
          0.0695,
          0.08705,
          0.05892,
          0.164,
          0.02669,
          0.3201,
          0.1682,
          0.1115,
          0.09901,
          0.06636,
          0.05774,
          0.1272,
          0.1145,
          0.03888,
          0.0786,
          0.01768,
          0.1147,
          0.03554,
          0.05724,
          0.006643,
          0.06505,
          0.05438,
          0.1695,
          0.191,
          0.01633,
          0.004967,
          0.1554,
          0.01652,
          0.01462,
          0.195,
          0.09042,
          0.1103,
          0.1417,
          0.04705,
          0.01053,
          0.1548,
          0.04697,
          0.2049,
          0.04831,
          0.04336,
          0.1374,
          0.02379,
          0.04328,
          0.2712,
          0.02638,
          0.2417,
          0.1266,
          0.1379,
          0.09789,
          0.1784,
          0.2448,
          0.3176,
          0.1751,
          0.1519,
          0.02891,
          0.09697,
          0.04209,
          0.09061,
          0.1367,
          0.06387,
          0.04072,
          0.039,
          0.08448,
          0.00725,
          0.03265,
          0.2195,
          0.01103,
          0.05699,
          0.05929,
          0.001487,
          0.0802,
          0.01997,
          0.04479,
          0.1921,
          0.02245,
          0.1626,
          0.1948,
          0.1115,
          0.00186,
          0.06574,
          0.0226,
          0.09274,
          0.02399,
          0.1362,
          0.0594,
          0.06155,
          0.02688,
          0.01288,
          0.01063,
          0.01236,
          0.02685,
          0.02475,
          0.02495,
          0.2197,
          0.0683,
          0.2283,
          0.02297,
          0.03344,
          0.01974,
          0.001461,
          0.003681,
          0.002758,
          0.004559,
          0.01583,
          0.01447,
          0.04052,
          0.01367,
          0,
          0.004473,
          0.01123,
          0.113,
          0.1975,
          0.01342,
          0.06726,
          0.1155,
          0.038,
          0.2565,
          0.01994,
          0.03193,
          0.01765,
          0.001546,
          0.1478,
          0.1799,
          0.1204,
          0.07107,
          0.005006,
          0.0009737,
          0.007756,
          0.1508,
          0.03738,
          0.106,
          0.02511,
          0.2308,
          0.08007,
          0.08422,
          0.05397,
          0.1863,
          0.04006,
          0.03581,
          0.00751,
          0.04608,
          0.02587,
          0.01171,
          0.008306,
          0.2914,
          0.3368,
          0.1235,
          0.04505,
          0.103,
          0.09603,
          0.01502,
          0.04721,
          0.0271,
          0.001194,
          0.03344,
          0.02688,
          0.05862,
          0.02181,
          0.09799,
          0.1641,
          0.04392,
          0.1168,
          0.2448,
          0.1811,
          0.03393,
          0.1932,
          0.1527,
          0.02556,
          0.06651,
          0.228,
          0.01271,
          0.04249,
          0.1689,
          0.079,
          0.03546,
          0.07943,
          0.05892,
          0.05077,
          0.0839,
          0.06839,
          0.02045,
          0.1007,
          0.1856,
          0.01923,
          0,
          0.1891,
          0.281,
          0.04783,
          0.02681,
          0.0858,
          0.0739,
          0.02712,
          0.02853,
          0.3189,
          0.02606,
          0.04057,
          0.03296,
          0.02109,
          0.04944,
          0.055,
          0.06126,
          0.1201,
          0.03211,
          0.02783,
          0.03046,
          0.03735,
          0.06859,
          0.04686,
          0.02555,
          0.02047,
          0.1522,
          0.0236,
          0.008955,
          0.05485,
          0.145,
          0.07097,
          0.09657,
          0.008934,
          0.00247,
          0.06335,
          0.03614,
          0.01369,
          0.01402,
          0.2733,
          0.07741,
          0.2133,
          0.1594,
          0.03346,
          0.1126,
          0.01797,
          0.03534,
          0.01342,
          0.02087,
          0.09457,
          0.1204,
          0.01055,
          0.01993,
          0.109,
          0.05441,
          0.1698,
          0.04069,
          0.08817,
          0.1572,
          0.08777,
          0.1655,
          0.04055,
          0.06895,
          0.02966,
          0.02819,
          0.0716,
          0.02772,
          0.01206,
          0.01541,
          0.1007,
          0.3635,
          0.03476,
          0.03367,
          0.04859,
          0.101,
          0.1085,
          0.01479,
          0.2136,
          0.102,
          0.02948,
          0.02367,
          0.05539,
          0,
          0.05115,
          0.05835,
          0.05063,
          0.02224,
          0.05308,
          0.2236,
          0.02916,
          0.02995,
          0.05786,
          0.04548,
          0.1191,
          0.1544,
          0.05192,
          0.2256,
          0.04279,
          0.03649,
          0.01714,
          0.04445,
          0.117,
          0.007173,
          0.018,
          0.06824,
          0.08017,
          0.03609,
          0.1491,
          0.2188,
          0.07721,
          0.1357,
          0.05928,
          0.1676,
          0.0973,
          0.1188,
          0.08175,
          0.04063,
          0.05526,
          0.203,
          0.06726,
          0.03416,
          0.1445,
          0.08222,
          0.07486,
          0.04302,
          0.1569,
          0.1411,
          0.04825,
          0.0388,
          0.03332,
          0.231,
          0.005067,
          0.05385,
          0.0233,
          0.02565,
          0.04201,
          0.02958,
          0.101,
          0.03781,
          0.05282,
          0.042,
          0.01752,
          0.1523,
          0.05263,
          0.2085,
          0.1463,
          0.04515,
          0,
          0.09252,
          0.06737,
          0.1009,
          0.04105,
          0.02987,
          0.03688,
          0.02974,
          0.01012,
          0.04358,
          0.02337,
          0.01548,
          0,
          0.04824,
          0.01997,
          0.03996,
          0.06195,
          0.05999,
          0.005025,
          0,
          0.1029,
          0.1112,
          0.04462,
          0,
          0.255,
          0.3174,
          0.2439,
          0.144,
          0.09251,
          0.3514,
          0
         ]
        },
        {
         "boxpoints": "outliers",
         "fillcolor": "lightgreen",
         "jitter": 0.5,
         "line": {
          "width": 2
         },
         "marker": {
          "size": 3
         },
         "name": "concave points_mean",
         "type": "box",
         "whiskerwidth": 0.2,
         "y": [
          0.1471,
          0.07017,
          0.1279,
          0.1052,
          0.1043,
          0.08089,
          0.074,
          0.05985,
          0.09353,
          0.08543,
          0.03323,
          0.06606,
          0.1118,
          0.05364,
          0.08025,
          0.07364,
          0.05259,
          0.1028,
          0.09498,
          0.04781,
          0.0311,
          0.02076,
          0.09756,
          0.08632,
          0.0917,
          0.1401,
          0.08783,
          0.07731,
          0.08751,
          0.07953,
          0.1244,
          0.05182,
          0.1203,
          0.07593,
          0.07752,
          0.06018,
          0.05598,
          0.02923,
          0.02899,
          0.05439,
          0.02031,
          0.05669,
          0.09961,
          0.06158,
          0.05252,
          0.1009,
          0.005917,
          0.0734,
          0.02749,
          0.03384,
          0.01115,
          0.01723,
          0.01349,
          0.106,
          0.03334,
          0.02278,
          0.08994,
          0.08123,
          0.004167,
          0.007799,
          0.0129,
          0.009259,
          0.08653,
          0.0218,
          0.06873,
          0.09029,
          0.01504,
          0.0223,
          0.04375,
          0.02864,
          0.07951,
          0.02872,
          0.07944,
          0.05069,
          0.02272,
          0.06638,
          0.06556,
          0.108,
          0.1604,
          0.02315,
          0.02233,
          0.06987,
          0.1845,
          0.1469,
          0.01863,
          0.08795,
          0.04938,
          0.08271,
          0.03745,
          0.07064,
          0.02957,
          0.07483,
          0.02648,
          0.0278,
          0.08815,
          0.08683,
          0.02941,
          0.007937,
          0.0335,
          0.05839,
          0.04489,
          0,
          0.0177,
          0.03029,
          0.01201,
          0.09601,
          0.03485,
          0.01921,
          0.1823,
          0.01899,
          0.01778,
          0.06021,
          0.07798,
          0.03068,
          0.01924,
          0.02008,
          0.02308,
          0.08923,
          0.09479,
          0.05596,
          0.02623,
          0.08665,
          0.2012,
          0.05778,
          0.028,
          0.01141,
          0.03085,
          0.05627,
          0.08534,
          0.1149,
          0.02882,
          0.08087,
          0.05613,
          0.05933,
          0.06847,
          0.02704,
          0.026,
          0.02875,
          0.08624,
          0.04796,
          0,
          0.05943,
          0.01861,
          0.03088,
          0.007875,
          0.03003,
          0.07415,
          0.03562,
          0.05532,
          0.01329,
          0.02645,
          0.02168,
          0.07857,
          0.01786,
          0.03483,
          0.02331,
          0.1054,
          0.02771,
          0.01963,
          0.006588,
          0.03738,
          0.09667,
          0.1286,
          0.02822,
          0.09702,
          0.01939,
          0.01698,
          0.06576,
          0.1043,
          0.03781,
          0.037,
          0.03438,
          0.1097,
          0.02583,
          0,
          0,
          0.03716,
          0.08866,
          0.001852,
          0.0133,
          0.1878,
          0.1496,
          0.05189,
          0.02361,
          0.03263,
          0.002404,
          0.05814,
          0.03239,
          0.01553,
          0.01654,
          0.06618,
          0.02864,
          0,
          0.04562,
          0.08878,
          0.02377,
          0.06526,
          0.05778,
          0.06772,
          0.0598,
          0.04107,
          0.07488,
          0.162,
          0.09176,
          0.03821,
          0.04079,
          0.01952,
          0.0539,
          0.05102,
          0.03157,
          0.09561,
          0.01393,
          0.1595,
          0.06597,
          0.06462,
          0.05602,
          0.03142,
          0.01071,
          0.08691,
          0.06637,
          0.02563,
          0.04451,
          0.01915,
          0.06462,
          0.02456,
          0.04603,
          0.01216,
          0.0378,
          0.02036,
          0.06861,
          0.109,
          0.003125,
          0.006434,
          0.0834,
          0.01667,
          0.01896,
          0.1237,
          0.06022,
          0.04408,
          0.08811,
          0.03731,
          0.01108,
          0.02854,
          0.02344,
          0.08886,
          0.0307,
          0.01105,
          0.0398,
          0.01615,
          0.02929,
          0.131,
          0.02069,
          0.0974,
          0.08353,
          0.08591,
          0.05246,
          0.1144,
          0.1242,
          0.1377,
          0.08399,
          0.09333,
          0.02837,
          0.07507,
          0.02847,
          0.06527,
          0.08646,
          0.02642,
          0.02142,
          0.01615,
          0.02867,
          0.00625,
          0.02755,
          0.1088,
          0.01407,
          0.04744,
          0.07404,
          0.003333,
          0.05843,
          0.01238,
          0.03711,
          0.09664,
          0.02763,
          0.09464,
          0.09052,
          0.0339,
          0.002924,
          0.03791,
          0.01171,
          0.05588,
          0.02173,
          0.06602,
          0.04819,
          0.0337,
          0.0228,
          0.01924,
          0.01917,
          0.01369,
          0.03515,
          0.01374,
          0.01875,
          0.1062,
          0.03099,
          0.128,
          0.0178,
          0.01502,
          0.01313,
          0.003261,
          0.003472,
          0.004419,
          0.008829,
          0.01148,
          0.01877,
          0.02548,
          0.008907,
          0,
          0.006423,
          0.005051,
          0.0795,
          0.04908,
          0.01699,
          0.03965,
          0.07726,
          0.034,
          0.1504,
          0.01692,
          0.02107,
          0.02733,
          0.005592,
          0.08488,
          0.07981,
          0.07041,
          0.0295,
          0.007583,
          0.002941,
          0.008535,
          0.09934,
          0.02098,
          0.0609,
          0.01775,
          0.141,
          0.04223,
          0.02292,
          0.03341,
          0.1103,
          0.0325,
          0.02037,
          0.008488,
          0.03528,
          0.02322,
          0.01787,
          0.01162,
          0.1242,
          0.1913,
          0.06553,
          0.01471,
          0.04391,
          0.05603,
          0.02088,
          0.02381,
          0.01406,
          0.005449,
          0.02424,
          0.01781,
          0.04835,
          0.01473,
          0.07785,
          0.1265,
          0.02027,
          0.08465,
          0.1501,
          0.08773,
          0.02657,
          0.1255,
          0.08941,
          0.02031,
          0.05397,
          0.05941,
          0.01117,
          0.02471,
          0.06367,
          0.0555,
          0.02074,
          0.02978,
          0.0288,
          0.02864,
          0.05271,
          0.02534,
          0.008507,
          0.02757,
          0.1021,
          0.01968,
          0,
          0.09113,
          0.1562,
          0.03326,
          0.03251,
          0.05381,
          0.04083,
          0.007246,
          0.01638,
          0.1198,
          0.01796,
          0.01883,
          0.0239,
          0.02054,
          0.02932,
          0.04528,
          0.01867,
          0.08824,
          0.02653,
          0.021,
          0.0248,
          0.005128,
          0.03876,
          0.02739,
          0.02179,
          0.01257,
          0.08481,
          0.02402,
          0.01076,
          0.01428,
          0.063,
          0.04497,
          0.04812,
          0.01967,
          0.005159,
          0.02218,
          0.01404,
          0.0137,
          0.01835,
          0.09711,
          0.02799,
          0.1259,
          0.08744,
          0.02877,
          0.06463,
          0.0209,
          0.02944,
          0.02293,
          0.02652,
          0.03613,
          0.05736,
          0.009937,
          0.01111,
          0.06254,
          0.04274,
          0.08293,
          0.0226,
          0.02925,
          0.1155,
          0.02386,
          0.09063,
          0.01945,
          0.06495,
          0.02272,
          0.03264,
          0.02017,
          0.02068,
          0.01762,
          0.01043,
          0.06431,
          0.1689,
          0.01737,
          0.01777,
          0.0287,
          0.02833,
          0.0351,
          0.005769,
          0.1002,
          0.05564,
          0.01514,
          0.02377,
          0.03221,
          0,
          0.01571,
          0.03078,
          0.03058,
          0.01339,
          0.01969,
          0.09194,
          0.01527,
          0.0207,
          0.05266,
          0.0316,
          0.06211,
          0.04846,
          0.02791,
          0.1194,
          0.03132,
          0.02307,
          0.01261,
          0.04178,
          0.07762,
          0.01149,
          0.01256,
          0.04951,
          0.05074,
          0.02369,
          0.09183,
          0.1121,
          0.06142,
          0.06759,
          0.03279,
          0.1003,
          0.05252,
          0.07038,
          0.02166,
          0.04268,
          0.04563,
          0.0852,
          0.02639,
          0.02541,
          0.08172,
          0.04349,
          0.04335,
          0.02594,
          0.09451,
          0.09431,
          0.05303,
          0.02995,
          0.02421,
          0.1471,
          0.005664,
          0.03783,
          0.02416,
          0.0151,
          0.03152,
          0.02647,
          0.06615,
          0.02798,
          0.0444,
          0.02157,
          0.0188,
          0.1015,
          0.02788,
          0.1322,
          0.06139,
          0.04531,
          0,
          0.01364,
          0.02594,
          0.0389,
          0.03027,
          0.03275,
          0.02369,
          0.02443,
          0.005495,
          0.02438,
          0.009615,
          0.00816,
          0,
          0.02257,
          0.01499,
          0.01282,
          0.02343,
          0.02738,
          0.01116,
          0,
          0.03736,
          0.04105,
          0.04304,
          0,
          0.09429,
          0.1474,
          0.1389,
          0.09791,
          0.05302,
          0.152,
          0
         ]
        },
        {
         "boxpoints": "outliers",
         "fillcolor": "cyan",
         "jitter": 0.5,
         "line": {
          "width": 2
         },
         "marker": {
          "size": 3
         },
         "name": "symmetry_mean",
         "type": "box",
         "whiskerwidth": 0.2,
         "y": [
          0.2419,
          0.1812,
          0.2069,
          0.2597,
          0.1809,
          0.2087,
          0.1794,
          0.2196,
          0.235,
          0.203,
          0.1528,
          0.1842,
          0.2397,
          0.1847,
          0.2069,
          0.2303,
          0.1586,
          0.2164,
          0.1582,
          0.1885,
          0.1967,
          0.1815,
          0.2521,
          0.1769,
          0.1995,
          0.304,
          0.2252,
          0.1697,
          0.1926,
          0.1739,
          0.2183,
          0.2301,
          0.2248,
          0.1853,
          0.1998,
          0.1896,
          0.1885,
          0.1467,
          0.1565,
          0.172,
          0.1784,
          0.1895,
          0.231,
          0.1974,
          0.1746,
          0.1907,
          0.1769,
          0.2128,
          0.1675,
          0.1809,
          0.1495,
          0.1353,
          0.1868,
          0.2092,
          0.1616,
          0.192,
          0.1917,
          0.2027,
          0.1819,
          0.1683,
          0.2743,
          0.1828,
          0.1949,
          0.2341,
          0.1905,
          0.1953,
          0.1717,
          0.1516,
          0.2111,
          0.159,
          0.1582,
          0.1902,
          0.1927,
          0.1662,
          0.172,
          0.1798,
          0.2403,
          0.2152,
          0.2906,
          0.1718,
          0.1842,
          0.1942,
          0.1829,
          0.1634,
          0.2079,
          0.2132,
          0.2075,
          0.1953,
          0.193,
          0.2116,
          0.1685,
          0.1717,
          0.1386,
          0.1638,
          0.1855,
          0.2095,
          0.19,
          0.135,
          0.162,
          0.1879,
          0.1609,
          0.193,
          0.1739,
          0.1945,
          0.2217,
          0.1925,
          0.1801,
          0.1602,
          0.2556,
          0.1487,
          0.1584,
          0.1735,
          0.1704,
          0.1922,
          0.1649,
          0.1688,
          0.1305,
          0.2157,
          0.2096,
          0.2129,
          0.1667,
          0.1966,
          0.2655,
          0.1856,
          0.1422,
          0.1614,
          0.1761,
          0.1946,
          0.2001,
          0.2202,
          0.188,
          0.1931,
          0.216,
          0.1816,
          0.1692,
          0.1585,
          0.1339,
          0.1734,
          0.1957,
          0.1771,
          0.1903,
          0.1861,
          0.1645,
          0.1778,
          0.1399,
          0.1995,
          0.2678,
          0.1744,
          0.1724,
          0.1473,
          0.254,
          0.2222,
          0.2548,
          0.183,
          0.1822,
          0.197,
          0.1971,
          0.1844,
          0.159,
          0.1442,
          0.1993,
          0.1741,
          0.2027,
          0.1551,
          0.1801,
          0.1515,
          0.1381,
          0.1893,
          0.1538,
          0.178,
          0.1959,
          0.1598,
          0.1966,
          0.1566,
          0.1928,
          0.1722,
          0.1669,
          0.1794,
          0.1395,
          0.1466,
          0.18,
          0.2395,
          0.1618,
          0.1167,
          0.1727,
          0.1703,
          0.1621,
          0.1516,
          0.1718,
          0.1667,
          0.2384,
          0.1694,
          0.1653,
          0.1943,
          0.1737,
          0.1829,
          0.1834,
          0.177,
          0.1767,
          0.195,
          0.1979,
          0.1506,
          0.22,
          0.2251,
          0.1925,
          0.1594,
          0.1934,
          0.2026,
          0.185,
          0.1359,
          0.1765,
          0.1533,
          0.1648,
          0.1308,
          0.2235,
          0.2106,
          0.1967,
          0.1964,
          0.2094,
          0.1428,
          0.136,
          0.1962,
          0.191,
          0.1935,
          0.1496,
          0.2075,
          0.1788,
          0.1881,
          0.1514,
          0.2123,
          0.2131,
          0.1869,
          0.1845,
          0.1448,
          0.1551,
          0.1517,
          0.1909,
          0.1467,
          0.1342,
          0.1809,
          0.1717,
          0.1546,
          0.2054,
          0.1773,
          0.1978,
          0.1737,
          0.1487,
          0.1596,
          0.1897,
          0.1883,
          0.2205,
          0.1834,
          0.1733,
          0.1813,
          0.1776,
          0.1908,
          0.1893,
          0.2398,
          0.2495,
          0.2091,
          0.1814,
          0.1564,
          0.2108,
          0.1547,
          0.1867,
          0.1769,
          0.1922,
          0.1635,
          0.201,
          0.1668,
          0.1508,
          0.1769,
          0.1721,
          0.2081,
          0.1538,
          0.2015,
          0.1954,
          0.155,
          0.1573,
          0.211,
          0.1902,
          0.2101,
          0.1893,
          0.1876,
          0.1432,
          0.1697,
          0.1588,
          0.1337,
          0.2595,
          0.2013,
          0.1714,
          0.1879,
          0.173,
          0.1875,
          0.1638,
          0.1592,
          0.1449,
          0.1619,
          0.1635,
          0.1695,
          0.1792,
          0.1781,
          0.2249,
          0.1482,
          0.1411,
          0.1935,
          0.1632,
          0.1788,
          0.1365,
          0.1453,
          0.1936,
          0.1632,
          0.1601,
          0.1833,
          0.2163,
          0.1215,
          0.1673,
          0.1807,
          0.233,
          0.1472,
          0.1743,
          0.1928,
          0.1543,
          0.2569,
          0.1638,
          0.1707,
          0.1373,
          0.1382,
          0.1948,
          0.1869,
          0.1782,
          0.1761,
          0.194,
          0.1773,
          0.1539,
          0.1727,
          0.1652,
          0.1953,
          0.189,
          0.1797,
          0.1912,
          0.2036,
          0.1776,
          0.2082,
          0.2009,
          0.1633,
          0.1555,
          0.1521,
          0.1634,
          0.2459,
          0.1671,
          0.2375,
          0.1956,
          0.1647,
          0.169,
          0.1533,
          0.2035,
          0.1424,
          0.193,
          0.1506,
          0.1528,
          0.1815,
          0.1759,
          0.1495,
          0.165,
          0.1618,
          0.1875,
          0.1695,
          0.1717,
          0.1824,
          0.2175,
          0.1721,
          0.1973,
          0.1571,
          0.1872,
          0.199,
          0.2188,
          0.1421,
          0.1792,
          0.2196,
          0.2018,
          0.2003,
          0.1203,
          0.1779,
          0.1617,
          0.1627,
          0.1646,
          0.1607,
          0.181,
          0.1989,
          0.18,
          0.1985,
          0.1929,
          0.2162,
          0.1937,
          0.1641,
          0.1806,
          0.1574,
          0.1535,
          0.1847,
          0.2113,
          0.1601,
          0.1874,
          0.1735,
          0.1571,
          0.1486,
          0.1735,
          0.158,
          0.1992,
          0.1966,
          0.1601,
          0.1714,
          0.1274,
          0.1944,
          0.1852,
          0.2019,
          0.2025,
          0.2085,
          0.1583,
          0.1615,
          0.2031,
          0.2086,
          0.1886,
          0.1848,
          0.2538,
          0.163,
          0.1925,
          0.2016,
          0.1511,
          0.1459,
          0.2041,
          0.1811,
          0.1724,
          0.1943,
          0.1573,
          0.1669,
          0.1861,
          0.1714,
          0.1555,
          0.1589,
          0.1489,
          0.1467,
          0.1405,
          0.2372,
          0.172,
          0.182,
          0.1713,
          0.1893,
          0.1473,
          0.1554,
          0.1349,
          0.1663,
          0.1615,
          0.165,
          0.1799,
          0.1375,
          0.1799,
          0.1619,
          0.1667,
          0.1621,
          0.1793,
          0.2061,
          0.1707,
          0.1516,
          0.1454,
          0.1601,
          0.1562,
          0.168,
          0.1696,
          0.1957,
          0.2238,
          0.1854,
          0.1687,
          0.1701,
          0.1861,
          0.1705,
          0.1506,
          0.1813,
          0.1779,
          0.2151,
          0.1464,
          0.1579,
          0.1779,
          0.1732,
          0.1784,
          0.2082,
          0.1409,
          0.1823,
          0.1853,
          0.1846,
          0.1544,
          0.122,
          0.2116,
          0.1613,
          0.1713,
          0.1487,
          0.1641,
          0.1526,
          0.1832,
          0.1848,
          0.1668,
          0.2275,
          0.1943,
          0.1505,
          0.2378,
          0.2057,
          0.2124,
          0.1954,
          0.1711,
          0.1807,
          0.1499,
          0.1659,
          0.2116,
          0.1739,
          0.1561,
          0.1927,
          0.186,
          0.1802,
          0.1709,
          0.212,
          0.2197,
          0.1991,
          0.1637,
          0.1714,
          0.1387,
          0.1678,
          0.1723,
          0.1689,
          0.1976,
          0.1657,
          0.1598,
          0.1859,
          0.1631,
          0.2166,
          0.1619,
          0.2127,
          0.1926,
          0.2131,
          0.187,
          0.2037,
          0.1818,
          0.1872,
          0.184,
          0.1628,
          0.162,
          0.1664,
          0.1885,
          0.1669,
          0.158,
          0.1976,
          0.1661,
          0.203,
          0.1539,
          0.1692,
          0.1566,
          0.1593,
          0.1791,
          0.1742,
          0.1454,
          0.1388,
          0.1537,
          0.106,
          0.2128,
          0.2149,
          0.1726,
          0.1752,
          0.159,
          0.2397,
          0.1587
         ]
        },
        {
         "boxpoints": "outliers",
         "fillcolor": "royalblue",
         "jitter": 0.5,
         "line": {
          "width": 2
         },
         "marker": {
          "size": 3
         },
         "name": "fractal_dimension_mean",
         "type": "box",
         "whiskerwidth": 0.2,
         "y": [
          0.07871,
          0.05667,
          0.05999,
          0.09744,
          0.05883,
          0.07613,
          0.05742,
          0.07451,
          0.07389,
          0.08243,
          0.05697,
          0.06082,
          0.078,
          0.05338,
          0.07682,
          0.07077,
          0.05922,
          0.07356,
          0.05395,
          0.05766,
          0.06811,
          0.06905,
          0.07032,
          0.05278,
          0.0633,
          0.07413,
          0.06924,
          0.05699,
          0.0654,
          0.06149,
          0.06197,
          0.07799,
          0.06382,
          0.06261,
          0.06515,
          0.05656,
          0.06125,
          0.05863,
          0.05504,
          0.06419,
          0.05587,
          0.0687,
          0.06343,
          0.06782,
          0.06177,
          0.06049,
          0.06503,
          0.06777,
          0.06043,
          0.05718,
          0.05888,
          0.05953,
          0.0611,
          0.0631,
          0.05684,
          0.05907,
          0.05961,
          0.06758,
          0.05501,
          0.07187,
          0.0696,
          0.06757,
          0.07292,
          0.06963,
          0.0659,
          0.06654,
          0.06899,
          0.05667,
          0.08046,
          0.05653,
          0.05461,
          0.0898,
          0.06487,
          0.06566,
          0.05914,
          0.05391,
          0.06641,
          0.06673,
          0.08142,
          0.05997,
          0.07005,
          0.06902,
          0.06782,
          0.07224,
          0.05968,
          0.06022,
          0.05636,
          0.05629,
          0.06404,
          0.06346,
          0.05866,
          0.06097,
          0.05318,
          0.0571,
          0.06284,
          0.05649,
          0.06635,
          0.0689,
          0.06582,
          0.0639,
          0.05871,
          0.07818,
          0.05677,
          0.06322,
          0.06481,
          0.07692,
          0.0652,
          0.06066,
          0.07039,
          0.06529,
          0.07065,
          0.0707,
          0.07769,
          0.07782,
          0.07633,
          0.06194,
          0.07163,
          0.06768,
          0.07331,
          0.05025,
          0.06113,
          0.06213,
          0.06877,
          0.06402,
          0.05823,
          0.0589,
          0.0613,
          0.05044,
          0.06467,
          0.06113,
          0.06471,
          0.05796,
          0.05891,
          0.05723,
          0.05727,
          0.06065,
          0.05945,
          0.05865,
          0.06216,
          0.06072,
          0.06422,
          0.06248,
          0.06562,
          0.06235,
          0.05688,
          0.07839,
          0.07371,
          0.06493,
          0.06081,
          0.0558,
          0.06087,
          0.08261,
          0.09296,
          0.06105,
          0.06207,
          0.06228,
          0.06166,
          0.05268,
          0.05907,
          0.05743,
          0.06453,
          0.05176,
          0.06082,
          0.06761,
          0.05553,
          0.05266,
          0.064,
          0.05534,
          0.06365,
          0.0565,
          0.05955,
          0.05671,
          0.07069,
          0.06669,
          0.05975,
          0.06724,
          0.08116,
          0.06323,
          0.05234,
          0.06133,
          0.0577,
          0.07398,
          0.05549,
          0.06217,
          0.06317,
          0.06048,
          0.05425,
          0.06095,
          0.0578,
          0.05474,
          0.07542,
          0.06287,
          0.06447,
          0.06937,
          0.06672,
          0.05667,
          0.06877,
          0.0534,
          0.05529,
          0.06466,
          0.06013,
          0.05491,
          0.06229,
          0.07421,
          0.06373,
          0.05986,
          0.06285,
          0.05223,
          0.0731,
          0.05526,
          0.05024,
          0.06057,
          0.05525,
          0.05866,
          0.06433,
          0.06916,
          0.06314,
          0.06315,
          0.05581,
          0.05313,
          0.06344,
          0.06303,
          0.06908,
          0.06303,
          0.05674,
          0.05448,
          0.0645,
          0.05907,
          0.06019,
          0.07254,
          0.06325,
          0.05628,
          0.05828,
          0.05592,
          0.06403,
          0.05835,
          0.06309,
          0.05177,
          0.06129,
          0.05966,
          0.0566,
          0.05754,
          0.07669,
          0.05429,
          0.06,
          0.0644,
          0.05635,
          0.06409,
          0.06329,
          0.06168,
          0.05898,
          0.05934,
          0.06697,
          0.05613,
          0.05647,
          0.0613,
          0.06232,
          0.07596,
          0.08104,
          0.0665,
          0.05572,
          0.05307,
          0.05464,
          0.05443,
          0.0558,
          0.05674,
          0.06491,
          0.05859,
          0.05769,
          0.06862,
          0.05376,
          0.0627,
          0.06194,
          0.06312,
          0.0551,
          0.05875,
          0.05821,
          0.04996,
          0.0552,
          0.05853,
          0.0622,
          0.06113,
          0.05892,
          0.06684,
          0.05935,
          0.05855,
          0.06766,
          0.05581,
          0.06233,
          0.05955,
          0.07192,
          0.05852,
          0.0647,
          0.05715,
          0.061,
          0.05912,
          0.06031,
          0.06287,
          0.05586,
          0.06556,
          0.06552,
          0.06249,
          0.07469,
          0.066,
          0.06243,
          0.05878,
          0.05894,
          0.06833,
          0.05335,
          0.05518,
          0.06128,
          0.05255,
          0.0614,
          0.061,
          0.07359,
          0.05673,
          0.05649,
          0.05664,
          0.08743,
          0.05561,
          0.07279,
          0.05096,
          0.06476,
          0.0667,
          0.06129,
          0.05984,
          0.057,
          0.0607,
          0.06277,
          0.06532,
          0.05976,
          0.0654,
          0.06028,
          0.06081,
          0.05945,
          0.06071,
          0.07238,
          0.06083,
          0.06331,
          0.05506,
          0.06412,
          0.07125,
          0.06907,
          0.05715,
          0.06506,
          0.07005,
          0.06048,
          0.05912,
          0.06372,
          0.06581,
          0.05731,
          0.07603,
          0.06121,
          0.06464,
          0.06083,
          0.06184,
          0.06501,
          0.05883,
          0.06621,
          0.06959,
          0.05185,
          0.05696,
          0.06183,
          0.05593,
          0.05701,
          0.05557,
          0.0602,
          0.05916,
          0.05054,
          0.0614,
          0.06218,
          0.05544,
          0.06183,
          0.05478,
          0.05669,
          0.06572,
          0.0845,
          0.05763,
          0.05897,
          0.0795,
          0.06914,
          0.06246,
          0.06659,
          0.06588,
          0.05594,
          0.05416,
          0.06154,
          0.05474,
          0.07252,
          0.05884,
          0.06569,
          0.07098,
          0.06744,
          0.06606,
          0.06161,
          0.05764,
          0.06079,
          0.0575,
          0.06214,
          0.06019,
          0.07115,
          0.05541,
          0.05899,
          0.062,
          0.05708,
          0.06615,
          0.05875,
          0.06114,
          0.06069,
          0.05597,
          0.05913,
          0.0634,
          0.06724,
          0.05913,
          0.05294,
          0.0629,
          0.06601,
          0.06864,
          0.06275,
          0.06144,
          0.06267,
          0.07406,
          0.0632,
          0.06181,
          0.07029,
          0.06439,
          0.06915,
          0.05977,
          0.06148,
          0.05544,
          0.06898,
          0.07102,
          0.06053,
          0.06132,
          0.05703,
          0.06544,
          0.06347,
          0.05898,
          0.05673,
          0.05586,
          0.0664,
          0.05407,
          0.05848,
          0.05768,
          0.0578,
          0.0685,
          0.05916,
          0.05886,
          0.05746,
          0.05661,
          0.06612,
          0.05391,
          0.06104,
          0.06121,
          0.05826,
          0.06016,
          0.06166,
          0.05584,
          0.05449,
          0.05952,
          0.06281,
          0.05623,
          0.05433,
          0.05859,
          0.05549,
          0.06432,
          0.0602,
          0.06412,
          0.07369,
          0.07255,
          0.06413,
          0.05698,
          0.05669,
          0.0596,
          0.06837,
          0.05913,
          0.06009,
          0.05536,
          0.06574,
          0.06578,
          0.06284,
          0.05594,
          0.06639,
          0.06088,
          0.06259,
          0.07325,
          0.05355,
          0.06115,
          0.06401,
          0.05325,
          0.05976,
          0.05243,
          0.06077,
          0.06013,
          0.05888,
          0.05748,
          0.06854,
          0.06046,
          0.06697,
          0.06222,
          0.06869,
          0.07237,
          0.06612,
          0.05484,
          0.09502,
          0.09575,
          0.06894,
          0.07976,
          0.05657,
          0.07083,
          0.06758,
          0.05348,
          0.07325,
          0.0564,
          0.05915,
          0.06211,
          0.05941,
          0.06188,
          0.07253,
          0.06623,
          0.07696,
          0.06739,
          0.06343,
          0.06843,
          0.06891,
          0.07126,
          0.06317,
          0.05808,
          0.06457,
          0.06608,
          0.06677,
          0.06461,
          0.06155,
          0.05419,
          0.06408,
          0.06251,
          0.05982,
          0.07405,
          0.07285,
          0.07751,
          0.06782,
          0.06341,
          0.0568,
          0.05781,
          0.06688,
          0.05801,
          0.06201,
          0.06714,
          0.06235,
          0.06328,
          0.05948,
          0.06552,
          0.05637,
          0.06576,
          0.05708,
          0.06127,
          0.06331,
          0.06059,
          0.06147,
          0.0657,
          0.06171,
          0.05502,
          0.07152,
          0.06879,
          0.05623,
          0.05533,
          0.05648,
          0.07016,
          0.05884
         ]
        }
       ],
       "layout": {
        "template": {
         "data": {
          "bar": [
           {
            "error_x": {
             "color": "#2a3f5f"
            },
            "error_y": {
             "color": "#2a3f5f"
            },
            "marker": {
             "line": {
              "color": "#E5ECF6",
              "width": 0.5
             },
             "pattern": {
              "fillmode": "overlay",
              "size": 10,
              "solidity": 0.2
             }
            },
            "type": "bar"
           }
          ],
          "barpolar": [
           {
            "marker": {
             "line": {
              "color": "#E5ECF6",
              "width": 0.5
             },
             "pattern": {
              "fillmode": "overlay",
              "size": 10,
              "solidity": 0.2
             }
            },
            "type": "barpolar"
           }
          ],
          "carpet": [
           {
            "aaxis": {
             "endlinecolor": "#2a3f5f",
             "gridcolor": "white",
             "linecolor": "white",
             "minorgridcolor": "white",
             "startlinecolor": "#2a3f5f"
            },
            "baxis": {
             "endlinecolor": "#2a3f5f",
             "gridcolor": "white",
             "linecolor": "white",
             "minorgridcolor": "white",
             "startlinecolor": "#2a3f5f"
            },
            "type": "carpet"
           }
          ],
          "choropleth": [
           {
            "colorbar": {
             "outlinewidth": 0,
             "ticks": ""
            },
            "type": "choropleth"
           }
          ],
          "contour": [
           {
            "colorbar": {
             "outlinewidth": 0,
             "ticks": ""
            },
            "colorscale": [
             [
              0,
              "#0d0887"
             ],
             [
              0.1111111111111111,
              "#46039f"
             ],
             [
              0.2222222222222222,
              "#7201a8"
             ],
             [
              0.3333333333333333,
              "#9c179e"
             ],
             [
              0.4444444444444444,
              "#bd3786"
             ],
             [
              0.5555555555555556,
              "#d8576b"
             ],
             [
              0.6666666666666666,
              "#ed7953"
             ],
             [
              0.7777777777777778,
              "#fb9f3a"
             ],
             [
              0.8888888888888888,
              "#fdca26"
             ],
             [
              1,
              "#f0f921"
             ]
            ],
            "type": "contour"
           }
          ],
          "contourcarpet": [
           {
            "colorbar": {
             "outlinewidth": 0,
             "ticks": ""
            },
            "type": "contourcarpet"
           }
          ],
          "heatmap": [
           {
            "colorbar": {
             "outlinewidth": 0,
             "ticks": ""
            },
            "colorscale": [
             [
              0,
              "#0d0887"
             ],
             [
              0.1111111111111111,
              "#46039f"
             ],
             [
              0.2222222222222222,
              "#7201a8"
             ],
             [
              0.3333333333333333,
              "#9c179e"
             ],
             [
              0.4444444444444444,
              "#bd3786"
             ],
             [
              0.5555555555555556,
              "#d8576b"
             ],
             [
              0.6666666666666666,
              "#ed7953"
             ],
             [
              0.7777777777777778,
              "#fb9f3a"
             ],
             [
              0.8888888888888888,
              "#fdca26"
             ],
             [
              1,
              "#f0f921"
             ]
            ],
            "type": "heatmap"
           }
          ],
          "heatmapgl": [
           {
            "colorbar": {
             "outlinewidth": 0,
             "ticks": ""
            },
            "colorscale": [
             [
              0,
              "#0d0887"
             ],
             [
              0.1111111111111111,
              "#46039f"
             ],
             [
              0.2222222222222222,
              "#7201a8"
             ],
             [
              0.3333333333333333,
              "#9c179e"
             ],
             [
              0.4444444444444444,
              "#bd3786"
             ],
             [
              0.5555555555555556,
              "#d8576b"
             ],
             [
              0.6666666666666666,
              "#ed7953"
             ],
             [
              0.7777777777777778,
              "#fb9f3a"
             ],
             [
              0.8888888888888888,
              "#fdca26"
             ],
             [
              1,
              "#f0f921"
             ]
            ],
            "type": "heatmapgl"
           }
          ],
          "histogram": [
           {
            "marker": {
             "pattern": {
              "fillmode": "overlay",
              "size": 10,
              "solidity": 0.2
             }
            },
            "type": "histogram"
           }
          ],
          "histogram2d": [
           {
            "colorbar": {
             "outlinewidth": 0,
             "ticks": ""
            },
            "colorscale": [
             [
              0,
              "#0d0887"
             ],
             [
              0.1111111111111111,
              "#46039f"
             ],
             [
              0.2222222222222222,
              "#7201a8"
             ],
             [
              0.3333333333333333,
              "#9c179e"
             ],
             [
              0.4444444444444444,
              "#bd3786"
             ],
             [
              0.5555555555555556,
              "#d8576b"
             ],
             [
              0.6666666666666666,
              "#ed7953"
             ],
             [
              0.7777777777777778,
              "#fb9f3a"
             ],
             [
              0.8888888888888888,
              "#fdca26"
             ],
             [
              1,
              "#f0f921"
             ]
            ],
            "type": "histogram2d"
           }
          ],
          "histogram2dcontour": [
           {
            "colorbar": {
             "outlinewidth": 0,
             "ticks": ""
            },
            "colorscale": [
             [
              0,
              "#0d0887"
             ],
             [
              0.1111111111111111,
              "#46039f"
             ],
             [
              0.2222222222222222,
              "#7201a8"
             ],
             [
              0.3333333333333333,
              "#9c179e"
             ],
             [
              0.4444444444444444,
              "#bd3786"
             ],
             [
              0.5555555555555556,
              "#d8576b"
             ],
             [
              0.6666666666666666,
              "#ed7953"
             ],
             [
              0.7777777777777778,
              "#fb9f3a"
             ],
             [
              0.8888888888888888,
              "#fdca26"
             ],
             [
              1,
              "#f0f921"
             ]
            ],
            "type": "histogram2dcontour"
           }
          ],
          "mesh3d": [
           {
            "colorbar": {
             "outlinewidth": 0,
             "ticks": ""
            },
            "type": "mesh3d"
           }
          ],
          "parcoords": [
           {
            "line": {
             "colorbar": {
              "outlinewidth": 0,
              "ticks": ""
             }
            },
            "type": "parcoords"
           }
          ],
          "pie": [
           {
            "automargin": true,
            "type": "pie"
           }
          ],
          "scatter": [
           {
            "fillpattern": {
             "fillmode": "overlay",
             "size": 10,
             "solidity": 0.2
            },
            "type": "scatter"
           }
          ],
          "scatter3d": [
           {
            "line": {
             "colorbar": {
              "outlinewidth": 0,
              "ticks": ""
             }
            },
            "marker": {
             "colorbar": {
              "outlinewidth": 0,
              "ticks": ""
             }
            },
            "type": "scatter3d"
           }
          ],
          "scattercarpet": [
           {
            "marker": {
             "colorbar": {
              "outlinewidth": 0,
              "ticks": ""
             }
            },
            "type": "scattercarpet"
           }
          ],
          "scattergeo": [
           {
            "marker": {
             "colorbar": {
              "outlinewidth": 0,
              "ticks": ""
             }
            },
            "type": "scattergeo"
           }
          ],
          "scattergl": [
           {
            "marker": {
             "colorbar": {
              "outlinewidth": 0,
              "ticks": ""
             }
            },
            "type": "scattergl"
           }
          ],
          "scattermapbox": [
           {
            "marker": {
             "colorbar": {
              "outlinewidth": 0,
              "ticks": ""
             }
            },
            "type": "scattermapbox"
           }
          ],
          "scatterpolar": [
           {
            "marker": {
             "colorbar": {
              "outlinewidth": 0,
              "ticks": ""
             }
            },
            "type": "scatterpolar"
           }
          ],
          "scatterpolargl": [
           {
            "marker": {
             "colorbar": {
              "outlinewidth": 0,
              "ticks": ""
             }
            },
            "type": "scatterpolargl"
           }
          ],
          "scatterternary": [
           {
            "marker": {
             "colorbar": {
              "outlinewidth": 0,
              "ticks": ""
             }
            },
            "type": "scatterternary"
           }
          ],
          "surface": [
           {
            "colorbar": {
             "outlinewidth": 0,
             "ticks": ""
            },
            "colorscale": [
             [
              0,
              "#0d0887"
             ],
             [
              0.1111111111111111,
              "#46039f"
             ],
             [
              0.2222222222222222,
              "#7201a8"
             ],
             [
              0.3333333333333333,
              "#9c179e"
             ],
             [
              0.4444444444444444,
              "#bd3786"
             ],
             [
              0.5555555555555556,
              "#d8576b"
             ],
             [
              0.6666666666666666,
              "#ed7953"
             ],
             [
              0.7777777777777778,
              "#fb9f3a"
             ],
             [
              0.8888888888888888,
              "#fdca26"
             ],
             [
              1,
              "#f0f921"
             ]
            ],
            "type": "surface"
           }
          ],
          "table": [
           {
            "cells": {
             "fill": {
              "color": "#EBF0F8"
             },
             "line": {
              "color": "white"
             }
            },
            "header": {
             "fill": {
              "color": "#C8D4E3"
             },
             "line": {
              "color": "white"
             }
            },
            "type": "table"
           }
          ]
         },
         "layout": {
          "annotationdefaults": {
           "arrowcolor": "#2a3f5f",
           "arrowhead": 0,
           "arrowwidth": 1
          },
          "autotypenumbers": "strict",
          "coloraxis": {
           "colorbar": {
            "outlinewidth": 0,
            "ticks": ""
           }
          },
          "colorscale": {
           "diverging": [
            [
             0,
             "#8e0152"
            ],
            [
             0.1,
             "#c51b7d"
            ],
            [
             0.2,
             "#de77ae"
            ],
            [
             0.3,
             "#f1b6da"
            ],
            [
             0.4,
             "#fde0ef"
            ],
            [
             0.5,
             "#f7f7f7"
            ],
            [
             0.6,
             "#e6f5d0"
            ],
            [
             0.7,
             "#b8e186"
            ],
            [
             0.8,
             "#7fbc41"
            ],
            [
             0.9,
             "#4d9221"
            ],
            [
             1,
             "#276419"
            ]
           ],
           "sequential": [
            [
             0,
             "#0d0887"
            ],
            [
             0.1111111111111111,
             "#46039f"
            ],
            [
             0.2222222222222222,
             "#7201a8"
            ],
            [
             0.3333333333333333,
             "#9c179e"
            ],
            [
             0.4444444444444444,
             "#bd3786"
            ],
            [
             0.5555555555555556,
             "#d8576b"
            ],
            [
             0.6666666666666666,
             "#ed7953"
            ],
            [
             0.7777777777777778,
             "#fb9f3a"
            ],
            [
             0.8888888888888888,
             "#fdca26"
            ],
            [
             1,
             "#f0f921"
            ]
           ],
           "sequentialminus": [
            [
             0,
             "#0d0887"
            ],
            [
             0.1111111111111111,
             "#46039f"
            ],
            [
             0.2222222222222222,
             "#7201a8"
            ],
            [
             0.3333333333333333,
             "#9c179e"
            ],
            [
             0.4444444444444444,
             "#bd3786"
            ],
            [
             0.5555555555555556,
             "#d8576b"
            ],
            [
             0.6666666666666666,
             "#ed7953"
            ],
            [
             0.7777777777777778,
             "#fb9f3a"
            ],
            [
             0.8888888888888888,
             "#fdca26"
            ],
            [
             1,
             "#f0f921"
            ]
           ]
          },
          "colorway": [
           "#636efa",
           "#EF553B",
           "#00cc96",
           "#ab63fa",
           "#FFA15A",
           "#19d3f3",
           "#FF6692",
           "#B6E880",
           "#FF97FF",
           "#FECB52"
          ],
          "font": {
           "color": "#2a3f5f"
          },
          "geo": {
           "bgcolor": "white",
           "lakecolor": "white",
           "landcolor": "#E5ECF6",
           "showlakes": true,
           "showland": true,
           "subunitcolor": "white"
          },
          "hoverlabel": {
           "align": "left"
          },
          "hovermode": "closest",
          "mapbox": {
           "style": "light"
          },
          "paper_bgcolor": "white",
          "plot_bgcolor": "#E5ECF6",
          "polar": {
           "angularaxis": {
            "gridcolor": "white",
            "linecolor": "white",
            "ticks": ""
           },
           "bgcolor": "#E5ECF6",
           "radialaxis": {
            "gridcolor": "white",
            "linecolor": "white",
            "ticks": ""
           }
          },
          "scene": {
           "xaxis": {
            "backgroundcolor": "#E5ECF6",
            "gridcolor": "white",
            "gridwidth": 2,
            "linecolor": "white",
            "showbackground": true,
            "ticks": "",
            "zerolinecolor": "white"
           },
           "yaxis": {
            "backgroundcolor": "#E5ECF6",
            "gridcolor": "white",
            "gridwidth": 2,
            "linecolor": "white",
            "showbackground": true,
            "ticks": "",
            "zerolinecolor": "white"
           },
           "zaxis": {
            "backgroundcolor": "#E5ECF6",
            "gridcolor": "white",
            "gridwidth": 2,
            "linecolor": "white",
            "showbackground": true,
            "ticks": "",
            "zerolinecolor": "white"
           }
          },
          "shapedefaults": {
           "line": {
            "color": "#2a3f5f"
           }
          },
          "ternary": {
           "aaxis": {
            "gridcolor": "white",
            "linecolor": "white",
            "ticks": ""
           },
           "baxis": {
            "gridcolor": "white",
            "linecolor": "white",
            "ticks": ""
           },
           "bgcolor": "#E5ECF6",
           "caxis": {
            "gridcolor": "white",
            "linecolor": "white",
            "ticks": ""
           }
          },
          "title": {
           "x": 0.05
          },
          "xaxis": {
           "automargin": true,
           "gridcolor": "white",
           "linecolor": "white",
           "ticks": "",
           "title": {
            "standoff": 15
           },
           "zerolinecolor": "white",
           "zerolinewidth": 2
          },
          "yaxis": {
           "automargin": true,
           "gridcolor": "white",
           "linecolor": "white",
           "ticks": "",
           "title": {
            "standoff": 15
           },
           "zerolinecolor": "white",
           "zerolinewidth": 2
          }
         }
        }
       }
      },
      "text/html": [
       "<div>                            <div id=\"aa29caf4-5bba-47ad-9388-64f62c3d66ec\" class=\"plotly-graph-div\" style=\"height:525px; width:100%;\"></div>            <script type=\"text/javascript\">                require([\"plotly\"], function(Plotly) {                    window.PLOTLYENV=window.PLOTLYENV || {};                                    if (document.getElementById(\"aa29caf4-5bba-47ad-9388-64f62c3d66ec\")) {                    Plotly.newPlot(                        \"aa29caf4-5bba-47ad-9388-64f62c3d66ec\",                        [{\"boxpoints\":\"outliers\",\"fillcolor\":\"gold\",\"jitter\":0.5,\"line\":{\"width\":2},\"marker\":{\"size\":3},\"name\":\"smoothness_mean\",\"whiskerwidth\":0.2,\"y\":[0.1184,0.08474,0.1096,0.1425,0.1003,0.1278,0.09463,0.1189,0.1273,0.1186,0.08206,0.0971,0.0974,0.08401,0.1131,0.1139,0.09867,0.117,0.09831,0.09779,0.1075,0.1024,0.1073,0.09428,0.1121,0.1186,0.1054,0.0944,0.1082,0.09847,0.1064,0.1109,0.1197,0.09401,0.104,0.0961,0.09823,0.08983,0.09387,0.1016,0.08162,0.1227,0.09081,0.1041,0.09714,0.1099,0.086,0.1158,0.1031,0.08752,0.08637,0.07685,0.08261,0.1148,0.09056,0.09524,0.1053,0.1137,0.0806,0.09752,0.1134,0.1243,0.1049,0.07721,0.1122,0.1172,0.1044,0.08139,0.1066,0.09831,0.09009,0.09783,0.1071,0.1007,0.09172,0.09168,0.1291,0.1065,0.1286,0.09934,0.1102,0.1078,0.1063,0.1215,0.09723,0.09874,0.09444,0.09029,0.08772,0.1132,0.08974,0.092,0.07355,0.1022,0.1039,0.09078,0.1045,0.1024,0.08983,0.09752,0.09488,0.117,0.08013,0.1005,0.09989,0.1398,0.1142,0.08477,0.1326,0.08759,0.1037,0.09933,0.07837,0.1122,0.115,0.09768,0.09462,0.1162,0.1155,0.08402,0.09373,0.1054,0.1447,0.1101,0.07115,0.08785,0.09258,0.08217,0.115,0.1015,0.1066,0.1092,0.1008,0.09462,0.0943,0.09055,0.1051,0.09639,0.1167,0.1164,0.0925,0.09721,0.1092,0.08677,0.07793,0.1152,0.1091,0.08138,0.0997,0.07944,0.1135,0.09405,0.1072,0.09754,0.09384,0.08654,0.1115,0.07445,0.09311,0.07515,0.1089,0.08694,0.112,0.1012,0.08439,0.08421,0.09594,0.08865,0.1049,0.09855,0.1028,0.09048,0.1257,0.1006,0.08792,0.09138,0.09699,0.09831,0.06251,0.08739,0.1094,0.1141,0.09597,0.09059,0.09057,0.09267,0.08588,0.09774,0.1007,0.0808,0.1075,0.08749,0.0695,0.1034,0.1044,0.07941,0.12,0.07371,0.08523,0.09872,0.09586,0.08968,0.1141,0.1323,0.09965,0.08876,0.1089,0.08772,0.1002,0.08182,0.0909,0.08871,0.1142,0.1006,0.09463,0.1026,0.09363,0.08054,0.09383,0.0842,0.09646,0.1051,0.1061,0.1025,0.08445,0.09906,0.1053,0.08371,0.07903,0.1088,0.1141,0.06883,0.0778,0.09159,0.08464,0.0907,0.09509,0.08355,0.08223,0.09812,0.09423,0.07926,0.09592,0.08043,0.1027,0.107,0.07215,0.0876,0.09657,0.1013,0.1007,0.09345,0.1062,0.1008,0.1035,0.1096,0.0926,0.1335,0.1109,0.1063,0.1,0.08662,0.08999,0.0784,0.09726,0.09469,0.09688,0.07956,0.09425,0.1082,0.06429,0.09834,0.09401,0.09037,0.08855,0.1225,0.09379,0.08923,0.07948,0.09516,0.102,0.07813,0.1037,0.1066,0.07818,0.08393,0.08605,0.06955,0.0802,0.08713,0.08757,0.08992,0.1005,0.08372,0.09667,0.09198,0.08518,0.09968,0.06576,0.1015,0.115,0.08451,0.108,0.1068,0.08853,0.07474,0.08511,0.07005,0.07376,0.08352,0.08814,0.07618,0.08794,0.08597,0.1074,0.08511,0.07734,0.09746,0.09968,0.07557,0.1061,0.0802,0.1134,0.117,0.08673,0.1028,0.09309,0.07683,0.1169,0.1165,0.09491,0.09579,0.1054,0.08306,0.08313,0.1119,0.09462,0.09116,0.1007,0.1069,0.09751,0.08481,0.1033,0.09797,0.115,0.09882,0.08386,0.08875,0.09076,0.1158,0.07561,0.1243,0.1149,0.1024,0.07274,0.0876,0.1082,0.08743,0.08293,0.1009,0.07436,0.08582,0.09676,0.09686,0.07937,0.0915,0.09905,0.09231,0.09384,0.1063,0.09742,0.07963,0.1001,0.09446,0.08302,0.0988,0.09073,0.07517,0.08268,0.1216,0.1237,0.07987,0.06935,0.1042,0.08363,0.08682,0.08108,0.07026,0.08365,0.101,0.09996,0.1039,0.116,0.1167,0.1029,0.08045,0.1059,0.08044,0.07741,0.09087,0.123,0.08872,0.07351,0.09879,0.08682,0.1004,0.09495,0.07551,0.1036,0.08685,0.08858,0.1077,0.07969,0.08515,0.0832,0.09773,0.1044,0.112,0.08785,0.1018,0.08546,0.1031,0.1088,0.09057,0.1075,0.08117,0.09816,0.08801,0.08151,0.07896,0.09947,0.1054,0.1133,0.1018,0.08924,0.106,0.09136,0.08458,0.08684,0.07966,0.08915,0.08331,0.08817,0.08142,0.08947,0.103,0.09997,0.09179,0.08388,0.09684,0.06613,0.1032,0.08437,0.1099,0.08583,0.09245,0.09357,0.08791,0.08369,0.07984,0.09898,0.1084,0.06995,0.08508,0.07466,0.08284,0.08675,0.08311,0.09289,0.1175,0.08946,0.08752,0.08098,0.07699,0.1007,0.0904,0.08931,0.06828,0.1046,0.1026,0.09087,0.07991,0.1071,0.0995,0.1043,0.09514,0.08641,0.1089,0.1128,0.07497,0.08192,0.07838,0.1001,0.07372,0.07335,0.09587,0.1076,0.08928,0.1012,0.1085,0.09883,0.1162,0.1158,0.09342,0.1634,0.1255,0.1096,0.1194,0.09427,0.1183,0.08099,0.08472,0.1106,0.09832,0.09215,0.1049,0.1068,0.1037,0.1218,0.1125,0.1371,0.103,0.08511,0.09916,0.09492,0.1036,0.1075,0.09003,0.1248,0.11,0.1073,0.1016,0.09277,0.09156,0.09687,0.1046,0.1038,0.1236,0.08098,0.08668,0.09984,0.08837,0.08275,0.08671,0.09578,0.09246,0.09434,0.08877,0.08491,0.08192,0.07431,0.09566,0.08276,0.0924,0.08123,0.0903,0.1003,0.08123,0.08473,0.09261,0.09929,0.07449,0.1048,0.1099,0.111,0.0978,0.08455,0.1178,0.05263],\"type\":\"box\"},{\"boxpoints\":\"outliers\",\"fillcolor\":\"mediumturquoise\",\"jitter\":0.5,\"line\":{\"width\":2},\"marker\":{\"size\":3},\"name\":\"compactness_mean\",\"whiskerwidth\":0.2,\"y\":[0.2776,0.07864,0.1599,0.2839,0.1328,0.17,0.109,0.1645,0.1932,0.2396,0.06669,0.1292,0.2458,0.1002,0.2293,0.1595,0.072,0.2022,0.1027,0.08129,0.127,0.06492,0.2135,0.1022,0.1457,0.2276,0.1868,0.1066,0.1697,0.1157,0.1887,0.1516,0.1496,0.1719,0.1559,0.1336,0.1098,0.03766,0.05131,0.1255,0.06031,0.1218,0.219,0.1436,0.1047,0.1686,0.05943,0.1231,0.09092,0.07698,0.04966,0.06059,0.04751,0.1485,0.07081,0.05473,0.1267,0.1365,0.03789,0.05272,0.08061,0.08963,0.2008,0.08751,0.1262,0.1479,0.07773,0.04701,0.1413,0.05234,0.1029,0.1531,0.183,0.128,0.06829,0.08424,0.1047,0.2146,0.3454,0.09546,0.09362,0.1535,0.2665,0.1791,0.07165,0.1053,0.09947,0.1206,0.09445,0.1339,0.08606,0.1036,0.05055,0.08165,0.1553,0.1313,0.07057,0.05301,0.07525,0.1141,0.08511,0.07568,0.04038,0.09697,0.08578,0.1765,0.1017,0.06815,0.2768,0.06575,0.08404,0.1209,0.2233,0.1303,0.08201,0.07849,0.1243,0.1649,0.1752,0.06722,0.06685,0.11,0.2867,0.1099,0.07325,0.06136,0.07862,0.08028,0.1807,0.1589,0.09509,0.1223,0.1284,0.09462,0.09709,0.05761,0.06095,0.06889,0.1305,0.1136,0.04102,0.1137,0.09486,0.09509,0.05139,0.1296,0.17,0.1167,0.1021,0.06376,0.07589,0.1305,0.1599,0.05113,0.08498,0.06679,0.1665,0.07223,0.05241,0.03718,0.1141,0.1185,0.1666,0.1015,0.1145,0.05352,0.05736,0.09182,0.1603,0.07885,0.06981,0.06288,0.1555,0.05743,0.04302,0.04276,0.1294,0.1556,0.01938,0.03774,0.1914,0.2832,0.08799,0.08155,0.1052,0.04695,0.08468,0.06141,0.05562,0.07253,0.2413,0.06601,0.02344,0.1353,0.198,0.05366,0.1267,0.08642,0.1428,0.1206,0.08087,0.1198,0.2084,0.1768,0.1058,0.09588,0.07232,0.07304,0.1483,0.0623,0.1348,0.069,0.1516,0.1146,0.1306,0.1517,0.1154,0.05907,0.1306,0.113,0.08711,0.1192,0.08502,0.1204,0.04994,0.07624,0.07722,0.1096,0.07529,0.1799,0.1572,0.03813,0.03574,0.1074,0.04087,0.06945,0.1682,0.08348,0.1039,0.1298,0.0663,0.03393,0.1325,0.06807,0.1558,0.05971,0.04524,0.1346,0.07234,0.07808,0.1606,0.05991,0.1849,0.1041,0.1188,0.1279,0.2063,0.2284,0.3114,0.1639,0.1088,0.0629,0.1273,0.05616,0.08995,0.1143,0.1147,0.08259,0.06219,0.1289,0.02675,0.07608,0.1961,0.04689,0.07027,0.0721,0.03872,0.05884,0.04052,0.07688,0.1453,0.0434,0.1442,0.1802,0.0958,0.04216,0.1011,0.03729,0.1181,0.05008,0.1676,0.09823,0.07943,0.05642,0.08393,0.06221,0.04721,0.05914,0.0522,0.06797,0.1642,0.1014,0.1838,0.06678,0.07694,0.05688,0.05251,0.03116,0.03614,0.03735,0.05253,0.03515,0.07948,0.05969,0.05847,0.03834,0.03212,0.1117,0.1972,0.03454,0.1111,0.08564,0.08834,0.1875,0.06545,0.07664,0.05306,0.03892,0.1319,0.1283,0.1371,0.1125,0.06779,0.04458,0.04202,0.1056,0.09965,0.1402,0.07326,0.1283,0.1139,0.09228,0.09097,0.1339,0.07281,0.09159,0.05794,0.0778,0.05886,0.1206,0.0363,0.2364,0.2363,0.09769,0.06064,0.1038,0.1304,0.05492,0.07698,0.05956,0.0265,0.06373,0.07952,0.08468,0.05696,0.1131,0.1669,0.07175,0.08562,0.1954,0.1497,0.06934,0.1515,0.1076,0.06374,0.1438,0.166,0.04726,0.07548,0.2154,0.1111,0.07079,0.1073,0.1297,0.08575,0.06636,0.07823,0.04831,0.1114,0.1318,0.07542,0.07428,0.1562,0.2087,0.09758,0.05361,0.1147,0.08895,0.04768,0.06232,0.2576,0.05242,0.07899,0.08836,0.04571,0.0746,0.08501,0.08316,0.1304,0.06526,0.05313,0.07804,0.06053,0.1025,0.04605,0.0812,0.06159,0.1571,0.05794,0.05978,0.07722,0.1836,0.1168,0.1147,0.08333,0.03912,0.1013,0.05743,0.03834,0.04522,0.2225,0.1316,0.1489,0.1389,0.07074,0.1133,0.07883,0.05895,0.0633,0.05581,0.1113,0.1109,0.06718,0.04462,0.1232,0.09218,0.1314,0.0889,0.078,0.1175,0.1064,0.09871,0.0645,0.09242,0.0543,0.07426,0.08574,0.05205,0.05073,0.04626,0.111,0.1988,0.05223,0.05855,0.05994,0.1223,0.1089,0.05428,0.2004,0.1483,0.06258,0.06,0.08549,0.03398,0.1069,0.08269,0.1108,0.05319,0.08228,0.1893,0.07838,0.05326,0.1155,0.07957,0.1299,0.1511,0.06698,0.1448,0.09263,0.07112,0.052,0.06217,0.1289,0.04043,0.05275,0.08345,0.1334,0.0763,0.1317,0.1644,0.1364,0.1681,0.1085,0.1275,0.2239,0.2204,0.1152,0.1071,0.06712,0.187,0.09661,0.05016,0.1469,0.08918,0.08597,0.08499,0.1248,0.131,0.1661,0.1117,0.1225,0.2106,0.04413,0.107,0.08419,0.07632,0.1138,0.06307,0.09755,0.09009,0.09713,0.09453,0.07255,0.1313,0.09752,0.1739,0.1154,0.1552,0.04878,0.1199,0.112,0.123,0.07214,0.06877,0.1018,0.06747,0.04994,0.08066,0.0503,0.06602,0.04227,0.08194,0.04234,0.05605,0.05824,0.07658,0.07504,0.04971,0.133,0.1021,0.1126,0.03558,0.2087,0.2236,0.1159,0.1034,0.1023,0.277,0.04362],\"type\":\"box\"},{\"boxpoints\":\"outliers\",\"fillcolor\":\"darkorange\",\"jitter\":0.5,\"line\":{\"width\":2},\"marker\":{\"size\":3},\"name\":\"concavity_mean\",\"whiskerwidth\":0.2,\"y\":[0.3001,0.0869,0.1974,0.2414,0.198,0.1578,0.1127,0.09366,0.1859,0.2273,0.03299,0.09954,0.2065,0.09938,0.2128,0.1639,0.07395,0.1722,0.1479,0.06664,0.04568,0.02956,0.2077,0.1097,0.1525,0.2229,0.1425,0.149,0.1683,0.09875,0.2319,0.1218,0.2417,0.1657,0.1354,0.1348,0.1319,0.02562,0.02398,0.1063,0.0311,0.1044,0.2107,0.09847,0.08259,0.1974,0.01588,0.1226,0.06592,0.04751,0.01657,0.01857,0.01972,0.1772,0.05253,0.03036,0.1323,0.1293,0.000692,0.02061,0.01084,0.03,0.2135,0.05988,0.1128,0.1267,0.02172,0.03709,0.313,0.03653,0.108,0.08606,0.1692,0.07789,0.03372,0.09769,0.06877,0.1684,0.3754,0.03889,0.04591,0.1169,0.3339,0.1937,0.04151,0.1335,0.1204,0.1468,0.06015,0.09966,0.03102,0.1122,0.03261,0.03974,0.17,0.1465,0.0249,0.006829,0.04196,0.09388,0.08625,0.0,0.02383,0.06154,0.02995,0.2071,0.0707,0.02643,0.4264,0.05133,0.04334,0.1065,0.3003,0.06476,0.04132,0.03328,0.09263,0.169,0.2133,0.07293,0.03512,0.1457,0.4268,0.08842,0.08092,0.0142,0.05285,0.09271,0.1138,0.2545,0.02855,0.1466,0.1043,0.07135,0.1153,0.04711,0.03592,0.03503,0.1539,0.04635,0.0,0.09447,0.02031,0.04894,0.02251,0.0371,0.1659,0.0905,0.08487,0.02881,0.03136,0.1321,0.4108,0.01982,0.09293,0.03885,0.1855,0.0515,0.01972,0.00309,0.06843,0.1193,0.2508,0.0537,0.1324,0.01947,0.02531,0.08422,0.2159,0.02602,0.03987,0.05858,0.2032,0.02363,0.0,0.0,0.1307,0.1793,0.001595,0.009193,0.2871,0.2487,0.06593,0.06181,0.05375,0.001597,0.08169,0.03809,0.02353,0.03844,0.1981,0.03112,0.0,0.1085,0.1697,0.03873,0.1385,0.1103,0.1114,0.118,0.04187,0.1036,0.3523,0.1558,0.08005,0.0755,0.01756,0.0695,0.08705,0.05892,0.164,0.02669,0.3201,0.1682,0.1115,0.09901,0.06636,0.05774,0.1272,0.1145,0.03888,0.0786,0.01768,0.1147,0.03554,0.05724,0.006643,0.06505,0.05438,0.1695,0.191,0.01633,0.004967,0.1554,0.01652,0.01462,0.195,0.09042,0.1103,0.1417,0.04705,0.01053,0.1548,0.04697,0.2049,0.04831,0.04336,0.1374,0.02379,0.04328,0.2712,0.02638,0.2417,0.1266,0.1379,0.09789,0.1784,0.2448,0.3176,0.1751,0.1519,0.02891,0.09697,0.04209,0.09061,0.1367,0.06387,0.04072,0.039,0.08448,0.00725,0.03265,0.2195,0.01103,0.05699,0.05929,0.001487,0.0802,0.01997,0.04479,0.1921,0.02245,0.1626,0.1948,0.1115,0.00186,0.06574,0.0226,0.09274,0.02399,0.1362,0.0594,0.06155,0.02688,0.01288,0.01063,0.01236,0.02685,0.02475,0.02495,0.2197,0.0683,0.2283,0.02297,0.03344,0.01974,0.001461,0.003681,0.002758,0.004559,0.01583,0.01447,0.04052,0.01367,0.0,0.004473,0.01123,0.113,0.1975,0.01342,0.06726,0.1155,0.038,0.2565,0.01994,0.03193,0.01765,0.001546,0.1478,0.1799,0.1204,0.07107,0.005006,0.0009737,0.007756,0.1508,0.03738,0.106,0.02511,0.2308,0.08007,0.08422,0.05397,0.1863,0.04006,0.03581,0.00751,0.04608,0.02587,0.01171,0.008306,0.2914,0.3368,0.1235,0.04505,0.103,0.09603,0.01502,0.04721,0.0271,0.001194,0.03344,0.02688,0.05862,0.02181,0.09799,0.1641,0.04392,0.1168,0.2448,0.1811,0.03393,0.1932,0.1527,0.02556,0.06651,0.228,0.01271,0.04249,0.1689,0.079,0.03546,0.07943,0.05892,0.05077,0.0839,0.06839,0.02045,0.1007,0.1856,0.01923,0.0,0.1891,0.281,0.04783,0.02681,0.0858,0.0739,0.02712,0.02853,0.3189,0.02606,0.04057,0.03296,0.02109,0.04944,0.055,0.06126,0.1201,0.03211,0.02783,0.03046,0.03735,0.06859,0.04686,0.02555,0.02047,0.1522,0.0236,0.008955,0.05485,0.145,0.07097,0.09657,0.008934,0.00247,0.06335,0.03614,0.01369,0.01402,0.2733,0.07741,0.2133,0.1594,0.03346,0.1126,0.01797,0.03534,0.01342,0.02087,0.09457,0.1204,0.01055,0.01993,0.109,0.05441,0.1698,0.04069,0.08817,0.1572,0.08777,0.1655,0.04055,0.06895,0.02966,0.02819,0.0716,0.02772,0.01206,0.01541,0.1007,0.3635,0.03476,0.03367,0.04859,0.101,0.1085,0.01479,0.2136,0.102,0.02948,0.02367,0.05539,0.0,0.05115,0.05835,0.05063,0.02224,0.05308,0.2236,0.02916,0.02995,0.05786,0.04548,0.1191,0.1544,0.05192,0.2256,0.04279,0.03649,0.01714,0.04445,0.117,0.007173,0.018,0.06824,0.08017,0.03609,0.1491,0.2188,0.07721,0.1357,0.05928,0.1676,0.0973,0.1188,0.08175,0.04063,0.05526,0.203,0.06726,0.03416,0.1445,0.08222,0.07486,0.04302,0.1569,0.1411,0.04825,0.0388,0.03332,0.231,0.005067,0.05385,0.0233,0.02565,0.04201,0.02958,0.101,0.03781,0.05282,0.042,0.01752,0.1523,0.05263,0.2085,0.1463,0.04515,0.0,0.09252,0.06737,0.1009,0.04105,0.02987,0.03688,0.02974,0.01012,0.04358,0.02337,0.01548,0.0,0.04824,0.01997,0.03996,0.06195,0.05999,0.005025,0.0,0.1029,0.1112,0.04462,0.0,0.255,0.3174,0.2439,0.144,0.09251,0.3514,0.0],\"type\":\"box\"},{\"boxpoints\":\"outliers\",\"fillcolor\":\"lightgreen\",\"jitter\":0.5,\"line\":{\"width\":2},\"marker\":{\"size\":3},\"name\":\"concave points_mean\",\"whiskerwidth\":0.2,\"y\":[0.1471,0.07017,0.1279,0.1052,0.1043,0.08089,0.074,0.05985,0.09353,0.08543,0.03323,0.06606,0.1118,0.05364,0.08025,0.07364,0.05259,0.1028,0.09498,0.04781,0.0311,0.02076,0.09756,0.08632,0.0917,0.1401,0.08783,0.07731,0.08751,0.07953,0.1244,0.05182,0.1203,0.07593,0.07752,0.06018,0.05598,0.02923,0.02899,0.05439,0.02031,0.05669,0.09961,0.06158,0.05252,0.1009,0.005917,0.0734,0.02749,0.03384,0.01115,0.01723,0.01349,0.106,0.03334,0.02278,0.08994,0.08123,0.004167,0.007799,0.0129,0.009259,0.08653,0.0218,0.06873,0.09029,0.01504,0.0223,0.04375,0.02864,0.07951,0.02872,0.07944,0.05069,0.02272,0.06638,0.06556,0.108,0.1604,0.02315,0.02233,0.06987,0.1845,0.1469,0.01863,0.08795,0.04938,0.08271,0.03745,0.07064,0.02957,0.07483,0.02648,0.0278,0.08815,0.08683,0.02941,0.007937,0.0335,0.05839,0.04489,0.0,0.0177,0.03029,0.01201,0.09601,0.03485,0.01921,0.1823,0.01899,0.01778,0.06021,0.07798,0.03068,0.01924,0.02008,0.02308,0.08923,0.09479,0.05596,0.02623,0.08665,0.2012,0.05778,0.028,0.01141,0.03085,0.05627,0.08534,0.1149,0.02882,0.08087,0.05613,0.05933,0.06847,0.02704,0.026,0.02875,0.08624,0.04796,0.0,0.05943,0.01861,0.03088,0.007875,0.03003,0.07415,0.03562,0.05532,0.01329,0.02645,0.02168,0.07857,0.01786,0.03483,0.02331,0.1054,0.02771,0.01963,0.006588,0.03738,0.09667,0.1286,0.02822,0.09702,0.01939,0.01698,0.06576,0.1043,0.03781,0.037,0.03438,0.1097,0.02583,0.0,0.0,0.03716,0.08866,0.001852,0.0133,0.1878,0.1496,0.05189,0.02361,0.03263,0.002404,0.05814,0.03239,0.01553,0.01654,0.06618,0.02864,0.0,0.04562,0.08878,0.02377,0.06526,0.05778,0.06772,0.0598,0.04107,0.07488,0.162,0.09176,0.03821,0.04079,0.01952,0.0539,0.05102,0.03157,0.09561,0.01393,0.1595,0.06597,0.06462,0.05602,0.03142,0.01071,0.08691,0.06637,0.02563,0.04451,0.01915,0.06462,0.02456,0.04603,0.01216,0.0378,0.02036,0.06861,0.109,0.003125,0.006434,0.0834,0.01667,0.01896,0.1237,0.06022,0.04408,0.08811,0.03731,0.01108,0.02854,0.02344,0.08886,0.0307,0.01105,0.0398,0.01615,0.02929,0.131,0.02069,0.0974,0.08353,0.08591,0.05246,0.1144,0.1242,0.1377,0.08399,0.09333,0.02837,0.07507,0.02847,0.06527,0.08646,0.02642,0.02142,0.01615,0.02867,0.00625,0.02755,0.1088,0.01407,0.04744,0.07404,0.003333,0.05843,0.01238,0.03711,0.09664,0.02763,0.09464,0.09052,0.0339,0.002924,0.03791,0.01171,0.05588,0.02173,0.06602,0.04819,0.0337,0.0228,0.01924,0.01917,0.01369,0.03515,0.01374,0.01875,0.1062,0.03099,0.128,0.0178,0.01502,0.01313,0.003261,0.003472,0.004419,0.008829,0.01148,0.01877,0.02548,0.008907,0.0,0.006423,0.005051,0.0795,0.04908,0.01699,0.03965,0.07726,0.034,0.1504,0.01692,0.02107,0.02733,0.005592,0.08488,0.07981,0.07041,0.0295,0.007583,0.002941,0.008535,0.09934,0.02098,0.0609,0.01775,0.141,0.04223,0.02292,0.03341,0.1103,0.0325,0.02037,0.008488,0.03528,0.02322,0.01787,0.01162,0.1242,0.1913,0.06553,0.01471,0.04391,0.05603,0.02088,0.02381,0.01406,0.005449,0.02424,0.01781,0.04835,0.01473,0.07785,0.1265,0.02027,0.08465,0.1501,0.08773,0.02657,0.1255,0.08941,0.02031,0.05397,0.05941,0.01117,0.02471,0.06367,0.0555,0.02074,0.02978,0.0288,0.02864,0.05271,0.02534,0.008507,0.02757,0.1021,0.01968,0.0,0.09113,0.1562,0.03326,0.03251,0.05381,0.04083,0.007246,0.01638,0.1198,0.01796,0.01883,0.0239,0.02054,0.02932,0.04528,0.01867,0.08824,0.02653,0.021,0.0248,0.005128,0.03876,0.02739,0.02179,0.01257,0.08481,0.02402,0.01076,0.01428,0.063,0.04497,0.04812,0.01967,0.005159,0.02218,0.01404,0.0137,0.01835,0.09711,0.02799,0.1259,0.08744,0.02877,0.06463,0.0209,0.02944,0.02293,0.02652,0.03613,0.05736,0.009937,0.01111,0.06254,0.04274,0.08293,0.0226,0.02925,0.1155,0.02386,0.09063,0.01945,0.06495,0.02272,0.03264,0.02017,0.02068,0.01762,0.01043,0.06431,0.1689,0.01737,0.01777,0.0287,0.02833,0.0351,0.005769,0.1002,0.05564,0.01514,0.02377,0.03221,0.0,0.01571,0.03078,0.03058,0.01339,0.01969,0.09194,0.01527,0.0207,0.05266,0.0316,0.06211,0.04846,0.02791,0.1194,0.03132,0.02307,0.01261,0.04178,0.07762,0.01149,0.01256,0.04951,0.05074,0.02369,0.09183,0.1121,0.06142,0.06759,0.03279,0.1003,0.05252,0.07038,0.02166,0.04268,0.04563,0.0852,0.02639,0.02541,0.08172,0.04349,0.04335,0.02594,0.09451,0.09431,0.05303,0.02995,0.02421,0.1471,0.005664,0.03783,0.02416,0.0151,0.03152,0.02647,0.06615,0.02798,0.0444,0.02157,0.0188,0.1015,0.02788,0.1322,0.06139,0.04531,0.0,0.01364,0.02594,0.0389,0.03027,0.03275,0.02369,0.02443,0.005495,0.02438,0.009615,0.00816,0.0,0.02257,0.01499,0.01282,0.02343,0.02738,0.01116,0.0,0.03736,0.04105,0.04304,0.0,0.09429,0.1474,0.1389,0.09791,0.05302,0.152,0.0],\"type\":\"box\"},{\"boxpoints\":\"outliers\",\"fillcolor\":\"cyan\",\"jitter\":0.5,\"line\":{\"width\":2},\"marker\":{\"size\":3},\"name\":\"symmetry_mean\",\"whiskerwidth\":0.2,\"y\":[0.2419,0.1812,0.2069,0.2597,0.1809,0.2087,0.1794,0.2196,0.235,0.203,0.1528,0.1842,0.2397,0.1847,0.2069,0.2303,0.1586,0.2164,0.1582,0.1885,0.1967,0.1815,0.2521,0.1769,0.1995,0.304,0.2252,0.1697,0.1926,0.1739,0.2183,0.2301,0.2248,0.1853,0.1998,0.1896,0.1885,0.1467,0.1565,0.172,0.1784,0.1895,0.231,0.1974,0.1746,0.1907,0.1769,0.2128,0.1675,0.1809,0.1495,0.1353,0.1868,0.2092,0.1616,0.192,0.1917,0.2027,0.1819,0.1683,0.2743,0.1828,0.1949,0.2341,0.1905,0.1953,0.1717,0.1516,0.2111,0.159,0.1582,0.1902,0.1927,0.1662,0.172,0.1798,0.2403,0.2152,0.2906,0.1718,0.1842,0.1942,0.1829,0.1634,0.2079,0.2132,0.2075,0.1953,0.193,0.2116,0.1685,0.1717,0.1386,0.1638,0.1855,0.2095,0.19,0.135,0.162,0.1879,0.1609,0.193,0.1739,0.1945,0.2217,0.1925,0.1801,0.1602,0.2556,0.1487,0.1584,0.1735,0.1704,0.1922,0.1649,0.1688,0.1305,0.2157,0.2096,0.2129,0.1667,0.1966,0.2655,0.1856,0.1422,0.1614,0.1761,0.1946,0.2001,0.2202,0.188,0.1931,0.216,0.1816,0.1692,0.1585,0.1339,0.1734,0.1957,0.1771,0.1903,0.1861,0.1645,0.1778,0.1399,0.1995,0.2678,0.1744,0.1724,0.1473,0.254,0.2222,0.2548,0.183,0.1822,0.197,0.1971,0.1844,0.159,0.1442,0.1993,0.1741,0.2027,0.1551,0.1801,0.1515,0.1381,0.1893,0.1538,0.178,0.1959,0.1598,0.1966,0.1566,0.1928,0.1722,0.1669,0.1794,0.1395,0.1466,0.18,0.2395,0.1618,0.1167,0.1727,0.1703,0.1621,0.1516,0.1718,0.1667,0.2384,0.1694,0.1653,0.1943,0.1737,0.1829,0.1834,0.177,0.1767,0.195,0.1979,0.1506,0.22,0.2251,0.1925,0.1594,0.1934,0.2026,0.185,0.1359,0.1765,0.1533,0.1648,0.1308,0.2235,0.2106,0.1967,0.1964,0.2094,0.1428,0.136,0.1962,0.191,0.1935,0.1496,0.2075,0.1788,0.1881,0.1514,0.2123,0.2131,0.1869,0.1845,0.1448,0.1551,0.1517,0.1909,0.1467,0.1342,0.1809,0.1717,0.1546,0.2054,0.1773,0.1978,0.1737,0.1487,0.1596,0.1897,0.1883,0.2205,0.1834,0.1733,0.1813,0.1776,0.1908,0.1893,0.2398,0.2495,0.2091,0.1814,0.1564,0.2108,0.1547,0.1867,0.1769,0.1922,0.1635,0.201,0.1668,0.1508,0.1769,0.1721,0.2081,0.1538,0.2015,0.1954,0.155,0.1573,0.211,0.1902,0.2101,0.1893,0.1876,0.1432,0.1697,0.1588,0.1337,0.2595,0.2013,0.1714,0.1879,0.173,0.1875,0.1638,0.1592,0.1449,0.1619,0.1635,0.1695,0.1792,0.1781,0.2249,0.1482,0.1411,0.1935,0.1632,0.1788,0.1365,0.1453,0.1936,0.1632,0.1601,0.1833,0.2163,0.1215,0.1673,0.1807,0.233,0.1472,0.1743,0.1928,0.1543,0.2569,0.1638,0.1707,0.1373,0.1382,0.1948,0.1869,0.1782,0.1761,0.194,0.1773,0.1539,0.1727,0.1652,0.1953,0.189,0.1797,0.1912,0.2036,0.1776,0.2082,0.2009,0.1633,0.1555,0.1521,0.1634,0.2459,0.1671,0.2375,0.1956,0.1647,0.169,0.1533,0.2035,0.1424,0.193,0.1506,0.1528,0.1815,0.1759,0.1495,0.165,0.1618,0.1875,0.1695,0.1717,0.1824,0.2175,0.1721,0.1973,0.1571,0.1872,0.199,0.2188,0.1421,0.1792,0.2196,0.2018,0.2003,0.1203,0.1779,0.1617,0.1627,0.1646,0.1607,0.181,0.1989,0.18,0.1985,0.1929,0.2162,0.1937,0.1641,0.1806,0.1574,0.1535,0.1847,0.2113,0.1601,0.1874,0.1735,0.1571,0.1486,0.1735,0.158,0.1992,0.1966,0.1601,0.1714,0.1274,0.1944,0.1852,0.2019,0.2025,0.2085,0.1583,0.1615,0.2031,0.2086,0.1886,0.1848,0.2538,0.163,0.1925,0.2016,0.1511,0.1459,0.2041,0.1811,0.1724,0.1943,0.1573,0.1669,0.1861,0.1714,0.1555,0.1589,0.1489,0.1467,0.1405,0.2372,0.172,0.182,0.1713,0.1893,0.1473,0.1554,0.1349,0.1663,0.1615,0.165,0.1799,0.1375,0.1799,0.1619,0.1667,0.1621,0.1793,0.2061,0.1707,0.1516,0.1454,0.1601,0.1562,0.168,0.1696,0.1957,0.2238,0.1854,0.1687,0.1701,0.1861,0.1705,0.1506,0.1813,0.1779,0.2151,0.1464,0.1579,0.1779,0.1732,0.1784,0.2082,0.1409,0.1823,0.1853,0.1846,0.1544,0.122,0.2116,0.1613,0.1713,0.1487,0.1641,0.1526,0.1832,0.1848,0.1668,0.2275,0.1943,0.1505,0.2378,0.2057,0.2124,0.1954,0.1711,0.1807,0.1499,0.1659,0.2116,0.1739,0.1561,0.1927,0.186,0.1802,0.1709,0.212,0.2197,0.1991,0.1637,0.1714,0.1387,0.1678,0.1723,0.1689,0.1976,0.1657,0.1598,0.1859,0.1631,0.2166,0.1619,0.2127,0.1926,0.2131,0.187,0.2037,0.1818,0.1872,0.184,0.1628,0.162,0.1664,0.1885,0.1669,0.158,0.1976,0.1661,0.203,0.1539,0.1692,0.1566,0.1593,0.1791,0.1742,0.1454,0.1388,0.1537,0.106,0.2128,0.2149,0.1726,0.1752,0.159,0.2397,0.1587],\"type\":\"box\"},{\"boxpoints\":\"outliers\",\"fillcolor\":\"royalblue\",\"jitter\":0.5,\"line\":{\"width\":2},\"marker\":{\"size\":3},\"name\":\"fractal_dimension_mean\",\"whiskerwidth\":0.2,\"y\":[0.07871,0.05667,0.05999,0.09744,0.05883,0.07613,0.05742,0.07451,0.07389,0.08243,0.05697,0.06082,0.078,0.05338,0.07682,0.07077,0.05922,0.07356,0.05395,0.05766,0.06811,0.06905,0.07032,0.05278,0.0633,0.07413,0.06924,0.05699,0.0654,0.06149,0.06197,0.07799,0.06382,0.06261,0.06515,0.05656,0.06125,0.05863,0.05504,0.06419,0.05587,0.0687,0.06343,0.06782,0.06177,0.06049,0.06503,0.06777,0.06043,0.05718,0.05888,0.05953,0.0611,0.0631,0.05684,0.05907,0.05961,0.06758,0.05501,0.07187,0.0696,0.06757,0.07292,0.06963,0.0659,0.06654,0.06899,0.05667,0.08046,0.05653,0.05461,0.0898,0.06487,0.06566,0.05914,0.05391,0.06641,0.06673,0.08142,0.05997,0.07005,0.06902,0.06782,0.07224,0.05968,0.06022,0.05636,0.05629,0.06404,0.06346,0.05866,0.06097,0.05318,0.0571,0.06284,0.05649,0.06635,0.0689,0.06582,0.0639,0.05871,0.07818,0.05677,0.06322,0.06481,0.07692,0.0652,0.06066,0.07039,0.06529,0.07065,0.0707,0.07769,0.07782,0.07633,0.06194,0.07163,0.06768,0.07331,0.05025,0.06113,0.06213,0.06877,0.06402,0.05823,0.0589,0.0613,0.05044,0.06467,0.06113,0.06471,0.05796,0.05891,0.05723,0.05727,0.06065,0.05945,0.05865,0.06216,0.06072,0.06422,0.06248,0.06562,0.06235,0.05688,0.07839,0.07371,0.06493,0.06081,0.0558,0.06087,0.08261,0.09296,0.06105,0.06207,0.06228,0.06166,0.05268,0.05907,0.05743,0.06453,0.05176,0.06082,0.06761,0.05553,0.05266,0.064,0.05534,0.06365,0.0565,0.05955,0.05671,0.07069,0.06669,0.05975,0.06724,0.08116,0.06323,0.05234,0.06133,0.0577,0.07398,0.05549,0.06217,0.06317,0.06048,0.05425,0.06095,0.0578,0.05474,0.07542,0.06287,0.06447,0.06937,0.06672,0.05667,0.06877,0.0534,0.05529,0.06466,0.06013,0.05491,0.06229,0.07421,0.06373,0.05986,0.06285,0.05223,0.0731,0.05526,0.05024,0.06057,0.05525,0.05866,0.06433,0.06916,0.06314,0.06315,0.05581,0.05313,0.06344,0.06303,0.06908,0.06303,0.05674,0.05448,0.0645,0.05907,0.06019,0.07254,0.06325,0.05628,0.05828,0.05592,0.06403,0.05835,0.06309,0.05177,0.06129,0.05966,0.0566,0.05754,0.07669,0.05429,0.06,0.0644,0.05635,0.06409,0.06329,0.06168,0.05898,0.05934,0.06697,0.05613,0.05647,0.0613,0.06232,0.07596,0.08104,0.0665,0.05572,0.05307,0.05464,0.05443,0.0558,0.05674,0.06491,0.05859,0.05769,0.06862,0.05376,0.0627,0.06194,0.06312,0.0551,0.05875,0.05821,0.04996,0.0552,0.05853,0.0622,0.06113,0.05892,0.06684,0.05935,0.05855,0.06766,0.05581,0.06233,0.05955,0.07192,0.05852,0.0647,0.05715,0.061,0.05912,0.06031,0.06287,0.05586,0.06556,0.06552,0.06249,0.07469,0.066,0.06243,0.05878,0.05894,0.06833,0.05335,0.05518,0.06128,0.05255,0.0614,0.061,0.07359,0.05673,0.05649,0.05664,0.08743,0.05561,0.07279,0.05096,0.06476,0.0667,0.06129,0.05984,0.057,0.0607,0.06277,0.06532,0.05976,0.0654,0.06028,0.06081,0.05945,0.06071,0.07238,0.06083,0.06331,0.05506,0.06412,0.07125,0.06907,0.05715,0.06506,0.07005,0.06048,0.05912,0.06372,0.06581,0.05731,0.07603,0.06121,0.06464,0.06083,0.06184,0.06501,0.05883,0.06621,0.06959,0.05185,0.05696,0.06183,0.05593,0.05701,0.05557,0.0602,0.05916,0.05054,0.0614,0.06218,0.05544,0.06183,0.05478,0.05669,0.06572,0.0845,0.05763,0.05897,0.0795,0.06914,0.06246,0.06659,0.06588,0.05594,0.05416,0.06154,0.05474,0.07252,0.05884,0.06569,0.07098,0.06744,0.06606,0.06161,0.05764,0.06079,0.0575,0.06214,0.06019,0.07115,0.05541,0.05899,0.062,0.05708,0.06615,0.05875,0.06114,0.06069,0.05597,0.05913,0.0634,0.06724,0.05913,0.05294,0.0629,0.06601,0.06864,0.06275,0.06144,0.06267,0.07406,0.0632,0.06181,0.07029,0.06439,0.06915,0.05977,0.06148,0.05544,0.06898,0.07102,0.06053,0.06132,0.05703,0.06544,0.06347,0.05898,0.05673,0.05586,0.0664,0.05407,0.05848,0.05768,0.0578,0.0685,0.05916,0.05886,0.05746,0.05661,0.06612,0.05391,0.06104,0.06121,0.05826,0.06016,0.06166,0.05584,0.05449,0.05952,0.06281,0.05623,0.05433,0.05859,0.05549,0.06432,0.0602,0.06412,0.07369,0.07255,0.06413,0.05698,0.05669,0.0596,0.06837,0.05913,0.06009,0.05536,0.06574,0.06578,0.06284,0.05594,0.06639,0.06088,0.06259,0.07325,0.05355,0.06115,0.06401,0.05325,0.05976,0.05243,0.06077,0.06013,0.05888,0.05748,0.06854,0.06046,0.06697,0.06222,0.06869,0.07237,0.06612,0.05484,0.09502,0.09575,0.06894,0.07976,0.05657,0.07083,0.06758,0.05348,0.07325,0.0564,0.05915,0.06211,0.05941,0.06188,0.07253,0.06623,0.07696,0.06739,0.06343,0.06843,0.06891,0.07126,0.06317,0.05808,0.06457,0.06608,0.06677,0.06461,0.06155,0.05419,0.06408,0.06251,0.05982,0.07405,0.07285,0.07751,0.06782,0.06341,0.0568,0.05781,0.06688,0.05801,0.06201,0.06714,0.06235,0.06328,0.05948,0.06552,0.05637,0.06576,0.05708,0.06127,0.06331,0.06059,0.06147,0.0657,0.06171,0.05502,0.07152,0.06879,0.05623,0.05533,0.05648,0.07016,0.05884],\"type\":\"box\"}],                        {\"template\":{\"data\":{\"histogram2dcontour\":[{\"type\":\"histogram2dcontour\",\"colorbar\":{\"outlinewidth\":0,\"ticks\":\"\"},\"colorscale\":[[0.0,\"#0d0887\"],[0.1111111111111111,\"#46039f\"],[0.2222222222222222,\"#7201a8\"],[0.3333333333333333,\"#9c179e\"],[0.4444444444444444,\"#bd3786\"],[0.5555555555555556,\"#d8576b\"],[0.6666666666666666,\"#ed7953\"],[0.7777777777777778,\"#fb9f3a\"],[0.8888888888888888,\"#fdca26\"],[1.0,\"#f0f921\"]]}],\"choropleth\":[{\"type\":\"choropleth\",\"colorbar\":{\"outlinewidth\":0,\"ticks\":\"\"}}],\"histogram2d\":[{\"type\":\"histogram2d\",\"colorbar\":{\"outlinewidth\":0,\"ticks\":\"\"},\"colorscale\":[[0.0,\"#0d0887\"],[0.1111111111111111,\"#46039f\"],[0.2222222222222222,\"#7201a8\"],[0.3333333333333333,\"#9c179e\"],[0.4444444444444444,\"#bd3786\"],[0.5555555555555556,\"#d8576b\"],[0.6666666666666666,\"#ed7953\"],[0.7777777777777778,\"#fb9f3a\"],[0.8888888888888888,\"#fdca26\"],[1.0,\"#f0f921\"]]}],\"heatmap\":[{\"type\":\"heatmap\",\"colorbar\":{\"outlinewidth\":0,\"ticks\":\"\"},\"colorscale\":[[0.0,\"#0d0887\"],[0.1111111111111111,\"#46039f\"],[0.2222222222222222,\"#7201a8\"],[0.3333333333333333,\"#9c179e\"],[0.4444444444444444,\"#bd3786\"],[0.5555555555555556,\"#d8576b\"],[0.6666666666666666,\"#ed7953\"],[0.7777777777777778,\"#fb9f3a\"],[0.8888888888888888,\"#fdca26\"],[1.0,\"#f0f921\"]]}],\"heatmapgl\":[{\"type\":\"heatmapgl\",\"colorbar\":{\"outlinewidth\":0,\"ticks\":\"\"},\"colorscale\":[[0.0,\"#0d0887\"],[0.1111111111111111,\"#46039f\"],[0.2222222222222222,\"#7201a8\"],[0.3333333333333333,\"#9c179e\"],[0.4444444444444444,\"#bd3786\"],[0.5555555555555556,\"#d8576b\"],[0.6666666666666666,\"#ed7953\"],[0.7777777777777778,\"#fb9f3a\"],[0.8888888888888888,\"#fdca26\"],[1.0,\"#f0f921\"]]}],\"contourcarpet\":[{\"type\":\"contourcarpet\",\"colorbar\":{\"outlinewidth\":0,\"ticks\":\"\"}}],\"contour\":[{\"type\":\"contour\",\"colorbar\":{\"outlinewidth\":0,\"ticks\":\"\"},\"colorscale\":[[0.0,\"#0d0887\"],[0.1111111111111111,\"#46039f\"],[0.2222222222222222,\"#7201a8\"],[0.3333333333333333,\"#9c179e\"],[0.4444444444444444,\"#bd3786\"],[0.5555555555555556,\"#d8576b\"],[0.6666666666666666,\"#ed7953\"],[0.7777777777777778,\"#fb9f3a\"],[0.8888888888888888,\"#fdca26\"],[1.0,\"#f0f921\"]]}],\"surface\":[{\"type\":\"surface\",\"colorbar\":{\"outlinewidth\":0,\"ticks\":\"\"},\"colorscale\":[[0.0,\"#0d0887\"],[0.1111111111111111,\"#46039f\"],[0.2222222222222222,\"#7201a8\"],[0.3333333333333333,\"#9c179e\"],[0.4444444444444444,\"#bd3786\"],[0.5555555555555556,\"#d8576b\"],[0.6666666666666666,\"#ed7953\"],[0.7777777777777778,\"#fb9f3a\"],[0.8888888888888888,\"#fdca26\"],[1.0,\"#f0f921\"]]}],\"mesh3d\":[{\"type\":\"mesh3d\",\"colorbar\":{\"outlinewidth\":0,\"ticks\":\"\"}}],\"scatter\":[{\"fillpattern\":{\"fillmode\":\"overlay\",\"size\":10,\"solidity\":0.2},\"type\":\"scatter\"}],\"parcoords\":[{\"type\":\"parcoords\",\"line\":{\"colorbar\":{\"outlinewidth\":0,\"ticks\":\"\"}}}],\"scatterpolargl\":[{\"type\":\"scatterpolargl\",\"marker\":{\"colorbar\":{\"outlinewidth\":0,\"ticks\":\"\"}}}],\"bar\":[{\"error_x\":{\"color\":\"#2a3f5f\"},\"error_y\":{\"color\":\"#2a3f5f\"},\"marker\":{\"line\":{\"color\":\"#E5ECF6\",\"width\":0.5},\"pattern\":{\"fillmode\":\"overlay\",\"size\":10,\"solidity\":0.2}},\"type\":\"bar\"}],\"scattergeo\":[{\"type\":\"scattergeo\",\"marker\":{\"colorbar\":{\"outlinewidth\":0,\"ticks\":\"\"}}}],\"scatterpolar\":[{\"type\":\"scatterpolar\",\"marker\":{\"colorbar\":{\"outlinewidth\":0,\"ticks\":\"\"}}}],\"histogram\":[{\"marker\":{\"pattern\":{\"fillmode\":\"overlay\",\"size\":10,\"solidity\":0.2}},\"type\":\"histogram\"}],\"scattergl\":[{\"type\":\"scattergl\",\"marker\":{\"colorbar\":{\"outlinewidth\":0,\"ticks\":\"\"}}}],\"scatter3d\":[{\"type\":\"scatter3d\",\"line\":{\"colorbar\":{\"outlinewidth\":0,\"ticks\":\"\"}},\"marker\":{\"colorbar\":{\"outlinewidth\":0,\"ticks\":\"\"}}}],\"scattermapbox\":[{\"type\":\"scattermapbox\",\"marker\":{\"colorbar\":{\"outlinewidth\":0,\"ticks\":\"\"}}}],\"scatterternary\":[{\"type\":\"scatterternary\",\"marker\":{\"colorbar\":{\"outlinewidth\":0,\"ticks\":\"\"}}}],\"scattercarpet\":[{\"type\":\"scattercarpet\",\"marker\":{\"colorbar\":{\"outlinewidth\":0,\"ticks\":\"\"}}}],\"carpet\":[{\"aaxis\":{\"endlinecolor\":\"#2a3f5f\",\"gridcolor\":\"white\",\"linecolor\":\"white\",\"minorgridcolor\":\"white\",\"startlinecolor\":\"#2a3f5f\"},\"baxis\":{\"endlinecolor\":\"#2a3f5f\",\"gridcolor\":\"white\",\"linecolor\":\"white\",\"minorgridcolor\":\"white\",\"startlinecolor\":\"#2a3f5f\"},\"type\":\"carpet\"}],\"table\":[{\"cells\":{\"fill\":{\"color\":\"#EBF0F8\"},\"line\":{\"color\":\"white\"}},\"header\":{\"fill\":{\"color\":\"#C8D4E3\"},\"line\":{\"color\":\"white\"}},\"type\":\"table\"}],\"barpolar\":[{\"marker\":{\"line\":{\"color\":\"#E5ECF6\",\"width\":0.5},\"pattern\":{\"fillmode\":\"overlay\",\"size\":10,\"solidity\":0.2}},\"type\":\"barpolar\"}],\"pie\":[{\"automargin\":true,\"type\":\"pie\"}]},\"layout\":{\"autotypenumbers\":\"strict\",\"colorway\":[\"#636efa\",\"#EF553B\",\"#00cc96\",\"#ab63fa\",\"#FFA15A\",\"#19d3f3\",\"#FF6692\",\"#B6E880\",\"#FF97FF\",\"#FECB52\"],\"font\":{\"color\":\"#2a3f5f\"},\"hovermode\":\"closest\",\"hoverlabel\":{\"align\":\"left\"},\"paper_bgcolor\":\"white\",\"plot_bgcolor\":\"#E5ECF6\",\"polar\":{\"bgcolor\":\"#E5ECF6\",\"angularaxis\":{\"gridcolor\":\"white\",\"linecolor\":\"white\",\"ticks\":\"\"},\"radialaxis\":{\"gridcolor\":\"white\",\"linecolor\":\"white\",\"ticks\":\"\"}},\"ternary\":{\"bgcolor\":\"#E5ECF6\",\"aaxis\":{\"gridcolor\":\"white\",\"linecolor\":\"white\",\"ticks\":\"\"},\"baxis\":{\"gridcolor\":\"white\",\"linecolor\":\"white\",\"ticks\":\"\"},\"caxis\":{\"gridcolor\":\"white\",\"linecolor\":\"white\",\"ticks\":\"\"}},\"coloraxis\":{\"colorbar\":{\"outlinewidth\":0,\"ticks\":\"\"}},\"colorscale\":{\"sequential\":[[0.0,\"#0d0887\"],[0.1111111111111111,\"#46039f\"],[0.2222222222222222,\"#7201a8\"],[0.3333333333333333,\"#9c179e\"],[0.4444444444444444,\"#bd3786\"],[0.5555555555555556,\"#d8576b\"],[0.6666666666666666,\"#ed7953\"],[0.7777777777777778,\"#fb9f3a\"],[0.8888888888888888,\"#fdca26\"],[1.0,\"#f0f921\"]],\"sequentialminus\":[[0.0,\"#0d0887\"],[0.1111111111111111,\"#46039f\"],[0.2222222222222222,\"#7201a8\"],[0.3333333333333333,\"#9c179e\"],[0.4444444444444444,\"#bd3786\"],[0.5555555555555556,\"#d8576b\"],[0.6666666666666666,\"#ed7953\"],[0.7777777777777778,\"#fb9f3a\"],[0.8888888888888888,\"#fdca26\"],[1.0,\"#f0f921\"]],\"diverging\":[[0,\"#8e0152\"],[0.1,\"#c51b7d\"],[0.2,\"#de77ae\"],[0.3,\"#f1b6da\"],[0.4,\"#fde0ef\"],[0.5,\"#f7f7f7\"],[0.6,\"#e6f5d0\"],[0.7,\"#b8e186\"],[0.8,\"#7fbc41\"],[0.9,\"#4d9221\"],[1,\"#276419\"]]},\"xaxis\":{\"gridcolor\":\"white\",\"linecolor\":\"white\",\"ticks\":\"\",\"title\":{\"standoff\":15},\"zerolinecolor\":\"white\",\"automargin\":true,\"zerolinewidth\":2},\"yaxis\":{\"gridcolor\":\"white\",\"linecolor\":\"white\",\"ticks\":\"\",\"title\":{\"standoff\":15},\"zerolinecolor\":\"white\",\"automargin\":true,\"zerolinewidth\":2},\"scene\":{\"xaxis\":{\"backgroundcolor\":\"#E5ECF6\",\"gridcolor\":\"white\",\"linecolor\":\"white\",\"showbackground\":true,\"ticks\":\"\",\"zerolinecolor\":\"white\",\"gridwidth\":2},\"yaxis\":{\"backgroundcolor\":\"#E5ECF6\",\"gridcolor\":\"white\",\"linecolor\":\"white\",\"showbackground\":true,\"ticks\":\"\",\"zerolinecolor\":\"white\",\"gridwidth\":2},\"zaxis\":{\"backgroundcolor\":\"#E5ECF6\",\"gridcolor\":\"white\",\"linecolor\":\"white\",\"showbackground\":true,\"ticks\":\"\",\"zerolinecolor\":\"white\",\"gridwidth\":2}},\"shapedefaults\":{\"line\":{\"color\":\"#2a3f5f\"}},\"annotationdefaults\":{\"arrowcolor\":\"#2a3f5f\",\"arrowhead\":0,\"arrowwidth\":1},\"geo\":{\"bgcolor\":\"white\",\"landcolor\":\"#E5ECF6\",\"subunitcolor\":\"white\",\"showland\":true,\"showlakes\":true,\"lakecolor\":\"white\"},\"title\":{\"x\":0.05},\"mapbox\":{\"style\":\"light\"}}}},                        {\"responsive\": true}                    ).then(function(){\n",
       "                            \n",
       "var gd = document.getElementById('aa29caf4-5bba-47ad-9388-64f62c3d66ec');\n",
       "var x = new MutationObserver(function (mutations, observer) {{\n",
       "        var display = window.getComputedStyle(gd).display;\n",
       "        if (!display || display === 'none') {{\n",
       "            console.log([gd, 'removed!']);\n",
       "            Plotly.purge(gd);\n",
       "            observer.disconnect();\n",
       "        }}\n",
       "}});\n",
       "\n",
       "// Listen for the removal of the full notebook cells\n",
       "var notebookContainer = gd.closest('#notebook-container');\n",
       "if (notebookContainer) {{\n",
       "    x.observe(notebookContainer, {childList: true});\n",
       "}}\n",
       "\n",
       "// Listen for the clearing of the current output cell\n",
       "var outputEl = gd.closest('.output');\n",
       "if (outputEl) {{\n",
       "    x.observe(outputEl, {childList: true});\n",
       "}}\n",
       "\n",
       "                        })                };                });            </script>        </div>"
      ]
     },
     "metadata": {},
     "output_type": "display_data"
    }
   ],
   "source": [
    "names = df.columns[5:11]\n",
    "# convert DataFrame to list\n",
    "values=[] \n",
    "for column in df.iloc[:,5:11].columns:\n",
    "    li = df[column].tolist()\n",
    "    values.append(li)\n",
    "colors = ['gold', 'mediumturquoise', 'darkorange', 'lightgreen','cyan', 'royalblue']\n",
    "\n",
    "fig = go.Figure()\n",
    "for xd, yd, cls in zip(names, values, colors):\n",
    "        fig.add_trace(go.Box(\n",
    "            y=yd,\n",
    "            name=xd,\n",
    "            boxpoints='outliers',\n",
    "            jitter=0.5,\n",
    "            whiskerwidth=0.2,\n",
    "            fillcolor=cls,\n",
    "            marker_size=3,\n",
    "            line_width=2)\n",
    "        )\n",
    "fig.show()"
   ]
  },
  {
   "cell_type": "code",
   "execution_count": 15,
   "metadata": {},
   "outputs": [
    {
     "data": {
      "application/vnd.plotly.v1+json": {
       "config": {
        "plotlyServerURL": "https://plot.ly"
       },
       "data": [
        {
         "hoverinfo": "label+percent",
         "labels": [
          "Benign",
          "Malignant"
         ],
         "marker": {
          "colors": [
           "gold",
           "mediumturquoise"
          ],
          "line": {
           "color": "#000000",
           "width": 2
          }
         },
         "textfont": {
          "size": 20
         },
         "textinfo": "value",
         "type": "pie",
         "values": [
          357,
          212
         ]
        }
       ],
       "layout": {
        "template": {
         "data": {
          "bar": [
           {
            "error_x": {
             "color": "#2a3f5f"
            },
            "error_y": {
             "color": "#2a3f5f"
            },
            "marker": {
             "line": {
              "color": "#E5ECF6",
              "width": 0.5
             },
             "pattern": {
              "fillmode": "overlay",
              "size": 10,
              "solidity": 0.2
             }
            },
            "type": "bar"
           }
          ],
          "barpolar": [
           {
            "marker": {
             "line": {
              "color": "#E5ECF6",
              "width": 0.5
             },
             "pattern": {
              "fillmode": "overlay",
              "size": 10,
              "solidity": 0.2
             }
            },
            "type": "barpolar"
           }
          ],
          "carpet": [
           {
            "aaxis": {
             "endlinecolor": "#2a3f5f",
             "gridcolor": "white",
             "linecolor": "white",
             "minorgridcolor": "white",
             "startlinecolor": "#2a3f5f"
            },
            "baxis": {
             "endlinecolor": "#2a3f5f",
             "gridcolor": "white",
             "linecolor": "white",
             "minorgridcolor": "white",
             "startlinecolor": "#2a3f5f"
            },
            "type": "carpet"
           }
          ],
          "choropleth": [
           {
            "colorbar": {
             "outlinewidth": 0,
             "ticks": ""
            },
            "type": "choropleth"
           }
          ],
          "contour": [
           {
            "colorbar": {
             "outlinewidth": 0,
             "ticks": ""
            },
            "colorscale": [
             [
              0,
              "#0d0887"
             ],
             [
              0.1111111111111111,
              "#46039f"
             ],
             [
              0.2222222222222222,
              "#7201a8"
             ],
             [
              0.3333333333333333,
              "#9c179e"
             ],
             [
              0.4444444444444444,
              "#bd3786"
             ],
             [
              0.5555555555555556,
              "#d8576b"
             ],
             [
              0.6666666666666666,
              "#ed7953"
             ],
             [
              0.7777777777777778,
              "#fb9f3a"
             ],
             [
              0.8888888888888888,
              "#fdca26"
             ],
             [
              1,
              "#f0f921"
             ]
            ],
            "type": "contour"
           }
          ],
          "contourcarpet": [
           {
            "colorbar": {
             "outlinewidth": 0,
             "ticks": ""
            },
            "type": "contourcarpet"
           }
          ],
          "heatmap": [
           {
            "colorbar": {
             "outlinewidth": 0,
             "ticks": ""
            },
            "colorscale": [
             [
              0,
              "#0d0887"
             ],
             [
              0.1111111111111111,
              "#46039f"
             ],
             [
              0.2222222222222222,
              "#7201a8"
             ],
             [
              0.3333333333333333,
              "#9c179e"
             ],
             [
              0.4444444444444444,
              "#bd3786"
             ],
             [
              0.5555555555555556,
              "#d8576b"
             ],
             [
              0.6666666666666666,
              "#ed7953"
             ],
             [
              0.7777777777777778,
              "#fb9f3a"
             ],
             [
              0.8888888888888888,
              "#fdca26"
             ],
             [
              1,
              "#f0f921"
             ]
            ],
            "type": "heatmap"
           }
          ],
          "heatmapgl": [
           {
            "colorbar": {
             "outlinewidth": 0,
             "ticks": ""
            },
            "colorscale": [
             [
              0,
              "#0d0887"
             ],
             [
              0.1111111111111111,
              "#46039f"
             ],
             [
              0.2222222222222222,
              "#7201a8"
             ],
             [
              0.3333333333333333,
              "#9c179e"
             ],
             [
              0.4444444444444444,
              "#bd3786"
             ],
             [
              0.5555555555555556,
              "#d8576b"
             ],
             [
              0.6666666666666666,
              "#ed7953"
             ],
             [
              0.7777777777777778,
              "#fb9f3a"
             ],
             [
              0.8888888888888888,
              "#fdca26"
             ],
             [
              1,
              "#f0f921"
             ]
            ],
            "type": "heatmapgl"
           }
          ],
          "histogram": [
           {
            "marker": {
             "pattern": {
              "fillmode": "overlay",
              "size": 10,
              "solidity": 0.2
             }
            },
            "type": "histogram"
           }
          ],
          "histogram2d": [
           {
            "colorbar": {
             "outlinewidth": 0,
             "ticks": ""
            },
            "colorscale": [
             [
              0,
              "#0d0887"
             ],
             [
              0.1111111111111111,
              "#46039f"
             ],
             [
              0.2222222222222222,
              "#7201a8"
             ],
             [
              0.3333333333333333,
              "#9c179e"
             ],
             [
              0.4444444444444444,
              "#bd3786"
             ],
             [
              0.5555555555555556,
              "#d8576b"
             ],
             [
              0.6666666666666666,
              "#ed7953"
             ],
             [
              0.7777777777777778,
              "#fb9f3a"
             ],
             [
              0.8888888888888888,
              "#fdca26"
             ],
             [
              1,
              "#f0f921"
             ]
            ],
            "type": "histogram2d"
           }
          ],
          "histogram2dcontour": [
           {
            "colorbar": {
             "outlinewidth": 0,
             "ticks": ""
            },
            "colorscale": [
             [
              0,
              "#0d0887"
             ],
             [
              0.1111111111111111,
              "#46039f"
             ],
             [
              0.2222222222222222,
              "#7201a8"
             ],
             [
              0.3333333333333333,
              "#9c179e"
             ],
             [
              0.4444444444444444,
              "#bd3786"
             ],
             [
              0.5555555555555556,
              "#d8576b"
             ],
             [
              0.6666666666666666,
              "#ed7953"
             ],
             [
              0.7777777777777778,
              "#fb9f3a"
             ],
             [
              0.8888888888888888,
              "#fdca26"
             ],
             [
              1,
              "#f0f921"
             ]
            ],
            "type": "histogram2dcontour"
           }
          ],
          "mesh3d": [
           {
            "colorbar": {
             "outlinewidth": 0,
             "ticks": ""
            },
            "type": "mesh3d"
           }
          ],
          "parcoords": [
           {
            "line": {
             "colorbar": {
              "outlinewidth": 0,
              "ticks": ""
             }
            },
            "type": "parcoords"
           }
          ],
          "pie": [
           {
            "automargin": true,
            "type": "pie"
           }
          ],
          "scatter": [
           {
            "fillpattern": {
             "fillmode": "overlay",
             "size": 10,
             "solidity": 0.2
            },
            "type": "scatter"
           }
          ],
          "scatter3d": [
           {
            "line": {
             "colorbar": {
              "outlinewidth": 0,
              "ticks": ""
             }
            },
            "marker": {
             "colorbar": {
              "outlinewidth": 0,
              "ticks": ""
             }
            },
            "type": "scatter3d"
           }
          ],
          "scattercarpet": [
           {
            "marker": {
             "colorbar": {
              "outlinewidth": 0,
              "ticks": ""
             }
            },
            "type": "scattercarpet"
           }
          ],
          "scattergeo": [
           {
            "marker": {
             "colorbar": {
              "outlinewidth": 0,
              "ticks": ""
             }
            },
            "type": "scattergeo"
           }
          ],
          "scattergl": [
           {
            "marker": {
             "colorbar": {
              "outlinewidth": 0,
              "ticks": ""
             }
            },
            "type": "scattergl"
           }
          ],
          "scattermapbox": [
           {
            "marker": {
             "colorbar": {
              "outlinewidth": 0,
              "ticks": ""
             }
            },
            "type": "scattermapbox"
           }
          ],
          "scatterpolar": [
           {
            "marker": {
             "colorbar": {
              "outlinewidth": 0,
              "ticks": ""
             }
            },
            "type": "scatterpolar"
           }
          ],
          "scatterpolargl": [
           {
            "marker": {
             "colorbar": {
              "outlinewidth": 0,
              "ticks": ""
             }
            },
            "type": "scatterpolargl"
           }
          ],
          "scatterternary": [
           {
            "marker": {
             "colorbar": {
              "outlinewidth": 0,
              "ticks": ""
             }
            },
            "type": "scatterternary"
           }
          ],
          "surface": [
           {
            "colorbar": {
             "outlinewidth": 0,
             "ticks": ""
            },
            "colorscale": [
             [
              0,
              "#0d0887"
             ],
             [
              0.1111111111111111,
              "#46039f"
             ],
             [
              0.2222222222222222,
              "#7201a8"
             ],
             [
              0.3333333333333333,
              "#9c179e"
             ],
             [
              0.4444444444444444,
              "#bd3786"
             ],
             [
              0.5555555555555556,
              "#d8576b"
             ],
             [
              0.6666666666666666,
              "#ed7953"
             ],
             [
              0.7777777777777778,
              "#fb9f3a"
             ],
             [
              0.8888888888888888,
              "#fdca26"
             ],
             [
              1,
              "#f0f921"
             ]
            ],
            "type": "surface"
           }
          ],
          "table": [
           {
            "cells": {
             "fill": {
              "color": "#EBF0F8"
             },
             "line": {
              "color": "white"
             }
            },
            "header": {
             "fill": {
              "color": "#C8D4E3"
             },
             "line": {
              "color": "white"
             }
            },
            "type": "table"
           }
          ]
         },
         "layout": {
          "annotationdefaults": {
           "arrowcolor": "#2a3f5f",
           "arrowhead": 0,
           "arrowwidth": 1
          },
          "autotypenumbers": "strict",
          "coloraxis": {
           "colorbar": {
            "outlinewidth": 0,
            "ticks": ""
           }
          },
          "colorscale": {
           "diverging": [
            [
             0,
             "#8e0152"
            ],
            [
             0.1,
             "#c51b7d"
            ],
            [
             0.2,
             "#de77ae"
            ],
            [
             0.3,
             "#f1b6da"
            ],
            [
             0.4,
             "#fde0ef"
            ],
            [
             0.5,
             "#f7f7f7"
            ],
            [
             0.6,
             "#e6f5d0"
            ],
            [
             0.7,
             "#b8e186"
            ],
            [
             0.8,
             "#7fbc41"
            ],
            [
             0.9,
             "#4d9221"
            ],
            [
             1,
             "#276419"
            ]
           ],
           "sequential": [
            [
             0,
             "#0d0887"
            ],
            [
             0.1111111111111111,
             "#46039f"
            ],
            [
             0.2222222222222222,
             "#7201a8"
            ],
            [
             0.3333333333333333,
             "#9c179e"
            ],
            [
             0.4444444444444444,
             "#bd3786"
            ],
            [
             0.5555555555555556,
             "#d8576b"
            ],
            [
             0.6666666666666666,
             "#ed7953"
            ],
            [
             0.7777777777777778,
             "#fb9f3a"
            ],
            [
             0.8888888888888888,
             "#fdca26"
            ],
            [
             1,
             "#f0f921"
            ]
           ],
           "sequentialminus": [
            [
             0,
             "#0d0887"
            ],
            [
             0.1111111111111111,
             "#46039f"
            ],
            [
             0.2222222222222222,
             "#7201a8"
            ],
            [
             0.3333333333333333,
             "#9c179e"
            ],
            [
             0.4444444444444444,
             "#bd3786"
            ],
            [
             0.5555555555555556,
             "#d8576b"
            ],
            [
             0.6666666666666666,
             "#ed7953"
            ],
            [
             0.7777777777777778,
             "#fb9f3a"
            ],
            [
             0.8888888888888888,
             "#fdca26"
            ],
            [
             1,
             "#f0f921"
            ]
           ]
          },
          "colorway": [
           "#636efa",
           "#EF553B",
           "#00cc96",
           "#ab63fa",
           "#FFA15A",
           "#19d3f3",
           "#FF6692",
           "#B6E880",
           "#FF97FF",
           "#FECB52"
          ],
          "font": {
           "color": "#2a3f5f"
          },
          "geo": {
           "bgcolor": "white",
           "lakecolor": "white",
           "landcolor": "#E5ECF6",
           "showlakes": true,
           "showland": true,
           "subunitcolor": "white"
          },
          "hoverlabel": {
           "align": "left"
          },
          "hovermode": "closest",
          "mapbox": {
           "style": "light"
          },
          "paper_bgcolor": "white",
          "plot_bgcolor": "#E5ECF6",
          "polar": {
           "angularaxis": {
            "gridcolor": "white",
            "linecolor": "white",
            "ticks": ""
           },
           "bgcolor": "#E5ECF6",
           "radialaxis": {
            "gridcolor": "white",
            "linecolor": "white",
            "ticks": ""
           }
          },
          "scene": {
           "xaxis": {
            "backgroundcolor": "#E5ECF6",
            "gridcolor": "white",
            "gridwidth": 2,
            "linecolor": "white",
            "showbackground": true,
            "ticks": "",
            "zerolinecolor": "white"
           },
           "yaxis": {
            "backgroundcolor": "#E5ECF6",
            "gridcolor": "white",
            "gridwidth": 2,
            "linecolor": "white",
            "showbackground": true,
            "ticks": "",
            "zerolinecolor": "white"
           },
           "zaxis": {
            "backgroundcolor": "#E5ECF6",
            "gridcolor": "white",
            "gridwidth": 2,
            "linecolor": "white",
            "showbackground": true,
            "ticks": "",
            "zerolinecolor": "white"
           }
          },
          "shapedefaults": {
           "line": {
            "color": "#2a3f5f"
           }
          },
          "ternary": {
           "aaxis": {
            "gridcolor": "white",
            "linecolor": "white",
            "ticks": ""
           },
           "baxis": {
            "gridcolor": "white",
            "linecolor": "white",
            "ticks": ""
           },
           "bgcolor": "#E5ECF6",
           "caxis": {
            "gridcolor": "white",
            "linecolor": "white",
            "ticks": ""
           }
          },
          "title": {
           "x": 0.05
          },
          "xaxis": {
           "automargin": true,
           "gridcolor": "white",
           "linecolor": "white",
           "ticks": "",
           "title": {
            "standoff": 15
           },
           "zerolinecolor": "white",
           "zerolinewidth": 2
          },
          "yaxis": {
           "automargin": true,
           "gridcolor": "white",
           "linecolor": "white",
           "ticks": "",
           "title": {
            "standoff": 15
           },
           "zerolinecolor": "white",
           "zerolinewidth": 2
          }
         }
        }
       }
      },
      "text/html": [
       "<div>                            <div id=\"aae88542-209a-4170-bd52-14aca23b9d7a\" class=\"plotly-graph-div\" style=\"height:525px; width:100%;\"></div>            <script type=\"text/javascript\">                require([\"plotly\"], function(Plotly) {                    window.PLOTLYENV=window.PLOTLYENV || {};                                    if (document.getElementById(\"aae88542-209a-4170-bd52-14aca23b9d7a\")) {                    Plotly.newPlot(                        \"aae88542-209a-4170-bd52-14aca23b9d7a\",                        [{\"labels\":[\"Benign\",\"Malignant\"],\"textinfo\":\"value\",\"values\":[357,212],\"type\":\"pie\",\"textfont\":{\"size\":20},\"marker\":{\"line\":{\"color\":\"#000000\",\"width\":2},\"colors\":[\"gold\",\"mediumturquoise\"]},\"hoverinfo\":\"label+percent\"}],                        {\"template\":{\"data\":{\"histogram2dcontour\":[{\"type\":\"histogram2dcontour\",\"colorbar\":{\"outlinewidth\":0,\"ticks\":\"\"},\"colorscale\":[[0.0,\"#0d0887\"],[0.1111111111111111,\"#46039f\"],[0.2222222222222222,\"#7201a8\"],[0.3333333333333333,\"#9c179e\"],[0.4444444444444444,\"#bd3786\"],[0.5555555555555556,\"#d8576b\"],[0.6666666666666666,\"#ed7953\"],[0.7777777777777778,\"#fb9f3a\"],[0.8888888888888888,\"#fdca26\"],[1.0,\"#f0f921\"]]}],\"choropleth\":[{\"type\":\"choropleth\",\"colorbar\":{\"outlinewidth\":0,\"ticks\":\"\"}}],\"histogram2d\":[{\"type\":\"histogram2d\",\"colorbar\":{\"outlinewidth\":0,\"ticks\":\"\"},\"colorscale\":[[0.0,\"#0d0887\"],[0.1111111111111111,\"#46039f\"],[0.2222222222222222,\"#7201a8\"],[0.3333333333333333,\"#9c179e\"],[0.4444444444444444,\"#bd3786\"],[0.5555555555555556,\"#d8576b\"],[0.6666666666666666,\"#ed7953\"],[0.7777777777777778,\"#fb9f3a\"],[0.8888888888888888,\"#fdca26\"],[1.0,\"#f0f921\"]]}],\"heatmap\":[{\"type\":\"heatmap\",\"colorbar\":{\"outlinewidth\":0,\"ticks\":\"\"},\"colorscale\":[[0.0,\"#0d0887\"],[0.1111111111111111,\"#46039f\"],[0.2222222222222222,\"#7201a8\"],[0.3333333333333333,\"#9c179e\"],[0.4444444444444444,\"#bd3786\"],[0.5555555555555556,\"#d8576b\"],[0.6666666666666666,\"#ed7953\"],[0.7777777777777778,\"#fb9f3a\"],[0.8888888888888888,\"#fdca26\"],[1.0,\"#f0f921\"]]}],\"heatmapgl\":[{\"type\":\"heatmapgl\",\"colorbar\":{\"outlinewidth\":0,\"ticks\":\"\"},\"colorscale\":[[0.0,\"#0d0887\"],[0.1111111111111111,\"#46039f\"],[0.2222222222222222,\"#7201a8\"],[0.3333333333333333,\"#9c179e\"],[0.4444444444444444,\"#bd3786\"],[0.5555555555555556,\"#d8576b\"],[0.6666666666666666,\"#ed7953\"],[0.7777777777777778,\"#fb9f3a\"],[0.8888888888888888,\"#fdca26\"],[1.0,\"#f0f921\"]]}],\"contourcarpet\":[{\"type\":\"contourcarpet\",\"colorbar\":{\"outlinewidth\":0,\"ticks\":\"\"}}],\"contour\":[{\"type\":\"contour\",\"colorbar\":{\"outlinewidth\":0,\"ticks\":\"\"},\"colorscale\":[[0.0,\"#0d0887\"],[0.1111111111111111,\"#46039f\"],[0.2222222222222222,\"#7201a8\"],[0.3333333333333333,\"#9c179e\"],[0.4444444444444444,\"#bd3786\"],[0.5555555555555556,\"#d8576b\"],[0.6666666666666666,\"#ed7953\"],[0.7777777777777778,\"#fb9f3a\"],[0.8888888888888888,\"#fdca26\"],[1.0,\"#f0f921\"]]}],\"surface\":[{\"type\":\"surface\",\"colorbar\":{\"outlinewidth\":0,\"ticks\":\"\"},\"colorscale\":[[0.0,\"#0d0887\"],[0.1111111111111111,\"#46039f\"],[0.2222222222222222,\"#7201a8\"],[0.3333333333333333,\"#9c179e\"],[0.4444444444444444,\"#bd3786\"],[0.5555555555555556,\"#d8576b\"],[0.6666666666666666,\"#ed7953\"],[0.7777777777777778,\"#fb9f3a\"],[0.8888888888888888,\"#fdca26\"],[1.0,\"#f0f921\"]]}],\"mesh3d\":[{\"type\":\"mesh3d\",\"colorbar\":{\"outlinewidth\":0,\"ticks\":\"\"}}],\"scatter\":[{\"fillpattern\":{\"fillmode\":\"overlay\",\"size\":10,\"solidity\":0.2},\"type\":\"scatter\"}],\"parcoords\":[{\"type\":\"parcoords\",\"line\":{\"colorbar\":{\"outlinewidth\":0,\"ticks\":\"\"}}}],\"scatterpolargl\":[{\"type\":\"scatterpolargl\",\"marker\":{\"colorbar\":{\"outlinewidth\":0,\"ticks\":\"\"}}}],\"bar\":[{\"error_x\":{\"color\":\"#2a3f5f\"},\"error_y\":{\"color\":\"#2a3f5f\"},\"marker\":{\"line\":{\"color\":\"#E5ECF6\",\"width\":0.5},\"pattern\":{\"fillmode\":\"overlay\",\"size\":10,\"solidity\":0.2}},\"type\":\"bar\"}],\"scattergeo\":[{\"type\":\"scattergeo\",\"marker\":{\"colorbar\":{\"outlinewidth\":0,\"ticks\":\"\"}}}],\"scatterpolar\":[{\"type\":\"scatterpolar\",\"marker\":{\"colorbar\":{\"outlinewidth\":0,\"ticks\":\"\"}}}],\"histogram\":[{\"marker\":{\"pattern\":{\"fillmode\":\"overlay\",\"size\":10,\"solidity\":0.2}},\"type\":\"histogram\"}],\"scattergl\":[{\"type\":\"scattergl\",\"marker\":{\"colorbar\":{\"outlinewidth\":0,\"ticks\":\"\"}}}],\"scatter3d\":[{\"type\":\"scatter3d\",\"line\":{\"colorbar\":{\"outlinewidth\":0,\"ticks\":\"\"}},\"marker\":{\"colorbar\":{\"outlinewidth\":0,\"ticks\":\"\"}}}],\"scattermapbox\":[{\"type\":\"scattermapbox\",\"marker\":{\"colorbar\":{\"outlinewidth\":0,\"ticks\":\"\"}}}],\"scatterternary\":[{\"type\":\"scatterternary\",\"marker\":{\"colorbar\":{\"outlinewidth\":0,\"ticks\":\"\"}}}],\"scattercarpet\":[{\"type\":\"scattercarpet\",\"marker\":{\"colorbar\":{\"outlinewidth\":0,\"ticks\":\"\"}}}],\"carpet\":[{\"aaxis\":{\"endlinecolor\":\"#2a3f5f\",\"gridcolor\":\"white\",\"linecolor\":\"white\",\"minorgridcolor\":\"white\",\"startlinecolor\":\"#2a3f5f\"},\"baxis\":{\"endlinecolor\":\"#2a3f5f\",\"gridcolor\":\"white\",\"linecolor\":\"white\",\"minorgridcolor\":\"white\",\"startlinecolor\":\"#2a3f5f\"},\"type\":\"carpet\"}],\"table\":[{\"cells\":{\"fill\":{\"color\":\"#EBF0F8\"},\"line\":{\"color\":\"white\"}},\"header\":{\"fill\":{\"color\":\"#C8D4E3\"},\"line\":{\"color\":\"white\"}},\"type\":\"table\"}],\"barpolar\":[{\"marker\":{\"line\":{\"color\":\"#E5ECF6\",\"width\":0.5},\"pattern\":{\"fillmode\":\"overlay\",\"size\":10,\"solidity\":0.2}},\"type\":\"barpolar\"}],\"pie\":[{\"automargin\":true,\"type\":\"pie\"}]},\"layout\":{\"autotypenumbers\":\"strict\",\"colorway\":[\"#636efa\",\"#EF553B\",\"#00cc96\",\"#ab63fa\",\"#FFA15A\",\"#19d3f3\",\"#FF6692\",\"#B6E880\",\"#FF97FF\",\"#FECB52\"],\"font\":{\"color\":\"#2a3f5f\"},\"hovermode\":\"closest\",\"hoverlabel\":{\"align\":\"left\"},\"paper_bgcolor\":\"white\",\"plot_bgcolor\":\"#E5ECF6\",\"polar\":{\"bgcolor\":\"#E5ECF6\",\"angularaxis\":{\"gridcolor\":\"white\",\"linecolor\":\"white\",\"ticks\":\"\"},\"radialaxis\":{\"gridcolor\":\"white\",\"linecolor\":\"white\",\"ticks\":\"\"}},\"ternary\":{\"bgcolor\":\"#E5ECF6\",\"aaxis\":{\"gridcolor\":\"white\",\"linecolor\":\"white\",\"ticks\":\"\"},\"baxis\":{\"gridcolor\":\"white\",\"linecolor\":\"white\",\"ticks\":\"\"},\"caxis\":{\"gridcolor\":\"white\",\"linecolor\":\"white\",\"ticks\":\"\"}},\"coloraxis\":{\"colorbar\":{\"outlinewidth\":0,\"ticks\":\"\"}},\"colorscale\":{\"sequential\":[[0.0,\"#0d0887\"],[0.1111111111111111,\"#46039f\"],[0.2222222222222222,\"#7201a8\"],[0.3333333333333333,\"#9c179e\"],[0.4444444444444444,\"#bd3786\"],[0.5555555555555556,\"#d8576b\"],[0.6666666666666666,\"#ed7953\"],[0.7777777777777778,\"#fb9f3a\"],[0.8888888888888888,\"#fdca26\"],[1.0,\"#f0f921\"]],\"sequentialminus\":[[0.0,\"#0d0887\"],[0.1111111111111111,\"#46039f\"],[0.2222222222222222,\"#7201a8\"],[0.3333333333333333,\"#9c179e\"],[0.4444444444444444,\"#bd3786\"],[0.5555555555555556,\"#d8576b\"],[0.6666666666666666,\"#ed7953\"],[0.7777777777777778,\"#fb9f3a\"],[0.8888888888888888,\"#fdca26\"],[1.0,\"#f0f921\"]],\"diverging\":[[0,\"#8e0152\"],[0.1,\"#c51b7d\"],[0.2,\"#de77ae\"],[0.3,\"#f1b6da\"],[0.4,\"#fde0ef\"],[0.5,\"#f7f7f7\"],[0.6,\"#e6f5d0\"],[0.7,\"#b8e186\"],[0.8,\"#7fbc41\"],[0.9,\"#4d9221\"],[1,\"#276419\"]]},\"xaxis\":{\"gridcolor\":\"white\",\"linecolor\":\"white\",\"ticks\":\"\",\"title\":{\"standoff\":15},\"zerolinecolor\":\"white\",\"automargin\":true,\"zerolinewidth\":2},\"yaxis\":{\"gridcolor\":\"white\",\"linecolor\":\"white\",\"ticks\":\"\",\"title\":{\"standoff\":15},\"zerolinecolor\":\"white\",\"automargin\":true,\"zerolinewidth\":2},\"scene\":{\"xaxis\":{\"backgroundcolor\":\"#E5ECF6\",\"gridcolor\":\"white\",\"linecolor\":\"white\",\"showbackground\":true,\"ticks\":\"\",\"zerolinecolor\":\"white\",\"gridwidth\":2},\"yaxis\":{\"backgroundcolor\":\"#E5ECF6\",\"gridcolor\":\"white\",\"linecolor\":\"white\",\"showbackground\":true,\"ticks\":\"\",\"zerolinecolor\":\"white\",\"gridwidth\":2},\"zaxis\":{\"backgroundcolor\":\"#E5ECF6\",\"gridcolor\":\"white\",\"linecolor\":\"white\",\"showbackground\":true,\"ticks\":\"\",\"zerolinecolor\":\"white\",\"gridwidth\":2}},\"shapedefaults\":{\"line\":{\"color\":\"#2a3f5f\"}},\"annotationdefaults\":{\"arrowcolor\":\"#2a3f5f\",\"arrowhead\":0,\"arrowwidth\":1},\"geo\":{\"bgcolor\":\"white\",\"landcolor\":\"#E5ECF6\",\"subunitcolor\":\"white\",\"showland\":true,\"showlakes\":true,\"lakecolor\":\"white\"},\"title\":{\"x\":0.05},\"mapbox\":{\"style\":\"light\"}}}},                        {\"responsive\": true}                    ).then(function(){\n",
       "                            \n",
       "var gd = document.getElementById('aae88542-209a-4170-bd52-14aca23b9d7a');\n",
       "var x = new MutationObserver(function (mutations, observer) {{\n",
       "        var display = window.getComputedStyle(gd).display;\n",
       "        if (!display || display === 'none') {{\n",
       "            console.log([gd, 'removed!']);\n",
       "            Plotly.purge(gd);\n",
       "            observer.disconnect();\n",
       "        }}\n",
       "}});\n",
       "\n",
       "// Listen for the removal of the full notebook cells\n",
       "var notebookContainer = gd.closest('#notebook-container');\n",
       "if (notebookContainer) {{\n",
       "    x.observe(notebookContainer, {childList: true});\n",
       "}}\n",
       "\n",
       "// Listen for the clearing of the current output cell\n",
       "var outputEl = gd.closest('.output');\n",
       "if (outputEl) {{\n",
       "    x.observe(outputEl, {childList: true});\n",
       "}}\n",
       "\n",
       "                        })                };                });            </script>        </div>"
      ]
     },
     "metadata": {},
     "output_type": "display_data"
    }
   ],
   "source": [
    "fig = go.Figure(data=[go.Pie(labels=['Benign','Malignant'], values=df['diagnosis'].value_counts(), textinfo='label+percent')])\n",
    "fig.update_traces(hoverinfo='label+percent', textinfo='value', textfont_size=20,\n",
    "                  marker=dict(colors=['gold', 'mediumturquoise'], line=dict(color='#000000', width=2)))\n",
    "fig.show()"
   ]
  },
  {
   "cell_type": "code",
   "execution_count": 16,
   "metadata": {},
   "outputs": [
    {
     "data": {
      "text/plain": [
       "<seaborn.axisgrid.PairGrid at 0x12fcc47d0>"
      ]
     },
     "execution_count": 16,
     "metadata": {},
     "output_type": "execute_result"
    },
    {
     "data": {
      "image/png": "[encoded data removed]",
      "text/plain": [
       "<Figure size 876.736x800 with 30 Axes>"
      ]
     },
     "metadata": {},
     "output_type": "display_data"
    }
   ],
   "source": [
    "sns.pairplot(df.iloc[:,:6],hue='diagnosis', diag_kind='hist',height=1.6)\n"
   ]
  },
  {
   "cell_type": "code",
   "execution_count": 17,
   "metadata": {},
   "outputs": [
    {
     "data": {
      "application/vnd.plotly.v1+json": {
       "config": {
        "plotlyServerURL": "https://plot.ly"
       },
       "data": [
        {
         "type": "heatmap",
         "x": [
          "radius_mean",
          "texture_mean",
          "perimeter_mean",
          "area_mean",
          "smoothness_mean",
          "compactness_mean",
          "concavity_mean",
          "concave points_mean",
          "symmetry_mean",
          "fractal_dimension_mean",
          "radius_se",
          "texture_se",
          "perimeter_se",
          "area_se",
          "smoothness_se",
          "compactness_se",
          "concavity_se",
          "concave points_se",
          "symmetry_se",
          "fractal_dimension_se",
          "radius_worst",
          "texture_worst",
          "perimeter_worst",
          "area_worst",
          "smoothness_worst",
          "compactness_worst",
          "concavity_worst",
          "concave points_worst",
          "symmetry_worst",
          "fractal_dimension_worst"
         ],
         "xgap": 1,
         "y": [
          "radius_mean",
          "texture_mean",
          "perimeter_mean",
          "area_mean",
          "smoothness_mean",
          "compactness_mean",
          "concavity_mean",
          "concave points_mean",
          "symmetry_mean",
          "fractal_dimension_mean",
          "radius_se",
          "texture_se",
          "perimeter_se",
          "area_se",
          "smoothness_se",
          "compactness_se",
          "concavity_se",
          "concave points_se",
          "symmetry_se",
          "fractal_dimension_se",
          "radius_worst",
          "texture_worst",
          "perimeter_worst",
          "area_worst",
          "smoothness_worst",
          "compactness_worst",
          "concavity_worst",
          "concave points_worst",
          "symmetry_worst",
          "fractal_dimension_worst"
         ],
         "ygap": 1,
         "z": [
          [
           1,
           0.32378189092773324,
           0.9978552814938106,
           0.9873571700566129,
           0.17058118749299458,
           0.506123577526363,
           0.6767635503908105,
           0.8225285223871784,
           0.14774124199260188,
           -0.31163082630928984,
           0.6790903880020744,
           -0.09731744314481315,
           0.6741716157641049,
           0.7358636632128176,
           -0.22260012458211142,
           0.2059999804076987,
           0.1942036227615088,
           0.3761689559399252,
           -0.10432088141786554,
           -0.04264126911445634,
           0.9695389726112049,
           0.2970076439863734,
           0.9651365139559871,
           0.9410824595860461,
           0.11961613992160791,
           0.4134628230608012,
           0.5269114618385446,
           0.7442141978674655,
           0.16395333493630693,
           0.007065885692182385
          ],
          [
           0.32378189092773324,
           1,
           0.3295330586865707,
           0.3210856960802071,
           -0.023388515998423332,
           0.23670222207437197,
           0.30241782794389144,
           0.29346405131394276,
           0.07140098048331764,
           -0.0764371834481342,
           0.2758686761737625,
           0.38635762272449065,
           0.28167311478720264,
           0.2598449866100985,
           0.0066137773535855215,
           0.1919746113239669,
           0.14329307656049867,
           0.16385102528521822,
           0.009127167755035892,
           0.05445751956893386,
           0.35257294715029575,
           0.912044588840421,
           0.3580395750532242,
           0.3435459471864695,
           0.07750335882212907,
           0.2778295924789794,
           0.3010252238164912,
           0.2953158433377365,
           0.10500791031597186,
           0.11920535139708566
          ],
          [
           0.9978552814938106,
           0.3295330586865707,
           1,
           0.9865068039913908,
           0.20727816369100724,
           0.5569362108795619,
           0.7161356501174047,
           0.8509770412528194,
           0.18302721211685316,
           -0.2614769080663325,
           0.6917650135334819,
           -0.08676107831179455,
           0.6931348895408653,
           0.7449826941190684,
           -0.20269402629832212,
           0.2507436807405881,
           0.22808234539365824,
           0.407216915998619,
           -0.08162932702839933,
           -0.005523391057003878,
           0.9694763634663146,
           0.3030383715571504,
           0.9703868870426395,
           0.9415498080023067,
           0.1505494043170373,
           0.4557742280383272,
           0.5638792634736619,
           0.7712407893605496,
           0.18911504046245772,
           0.051018529723407056
          ],
          [
           0.9873571700566129,
           0.3210856960802071,
           0.9865068039913908,
           1,
           0.1770283772540016,
           0.498501682152412,
           0.6859828285519112,
           0.8232688686524342,
           0.1512930790351123,
           -0.28310981169142607,
           0.7325622269972968,
           -0.06628021360457734,
           0.7266283277906844,
           0.8000859212343204,
           -0.16677666660111282,
           0.2125825507792327,
           0.20766006048256924,
           0.37232028233071046,
           -0.07249658821176244,
           -0.019886963235068052,
           0.9627460860470841,
           0.28748862712139706,
           0.9591195743552647,
           0.9592133256498999,
           0.12352293875557081,
           0.3904103092424987,
           0.512605920443324,
           0.722016626260358,
           0.14356991388907164,
           0.003737597351571732
          ],
          [
           0.17058118749299458,
           -0.023388515998423332,
           0.20727816369100724,
           0.1770283772540016,
           1,
           0.6591232152159233,
           0.52198376771426,
           0.5536951727437609,
           0.5577747880728878,
           0.5847920019499776,
           0.30146709825316975,
           0.06840644817118247,
           0.29609193289351476,
           0.2465524316657356,
           0.3323754426475921,
           0.31894329670537874,
           0.24839567988255598,
           0.38067569098328613,
           0.20077437592048314,
           0.28360669854688514,
           0.21312014189594916,
           0.03607179878564651,
           0.23885262620915107,
           0.20671836342857694,
           0.805324195494363,
           0.4724684437304437,
           0.4349257147250876,
           0.503053353298951,
           0.39430948181175646,
           0.4993163685937669
          ],
          [
           0.506123577526363,
           0.23670222207437197,
           0.5569362108795619,
           0.498501682152412,
           0.6591232152159233,
           1,
           0.8831206701772507,
           0.831135043133698,
           0.6026410484055157,
           0.5653686634145217,
           0.49747344608506183,
           0.046204830716407,
           0.5489052645888236,
           0.45565285198788846,
           0.1352992677004714,
           0.7387217896603929,
           0.5705168714898889,
           0.642261850971647,
           0.22997659080143223,
           0.5073181269004213,
           0.5353153982176662,
           0.24813283327741725,
           0.5902104277312981,
           0.50960380555792,
           0.5655411663750887,
           0.8658090398022626,
           0.8162752498000282,
           0.8155732235690645,
           0.510223429921806,
           0.6873823227538975
          ],
          [
           0.6767635503908105,
           0.30241782794389144,
           0.7161356501174047,
           0.6859828285519112,
           0.52198376771426,
           0.8831206701772507,
           1,
           0.921391026378859,
           0.5006666171419607,
           0.336783359421185,
           0.6319248221414899,
           0.07621834813534022,
           0.6603907872419604,
           0.6174268058452413,
           0.09856374579911731,
           0.6702788246430194,
           0.6912702075448504,
           0.6832599165123261,
           0.1780092079208776,
           0.44930074905033784,
           0.6882364076436723,
           0.29987888870969076,
           0.7295649165132017,
           0.6759872313060873,
           0.44882203840476004,
           0.7549680159063961,
           0.8841026390943817,
           0.8613230336379513,
           0.4094641265399857,
           0.5149298906363857
          ],
          [
           0.8225285223871784,
           0.29346405131394276,
           0.8509770412528194,
           0.8232688686524342,
           0.5536951727437609,
           0.831135043133698,
           0.921391026378859,
           1,
           0.46249738836735826,
           0.16691738322699232,
           0.6980498335607401,
           0.021479581923401814,
           0.710649871613898,
           0.6902985397595536,
           0.02765330838713596,
           0.49042424959357145,
           0.43916706847426173,
           0.615634130896919,
           0.09535078688667677,
           0.25758374624303265,
           0.8303176311186159,
           0.2927517130015173,
           0.8559231281343123,
           0.8096296199096182,
           0.4527530541790489,
           0.6674536768257124,
           0.7523994975749643,
           0.910155314298592,
           0.3757441454236113,
           0.36866113371677106
          ],
          [
           0.14774124199260188,
           0.07140098048331764,
           0.18302721211685316,
           0.1512930790351123,
           0.5577747880728878,
           0.6026410484055157,
           0.5006666171419607,
           0.46249738836735826,
           1,
           0.47992133005096904,
           0.3033792632072624,
           0.12805292634025606,
           0.31389276079651307,
           0.22397021941762962,
           0.18732116526139078,
           0.4216591470050107,
           0.3426270230777206,
           0.39329787208901684,
           0.4491365423934286,
           0.33178614627312375,
           0.18572775349568738,
           0.09065068811664319,
           0.21916855911105815,
           0.17719337737409682,
           0.4266750263849465,
           0.47320001324461847,
           0.433721007590172,
           0.4302966114579542,
           0.6998257976437307,
           0.4384134984446025
          ],
          [
           -0.31163082630928984,
           -0.0764371834481342,
           -0.2614769080663325,
           -0.28310981169142607,
           0.5847920019499776,
           0.5653686634145217,
           0.336783359421185,
           0.16691738322699232,
           0.47992133005096904,
           1,
           0.00011099507262963461,
           0.1641739658717288,
           0.03982993157204734,
           -0.090170247520427,
           0.40196442544841254,
           0.5598366906211326,
           0.44663032169957156,
           0.3411980443971182,
           0.34500739714372797,
           0.6881315774585518,
           -0.2536914948766098,
           -0.051269202036765375,
           -0.2051512112627734,
           -0.23185445116756032,
           0.5049420753517612,
           0.45879815666785945,
           0.3462338763480677,
           0.17532544924324475,
           0.33401868385108374,
           0.7672967792384361
          ],
          [
           0.6790903880020744,
           0.2758686761737625,
           0.6917650135334819,
           0.7325622269972968,
           0.30146709825316975,
           0.49747344608506183,
           0.6319248221414899,
           0.6980498335607401,
           0.3033792632072624,
           0.00011099507262963461,
           1,
           0.213247337251158,
           0.9727936770160764,
           0.951830112110991,
           0.16451421981281159,
           0.3560645755322028,
           0.33235753760761044,
           0.5133464414367648,
           0.240567362450071,
           0.22775353267198015,
           0.715065195135185,
           0.19479855683425132,
           0.7196838036650045,
           0.7515484761266198,
           0.14191855291860658,
           0.2871031656007403,
           0.38058463462872183,
           0.5310623278216047,
           0.09454283035438192,
           0.04955943246457313
          ],
          [
           -0.09731744314481315,
           0.38635762272449065,
           -0.08676107831179455,
           -0.06628021360457734,
           0.06840644817118247,
           0.046204830716407,
           0.07621834813534022,
           0.021479581923401814,
           0.12805292634025606,
           0.1641739658717288,
           0.213247337251158,
           1,
           0.2231707286307139,
           0.11156724721803944,
           0.39724285264120995,
           0.2316996989762372,
           0.19499846445881905,
           0.23028339955703386,
           0.41162068019753933,
           0.2797227477191938,
           -0.11169031312493008,
           0.409002766315306,
           -0.10224192188743281,
           -0.0831949885850464,
           -0.07365765910118512,
           -0.09243935361819376,
           -0.06895622054645596,
           -0.11963752313984616,
           -0.12821475779252947,
           -0.04565456859320706
          ],
          [
           0.6741716157641049,
           0.28167311478720264,
           0.6931348895408653,
           0.7266283277906844,
           0.29609193289351476,
           0.5489052645888236,
           0.6603907872419604,
           0.710649871613898,
           0.31389276079651307,
           0.03982993157204734,
           0.9727936770160764,
           0.2231707286307139,
           1,
           0.9376554069544158,
           0.15107533120841293,
           0.41632236799246164,
           0.3624815822704489,
           0.5562640836543961,
           0.2664870918640224,
           0.24414277341628535,
           0.6972005927206456,
           0.20037085395945106,
           0.7210313099890177,
           0.7307129731302829,
           0.1300543919910096,
           0.34191944537120555,
           0.41889881573057136,
           0.5548972306282104,
           0.10993043423135032,
           0.08543257205665739
          ],
          [
           0.7358636632128176,
           0.2598449866100985,
           0.7449826941190684,
           0.8000859212343204,
           0.2465524316657356,
           0.45565285198788846,
           0.6174268058452413,
           0.6902985397595536,
           0.22397021941762962,
           -0.090170247520427,
           0.951830112110991,
           0.11156724721803944,
           0.9376554069544158,
           1,
           0.07515033812199375,
           0.2848400565411611,
           0.270894726190632,
           0.4157295683714004,
           0.1341089796924749,
           0.12707090297801246,
           0.7573731889240164,
           0.19649664907281025,
           0.761212636068759,
           0.8114079609317274,
           0.12538943051609122,
           0.28325653753745555,
           0.38510013559852924,
           0.5381663138957359,
           0.07412629159952819,
           0.017539295132385495
          ],
          [
           -0.22260012458211142,
           0.0066137773535855215,
           -0.20269402629832212,
           -0.16677666660111282,
           0.3323754426475921,
           0.1352992677004714,
           0.09856374579911731,
           0.02765330838713596,
           0.18732116526139078,
           0.40196442544841254,
           0.16451421981281159,
           0.39724285264120995,
           0.15107533120841293,
           0.07515033812199375,
           1,
           0.3366960805054452,
           0.2686847598722627,
           0.32842949910967884,
           0.4135061252078973,
           0.42737420672315823,
           -0.23069070984514767,
           -0.07474296487675625,
           -0.21730375458186166,
           -0.18219547805909897,
           0.314457455980828,
           -0.0555581387150509,
           -0.058298386743445514,
           -0.10200679633746536,
           -0.10734209778914475,
           0.10148031504252507
          ],
          [
           0.2059999804076987,
           0.1919746113239669,
           0.2507436807405881,
           0.2125825507792327,
           0.31894329670537874,
           0.7387217896603929,
           0.6702788246430194,
           0.49042424959357145,
           0.4216591470050107,
           0.5598366906211326,
           0.3560645755322028,
           0.2316996989762372,
           0.41632236799246164,
           0.2848400565411611,
           0.3366960805054452,
           1,
           0.8012683427383293,
           0.7440826676953254,
           0.39471283476203156,
           0.8032688176617678,
           0.20460716594748166,
           0.14300258329571658,
           0.26051583964720865,
           0.19937132909101388,
           0.22739423230542308,
           0.6787803543724954,
           0.6391466977559191,
           0.4832083268256133,
           0.277878430714635,
           0.5909727625047896
          ],
          [
           0.1942036227615088,
           0.14329307656049867,
           0.22808234539365824,
           0.20766006048256924,
           0.24839567988255598,
           0.5705168714898889,
           0.6912702075448504,
           0.43916706847426173,
           0.3426270230777206,
           0.44663032169957156,
           0.33235753760761044,
           0.19499846445881905,
           0.3624815822704489,
           0.270894726190632,
           0.2686847598722627,
           0.8012683427383293,
           1,
           0.7718039949238469,
           0.30942857798445156,
           0.727372183881192,
           0.1869035156858978,
           0.1002409837483462,
           0.22668042559090154,
           0.1883526520895307,
           0.1684813207913676,
           0.48485780068646867,
           0.662564133742741,
           0.44047226304622306,
           0.19778782186141092,
           0.43932926857579074
          ],
          [
           0.3761689559399252,
           0.16385102528521822,
           0.407216915998619,
           0.37232028233071046,
           0.38067569098328613,
           0.642261850971647,
           0.6832599165123261,
           0.615634130896919,
           0.39329787208901684,
           0.3411980443971182,
           0.5133464414367648,
           0.23028339955703386,
           0.5562640836543961,
           0.4157295683714004,
           0.32842949910967884,
           0.7440826676953254,
           0.7718039949238469,
           1,
           0.3127802232097334,
           0.6110441393807231,
           0.35812666924104264,
           0.08674120994286842,
           0.3949992517741846,
           0.34227116209268155,
           0.21535059681593355,
           0.45288837736988047,
           0.5495923752351922,
           0.6024496059209876,
           0.14311566863305006,
           0.31065455149383076
          ],
          [
           -0.10432088141786554,
           0.009127167755035892,
           -0.08162932702839933,
           -0.07249658821176244,
           0.20077437592048314,
           0.22997659080143223,
           0.1780092079208776,
           0.09535078688667677,
           0.4491365423934286,
           0.34500739714372797,
           0.240567362450071,
           0.41162068019753933,
           0.2664870918640224,
           0.1341089796924749,
           0.4135061252078973,
           0.39471283476203156,
           0.30942857798445156,
           0.3127802232097334,
           1,
           0.3690780833657291,
           -0.1281207690727424,
           -0.0774734201840788,
           -0.103753043843325,
           -0.11034274289549832,
           -0.01266179956590896,
           0.06025487946536685,
           0.03711904859992837,
           -0.03041339642360093,
           0.38940248488464635,
           0.07807947627266759
          ],
          [
           -0.04264126911445634,
           0.05445751956893386,
           -0.005523391057003878,
           -0.019886963235068052,
           0.28360669854688514,
           0.5073181269004213,
           0.44930074905033784,
           0.25758374624303265,
           0.33178614627312375,
           0.6881315774585518,
           0.22775353267198015,
           0.2797227477191938,
           0.24414277341628535,
           0.12707090297801246,
           0.42737420672315823,
           0.8032688176617678,
           0.727372183881192,
           0.6110441393807231,
           0.3690780833657291,
           1,
           -0.03748761786267358,
           -0.0031950288680895737,
           -0.0010003976259669305,
           -0.0227361473089006,
           0.1705683159531418,
           0.39015884208667484,
           0.3799746614570791,
           0.21520401331002892,
           0.11109395575572387,
           0.5913280656608751
          ],
          [
           0.9695389726112049,
           0.35257294715029575,
           0.9694763634663146,
           0.9627460860470841,
           0.21312014189594916,
           0.5353153982176662,
           0.6882364076436723,
           0.8303176311186159,
           0.18572775349568738,
           -0.2536914948766098,
           0.715065195135185,
           -0.11169031312493008,
           0.6972005927206456,
           0.7573731889240164,
           -0.23069070984514767,
           0.20460716594748166,
           0.1869035156858978,
           0.35812666924104264,
           -0.1281207690727424,
           -0.03748761786267358,
           1,
           0.35992075422104813,
           0.993707916102949,
           0.9840145644590745,
           0.21657443125969564,
           0.4758200374601465,
           0.5739747080993032,
           0.7874238517122407,
           0.2435292042913139,
           0.0934919786793018
          ],
          [
           0.2970076439863734,
           0.912044588840421,
           0.3030383715571504,
           0.28748862712139706,
           0.03607179878564651,
           0.24813283327741725,
           0.29987888870969076,
           0.2927517130015173,
           0.09065068811664319,
           -0.051269202036765375,
           0.19479855683425132,
           0.409002766315306,
           0.20037085395945106,
           0.19649664907281025,
           -0.07474296487675625,
           0.14300258329571658,
           0.1002409837483462,
           0.08674120994286842,
           -0.0774734201840788,
           -0.0031950288680895737,
           0.35992075422104813,
           1,
           0.3650982454086192,
           0.3458422825267967,
           0.2254294149094867,
           0.36083233859797315,
           0.3683656074599455,
           0.3597546095250359,
           0.23302746144531722,
           0.2191224254631588
          ],
          [
           0.9651365139559871,
           0.3580395750532242,
           0.9703868870426395,
           0.9591195743552647,
           0.23885262620915107,
           0.5902104277312981,
           0.7295649165132017,
           0.8559231281343123,
           0.21916855911105815,
           -0.2051512112627734,
           0.7196838036650045,
           -0.10224192188743281,
           0.7210313099890177,
           0.761212636068759,
           -0.21730375458186166,
           0.26051583964720865,
           0.22668042559090154,
           0.3949992517741846,
           -0.103753043843325,
           -0.0010003976259669305,
           0.993707916102949,
           0.3650982454086192,
           1,
           0.9775780914063873,
           0.2367746038860697,
           0.5294076901641023,
           0.6183440795335158,
           0.8163221016875439,
           0.26949276908381725,
           0.13895686184575765
          ],
          [
           0.9410824595860461,
           0.3435459471864695,
           0.9415498080023067,
           0.9592133256498999,
           0.20671836342857694,
           0.50960380555792,
           0.6759872313060873,
           0.8096296199096182,
           0.17719337737409682,
           -0.23185445116756032,
           0.7515484761266198,
           -0.0831949885850464,
           0.7307129731302829,
           0.8114079609317274,
           -0.18219547805909897,
           0.19937132909101388,
           0.1883526520895307,
           0.34227116209268155,
           -0.11034274289549832,
           -0.0227361473089006,
           0.9840145644590745,
           0.3458422825267967,
           0.9775780914063873,
           1,
           0.20914533376028965,
           0.43829628377967406,
           0.5433305254110798,
           0.7474188023228168,
           0.20914550838707907,
           0.07964703402467606
          ],
          [
           0.11961613992160791,
           0.07750335882212907,
           0.1505494043170373,
           0.12352293875557081,
           0.805324195494363,
           0.5655411663750887,
           0.44882203840476004,
           0.4527530541790489,
           0.4266750263849465,
           0.5049420753517612,
           0.14191855291860658,
           -0.07365765910118512,
           0.1300543919910096,
           0.12538943051609122,
           0.314457455980828,
           0.22739423230542308,
           0.1684813207913676,
           0.21535059681593355,
           -0.01266179956590896,
           0.1705683159531418,
           0.21657443125969564,
           0.2254294149094867,
           0.2367746038860697,
           0.20914533376028965,
           1,
           0.5681865166856064,
           0.5185232928640013,
           0.5476909029497875,
           0.4938383302357593,
           0.617624191655438
          ],
          [
           0.4134628230608012,
           0.2778295924789794,
           0.4557742280383272,
           0.3904103092424987,
           0.4724684437304437,
           0.8658090398022626,
           0.7549680159063961,
           0.6674536768257124,
           0.47320001324461847,
           0.45879815666785945,
           0.2871031656007403,
           -0.09243935361819376,
           0.34191944537120555,
           0.28325653753745555,
           -0.0555581387150509,
           0.6787803543724954,
           0.48485780068646867,
           0.45288837736988047,
           0.06025487946536685,
           0.39015884208667484,
           0.4758200374601465,
           0.36083233859797315,
           0.5294076901641023,
           0.43829628377967406,
           0.5681865166856064,
           1,
           0.8922608987764685,
           0.8010803646352529,
           0.614440501149307,
           0.8104548563116118
          ],
          [
           0.5269114618385446,
           0.3010252238164912,
           0.5638792634736619,
           0.512605920443324,
           0.4349257147250876,
           0.8162752498000282,
           0.8841026390943817,
           0.7523994975749643,
           0.433721007590172,
           0.3462338763480677,
           0.38058463462872183,
           -0.06895622054645596,
           0.41889881573057136,
           0.38510013559852924,
           -0.058298386743445514,
           0.6391466977559191,
           0.662564133742741,
           0.5495923752351922,
           0.03711904859992837,
           0.3799746614570791,
           0.5739747080993032,
           0.3683656074599455,
           0.6183440795335158,
           0.5433305254110798,
           0.5185232928640013,
           0.8922608987764685,
           1,
           0.8554338603439983,
           0.5325197291183625,
           0.6865109212448633
          ],
          [
           0.7442141978674655,
           0.2953158433377365,
           0.7712407893605496,
           0.722016626260358,
           0.503053353298951,
           0.8155732235690645,
           0.8613230336379513,
           0.910155314298592,
           0.4302966114579542,
           0.17532544924324475,
           0.5310623278216047,
           -0.11963752313984616,
           0.5548972306282104,
           0.5381663138957359,
           -0.10200679633746536,
           0.4832083268256133,
           0.44047226304622306,
           0.6024496059209876,
           -0.03041339642360093,
           0.21520401331002892,
           0.7874238517122407,
           0.3597546095250359,
           0.8163221016875439,
           0.7474188023228168,
           0.5476909029497875,
           0.8010803646352529,
           0.8554338603439983,
           1,
           0.5025284938306982,
           0.5111141458863395
          ],
          [
           0.16395333493630693,
           0.10500791031597186,
           0.18911504046245772,
           0.14356991388907164,
           0.39430948181175646,
           0.510223429921806,
           0.4094641265399857,
           0.3757441454236113,
           0.6998257976437307,
           0.33401868385108374,
           0.09454283035438192,
           -0.12821475779252947,
           0.10993043423135032,
           0.07412629159952819,
           -0.10734209778914475,
           0.277878430714635,
           0.19778782186141092,
           0.14311566863305006,
           0.38940248488464635,
           0.11109395575572387,
           0.2435292042913139,
           0.23302746144531722,
           0.26949276908381725,
           0.20914550838707907,
           0.4938383302357593,
           0.614440501149307,
           0.5325197291183625,
           0.5025284938306982,
           1,
           0.5378482062536087
          ],
          [
           0.007065885692182385,
           0.11920535139708566,
           0.051018529723407056,
           0.003737597351571732,
           0.4993163685937669,
           0.6873823227538975,
           0.5149298906363857,
           0.36866113371677106,
           0.4384134984446025,
           0.7672967792384361,
           0.04955943246457313,
           -0.04565456859320706,
           0.08543257205665739,
           0.017539295132385495,
           0.10148031504252507,
           0.5909727625047896,
           0.43932926857579074,
           0.31065455149383076,
           0.07807947627266759,
           0.5913280656608751,
           0.0934919786793018,
           0.2191224254631588,
           0.13895686184575765,
           0.07964703402467606,
           0.617624191655438,
           0.8104548563116118,
           0.6865109212448633,
           0.5111141458863395,
           0.5378482062536087,
           1
          ]
         ]
        }
       ],
       "layout": {
        "height": 700,
        "margin": {
         "b": 200,
         "l": 200,
         "r": 0,
         "t": 25
        },
        "template": {
         "data": {
          "bar": [
           {
            "error_x": {
             "color": "#2a3f5f"
            },
            "error_y": {
             "color": "#2a3f5f"
            },
            "marker": {
             "line": {
              "color": "#E5ECF6",
              "width": 0.5
             },
             "pattern": {
              "fillmode": "overlay",
              "size": 10,
              "solidity": 0.2
             }
            },
            "type": "bar"
           }
          ],
          "barpolar": [
           {
            "marker": {
             "line": {
              "color": "#E5ECF6",
              "width": 0.5
             },
             "pattern": {
              "fillmode": "overlay",
              "size": 10,
              "solidity": 0.2
             }
            },
            "type": "barpolar"
           }
          ],
          "carpet": [
           {
            "aaxis": {
             "endlinecolor": "#2a3f5f",
             "gridcolor": "white",
             "linecolor": "white",
             "minorgridcolor": "white",
             "startlinecolor": "#2a3f5f"
            },
            "baxis": {
             "endlinecolor": "#2a3f5f",
             "gridcolor": "white",
             "linecolor": "white",
             "minorgridcolor": "white",
             "startlinecolor": "#2a3f5f"
            },
            "type": "carpet"
           }
          ],
          "choropleth": [
           {
            "colorbar": {
             "outlinewidth": 0,
             "ticks": ""
            },
            "type": "choropleth"
           }
          ],
          "contour": [
           {
            "colorbar": {
             "outlinewidth": 0,
             "ticks": ""
            },
            "colorscale": [
             [
              0,
              "#0d0887"
             ],
             [
              0.1111111111111111,
              "#46039f"
             ],
             [
              0.2222222222222222,
              "#7201a8"
             ],
             [
              0.3333333333333333,
              "#9c179e"
             ],
             [
              0.4444444444444444,
              "#bd3786"
             ],
             [
              0.5555555555555556,
              "#d8576b"
             ],
             [
              0.6666666666666666,
              "#ed7953"
             ],
             [
              0.7777777777777778,
              "#fb9f3a"
             ],
             [
              0.8888888888888888,
              "#fdca26"
             ],
             [
              1,
              "#f0f921"
             ]
            ],
            "type": "contour"
           }
          ],
          "contourcarpet": [
           {
            "colorbar": {
             "outlinewidth": 0,
             "ticks": ""
            },
            "type": "contourcarpet"
           }
          ],
          "heatmap": [
           {
            "colorbar": {
             "outlinewidth": 0,
             "ticks": ""
            },
            "colorscale": [
             [
              0,
              "#0d0887"
             ],
             [
              0.1111111111111111,
              "#46039f"
             ],
             [
              0.2222222222222222,
              "#7201a8"
             ],
             [
              0.3333333333333333,
              "#9c179e"
             ],
             [
              0.4444444444444444,
              "#bd3786"
             ],
             [
              0.5555555555555556,
              "#d8576b"
             ],
             [
              0.6666666666666666,
              "#ed7953"
             ],
             [
              0.7777777777777778,
              "#fb9f3a"
             ],
             [
              0.8888888888888888,
              "#fdca26"
             ],
             [
              1,
              "#f0f921"
             ]
            ],
            "type": "heatmap"
           }
          ],
          "heatmapgl": [
           {
            "colorbar": {
             "outlinewidth": 0,
             "ticks": ""
            },
            "colorscale": [
             [
              0,
              "#0d0887"
             ],
             [
              0.1111111111111111,
              "#46039f"
             ],
             [
              0.2222222222222222,
              "#7201a8"
             ],
             [
              0.3333333333333333,
              "#9c179e"
             ],
             [
              0.4444444444444444,
              "#bd3786"
             ],
             [
              0.5555555555555556,
              "#d8576b"
             ],
             [
              0.6666666666666666,
              "#ed7953"
             ],
             [
              0.7777777777777778,
              "#fb9f3a"
             ],
             [
              0.8888888888888888,
              "#fdca26"
             ],
             [
              1,
              "#f0f921"
             ]
            ],
            "type": "heatmapgl"
           }
          ],
          "histogram": [
           {
            "marker": {
             "pattern": {
              "fillmode": "overlay",
              "size": 10,
              "solidity": 0.2
             }
            },
            "type": "histogram"
           }
          ],
          "histogram2d": [
           {
            "colorbar": {
             "outlinewidth": 0,
             "ticks": ""
            },
            "colorscale": [
             [
              0,
              "#0d0887"
             ],
             [
              0.1111111111111111,
              "#46039f"
             ],
             [
              0.2222222222222222,
              "#7201a8"
             ],
             [
              0.3333333333333333,
              "#9c179e"
             ],
             [
              0.4444444444444444,
              "#bd3786"
             ],
             [
              0.5555555555555556,
              "#d8576b"
             ],
             [
              0.6666666666666666,
              "#ed7953"
             ],
             [
              0.7777777777777778,
              "#fb9f3a"
             ],
             [
              0.8888888888888888,
              "#fdca26"
             ],
             [
              1,
              "#f0f921"
             ]
            ],
            "type": "histogram2d"
           }
          ],
          "histogram2dcontour": [
           {
            "colorbar": {
             "outlinewidth": 0,
             "ticks": ""
            },
            "colorscale": [
             [
              0,
              "#0d0887"
             ],
             [
              0.1111111111111111,
              "#46039f"
             ],
             [
              0.2222222222222222,
              "#7201a8"
             ],
             [
              0.3333333333333333,
              "#9c179e"
             ],
             [
              0.4444444444444444,
              "#bd3786"
             ],
             [
              0.5555555555555556,
              "#d8576b"
             ],
             [
              0.6666666666666666,
              "#ed7953"
             ],
             [
              0.7777777777777778,
              "#fb9f3a"
             ],
             [
              0.8888888888888888,
              "#fdca26"
             ],
             [
              1,
              "#f0f921"
             ]
            ],
            "type": "histogram2dcontour"
           }
          ],
          "mesh3d": [
           {
            "colorbar": {
             "outlinewidth": 0,
             "ticks": ""
            },
            "type": "mesh3d"
           }
          ],
          "parcoords": [
           {
            "line": {
             "colorbar": {
              "outlinewidth": 0,
              "ticks": ""
             }
            },
            "type": "parcoords"
           }
          ],
          "pie": [
           {
            "automargin": true,
            "type": "pie"
           }
          ],
          "scatter": [
           {
            "fillpattern": {
             "fillmode": "overlay",
             "size": 10,
             "solidity": 0.2
            },
            "type": "scatter"
           }
          ],
          "scatter3d": [
           {
            "line": {
             "colorbar": {
              "outlinewidth": 0,
              "ticks": ""
             }
            },
            "marker": {
             "colorbar": {
              "outlinewidth": 0,
              "ticks": ""
             }
            },
            "type": "scatter3d"
           }
          ],
          "scattercarpet": [
           {
            "marker": {
             "colorbar": {
              "outlinewidth": 0,
              "ticks": ""
             }
            },
            "type": "scattercarpet"
           }
          ],
          "scattergeo": [
           {
            "marker": {
             "colorbar": {
              "outlinewidth": 0,
              "ticks": ""
             }
            },
            "type": "scattergeo"
           }
          ],
          "scattergl": [
           {
            "marker": {
             "colorbar": {
              "outlinewidth": 0,
              "ticks": ""
             }
            },
            "type": "scattergl"
           }
          ],
          "scattermapbox": [
           {
            "marker": {
             "colorbar": {
              "outlinewidth": 0,
              "ticks": ""
             }
            },
            "type": "scattermapbox"
           }
          ],
          "scatterpolar": [
           {
            "marker": {
             "colorbar": {
              "outlinewidth": 0,
              "ticks": ""
             }
            },
            "type": "scatterpolar"
           }
          ],
          "scatterpolargl": [
           {
            "marker": {
             "colorbar": {
              "outlinewidth": 0,
              "ticks": ""
             }
            },
            "type": "scatterpolargl"
           }
          ],
          "scatterternary": [
           {
            "marker": {
             "colorbar": {
              "outlinewidth": 0,
              "ticks": ""
             }
            },
            "type": "scatterternary"
           }
          ],
          "surface": [
           {
            "colorbar": {
             "outlinewidth": 0,
             "ticks": ""
            },
            "colorscale": [
             [
              0,
              "#0d0887"
             ],
             [
              0.1111111111111111,
              "#46039f"
             ],
             [
              0.2222222222222222,
              "#7201a8"
             ],
             [
              0.3333333333333333,
              "#9c179e"
             ],
             [
              0.4444444444444444,
              "#bd3786"
             ],
             [
              0.5555555555555556,
              "#d8576b"
             ],
             [
              0.6666666666666666,
              "#ed7953"
             ],
             [
              0.7777777777777778,
              "#fb9f3a"
             ],
             [
              0.8888888888888888,
              "#fdca26"
             ],
             [
              1,
              "#f0f921"
             ]
            ],
            "type": "surface"
           }
          ],
          "table": [
           {
            "cells": {
             "fill": {
              "color": "#EBF0F8"
             },
             "line": {
              "color": "white"
             }
            },
            "header": {
             "fill": {
              "color": "#C8D4E3"
             },
             "line": {
              "color": "white"
             }
            },
            "type": "table"
           }
          ]
         },
         "layout": {
          "annotationdefaults": {
           "arrowcolor": "#2a3f5f",
           "arrowhead": 0,
           "arrowwidth": 1
          },
          "autotypenumbers": "strict",
          "coloraxis": {
           "colorbar": {
            "outlinewidth": 0,
            "ticks": ""
           }
          },
          "colorscale": {
           "diverging": [
            [
             0,
             "#8e0152"
            ],
            [
             0.1,
             "#c51b7d"
            ],
            [
             0.2,
             "#de77ae"
            ],
            [
             0.3,
             "#f1b6da"
            ],
            [
             0.4,
             "#fde0ef"
            ],
            [
             0.5,
             "#f7f7f7"
            ],
            [
             0.6,
             "#e6f5d0"
            ],
            [
             0.7,
             "#b8e186"
            ],
            [
             0.8,
             "#7fbc41"
            ],
            [
             0.9,
             "#4d9221"
            ],
            [
             1,
             "#276419"
            ]
           ],
           "sequential": [
            [
             0,
             "#0d0887"
            ],
            [
             0.1111111111111111,
             "#46039f"
            ],
            [
             0.2222222222222222,
             "#7201a8"
            ],
            [
             0.3333333333333333,
             "#9c179e"
            ],
            [
             0.4444444444444444,
             "#bd3786"
            ],
            [
             0.5555555555555556,
             "#d8576b"
            ],
            [
             0.6666666666666666,
             "#ed7953"
            ],
            [
             0.7777777777777778,
             "#fb9f3a"
            ],
            [
             0.8888888888888888,
             "#fdca26"
            ],
            [
             1,
             "#f0f921"
            ]
           ],
           "sequentialminus": [
            [
             0,
             "#0d0887"
            ],
            [
             0.1111111111111111,
             "#46039f"
            ],
            [
             0.2222222222222222,
             "#7201a8"
            ],
            [
             0.3333333333333333,
             "#9c179e"
            ],
            [
             0.4444444444444444,
             "#bd3786"
            ],
            [
             0.5555555555555556,
             "#d8576b"
            ],
            [
             0.6666666666666666,
             "#ed7953"
            ],
            [
             0.7777777777777778,
             "#fb9f3a"
            ],
            [
             0.8888888888888888,
             "#fdca26"
            ],
            [
             1,
             "#f0f921"
            ]
           ]
          },
          "colorway": [
           "#636efa",
           "#EF553B",
           "#00cc96",
           "#ab63fa",
           "#FFA15A",
           "#19d3f3",
           "#FF6692",
           "#B6E880",
           "#FF97FF",
           "#FECB52"
          ],
          "font": {
           "color": "#2a3f5f"
          },
          "geo": {
           "bgcolor": "white",
           "lakecolor": "white",
           "landcolor": "#E5ECF6",
           "showlakes": true,
           "showland": true,
           "subunitcolor": "white"
          },
          "hoverlabel": {
           "align": "left"
          },
          "hovermode": "closest",
          "mapbox": {
           "style": "light"
          },
          "paper_bgcolor": "white",
          "plot_bgcolor": "#E5ECF6",
          "polar": {
           "angularaxis": {
            "gridcolor": "white",
            "linecolor": "white",
            "ticks": ""
           },
           "bgcolor": "#E5ECF6",
           "radialaxis": {
            "gridcolor": "white",
            "linecolor": "white",
            "ticks": ""
           }
          },
          "scene": {
           "xaxis": {
            "backgroundcolor": "#E5ECF6",
            "gridcolor": "white",
            "gridwidth": 2,
            "linecolor": "white",
            "showbackground": true,
            "ticks": "",
            "zerolinecolor": "white"
           },
           "yaxis": {
            "backgroundcolor": "#E5ECF6",
            "gridcolor": "white",
            "gridwidth": 2,
            "linecolor": "white",
            "showbackground": true,
            "ticks": "",
            "zerolinecolor": "white"
           },
           "zaxis": {
            "backgroundcolor": "#E5ECF6",
            "gridcolor": "white",
            "gridwidth": 2,
            "linecolor": "white",
            "showbackground": true,
            "ticks": "",
            "zerolinecolor": "white"
           }
          },
          "shapedefaults": {
           "line": {
            "color": "#2a3f5f"
           }
          },
          "ternary": {
           "aaxis": {
            "gridcolor": "white",
            "linecolor": "white",
            "ticks": ""
           },
           "baxis": {
            "gridcolor": "white",
            "linecolor": "white",
            "ticks": ""
           },
           "bgcolor": "#E5ECF6",
           "caxis": {
            "gridcolor": "white",
            "linecolor": "white",
            "ticks": ""
           }
          },
          "title": {
           "x": 0.05
          },
          "xaxis": {
           "automargin": true,
           "gridcolor": "white",
           "linecolor": "white",
           "ticks": "",
           "title": {
            "standoff": 15
           },
           "zerolinecolor": "white",
           "zerolinewidth": 2
          },
          "yaxis": {
           "automargin": true,
           "gridcolor": "white",
           "linecolor": "white",
           "ticks": "",
           "title": {
            "standoff": 15
           },
           "zerolinecolor": "white",
           "zerolinewidth": 2
          }
         }
        },
        "width": 1000
       }
      },
      "text/html": [
       "<div>                            <div id=\"8c6f1b5d-649d-4b52-9cc5-4ca3de5b44bc\" class=\"plotly-graph-div\" style=\"height:700px; width:1000px;\"></div>            <script type=\"text/javascript\">                require([\"plotly\"], function(Plotly) {                    window.PLOTLYENV=window.PLOTLYENV || {};                                    if (document.getElementById(\"8c6f1b5d-649d-4b52-9cc5-4ca3de5b44bc\")) {                    Plotly.newPlot(                        \"8c6f1b5d-649d-4b52-9cc5-4ca3de5b44bc\",                        [{\"x\":[\"radius_mean\",\"texture_mean\",\"perimeter_mean\",\"area_mean\",\"smoothness_mean\",\"compactness_mean\",\"concavity_mean\",\"concave points_mean\",\"symmetry_mean\",\"fractal_dimension_mean\",\"radius_se\",\"texture_se\",\"perimeter_se\",\"area_se\",\"smoothness_se\",\"compactness_se\",\"concavity_se\",\"concave points_se\",\"symmetry_se\",\"fractal_dimension_se\",\"radius_worst\",\"texture_worst\",\"perimeter_worst\",\"area_worst\",\"smoothness_worst\",\"compactness_worst\",\"concavity_worst\",\"concave points_worst\",\"symmetry_worst\",\"fractal_dimension_worst\"],\"xgap\":1,\"y\":[\"radius_mean\",\"texture_mean\",\"perimeter_mean\",\"area_mean\",\"smoothness_mean\",\"compactness_mean\",\"concavity_mean\",\"concave points_mean\",\"symmetry_mean\",\"fractal_dimension_mean\",\"radius_se\",\"texture_se\",\"perimeter_se\",\"area_se\",\"smoothness_se\",\"compactness_se\",\"concavity_se\",\"concave points_se\",\"symmetry_se\",\"fractal_dimension_se\",\"radius_worst\",\"texture_worst\",\"perimeter_worst\",\"area_worst\",\"smoothness_worst\",\"compactness_worst\",\"concavity_worst\",\"concave points_worst\",\"symmetry_worst\",\"fractal_dimension_worst\"],\"ygap\":1,\"z\":[[1.0,0.32378189092773324,0.9978552814938106,0.9873571700566129,0.17058118749299458,0.506123577526363,0.6767635503908105,0.8225285223871784,0.14774124199260188,-0.31163082630928984,0.6790903880020744,-0.09731744314481315,0.6741716157641049,0.7358636632128176,-0.22260012458211142,0.2059999804076987,0.1942036227615088,0.3761689559399252,-0.10432088141786554,-0.04264126911445634,0.9695389726112049,0.2970076439863734,0.9651365139559871,0.9410824595860461,0.11961613992160791,0.4134628230608012,0.5269114618385446,0.7442141978674655,0.16395333493630693,0.007065885692182385],[0.32378189092773324,1.0,0.3295330586865707,0.3210856960802071,-0.023388515998423332,0.23670222207437197,0.30241782794389144,0.29346405131394276,0.07140098048331764,-0.0764371834481342,0.2758686761737625,0.38635762272449065,0.28167311478720264,0.2598449866100985,0.0066137773535855215,0.1919746113239669,0.14329307656049867,0.16385102528521822,0.009127167755035892,0.05445751956893386,0.35257294715029575,0.912044588840421,0.3580395750532242,0.3435459471864695,0.07750335882212907,0.2778295924789794,0.3010252238164912,0.2953158433377365,0.10500791031597186,0.11920535139708566],[0.9978552814938106,0.3295330586865707,1.0,0.9865068039913908,0.20727816369100724,0.5569362108795619,0.7161356501174047,0.8509770412528194,0.18302721211685316,-0.2614769080663325,0.6917650135334819,-0.08676107831179455,0.6931348895408653,0.7449826941190684,-0.20269402629832212,0.2507436807405881,0.22808234539365824,0.407216915998619,-0.08162932702839933,-0.005523391057003878,0.9694763634663146,0.3030383715571504,0.9703868870426395,0.9415498080023067,0.1505494043170373,0.4557742280383272,0.5638792634736619,0.7712407893605496,0.18911504046245772,0.051018529723407056],[0.9873571700566129,0.3210856960802071,0.9865068039913908,1.0,0.1770283772540016,0.498501682152412,0.6859828285519112,0.8232688686524342,0.1512930790351123,-0.28310981169142607,0.7325622269972968,-0.06628021360457734,0.7266283277906844,0.8000859212343204,-0.16677666660111282,0.2125825507792327,0.20766006048256924,0.37232028233071046,-0.07249658821176244,-0.019886963235068052,0.9627460860470841,0.28748862712139706,0.9591195743552647,0.9592133256498999,0.12352293875557081,0.3904103092424987,0.512605920443324,0.722016626260358,0.14356991388907164,0.003737597351571732],[0.17058118749299458,-0.023388515998423332,0.20727816369100724,0.1770283772540016,1.0,0.6591232152159233,0.52198376771426,0.5536951727437609,0.5577747880728878,0.5847920019499776,0.30146709825316975,0.06840644817118247,0.29609193289351476,0.2465524316657356,0.3323754426475921,0.31894329670537874,0.24839567988255598,0.38067569098328613,0.20077437592048314,0.28360669854688514,0.21312014189594916,0.03607179878564651,0.23885262620915107,0.20671836342857694,0.805324195494363,0.4724684437304437,0.4349257147250876,0.503053353298951,0.39430948181175646,0.4993163685937669],[0.506123577526363,0.23670222207437197,0.5569362108795619,0.498501682152412,0.6591232152159233,1.0,0.8831206701772507,0.831135043133698,0.6026410484055157,0.5653686634145217,0.49747344608506183,0.046204830716407,0.5489052645888236,0.45565285198788846,0.1352992677004714,0.7387217896603929,0.5705168714898889,0.642261850971647,0.22997659080143223,0.5073181269004213,0.5353153982176662,0.24813283327741725,0.5902104277312981,0.50960380555792,0.5655411663750887,0.8658090398022626,0.8162752498000282,0.8155732235690645,0.510223429921806,0.6873823227538975],[0.6767635503908105,0.30241782794389144,0.7161356501174047,0.6859828285519112,0.52198376771426,0.8831206701772507,1.0,0.921391026378859,0.5006666171419607,0.336783359421185,0.6319248221414899,0.07621834813534022,0.6603907872419604,0.6174268058452413,0.09856374579911731,0.6702788246430194,0.6912702075448504,0.6832599165123261,0.1780092079208776,0.44930074905033784,0.6882364076436723,0.29987888870969076,0.7295649165132017,0.6759872313060873,0.44882203840476004,0.7549680159063961,0.8841026390943817,0.8613230336379513,0.4094641265399857,0.5149298906363857],[0.8225285223871784,0.29346405131394276,0.8509770412528194,0.8232688686524342,0.5536951727437609,0.831135043133698,0.921391026378859,1.0,0.46249738836735826,0.16691738322699232,0.6980498335607401,0.021479581923401814,0.710649871613898,0.6902985397595536,0.02765330838713596,0.49042424959357145,0.43916706847426173,0.615634130896919,0.09535078688667677,0.25758374624303265,0.8303176311186159,0.2927517130015173,0.8559231281343123,0.8096296199096182,0.4527530541790489,0.6674536768257124,0.7523994975749643,0.910155314298592,0.3757441454236113,0.36866113371677106],[0.14774124199260188,0.07140098048331764,0.18302721211685316,0.1512930790351123,0.5577747880728878,0.6026410484055157,0.5006666171419607,0.46249738836735826,1.0,0.47992133005096904,0.3033792632072624,0.12805292634025606,0.31389276079651307,0.22397021941762962,0.18732116526139078,0.4216591470050107,0.3426270230777206,0.39329787208901684,0.4491365423934286,0.33178614627312375,0.18572775349568738,0.09065068811664319,0.21916855911105815,0.17719337737409682,0.4266750263849465,0.47320001324461847,0.433721007590172,0.4302966114579542,0.6998257976437307,0.4384134984446025],[-0.31163082630928984,-0.0764371834481342,-0.2614769080663325,-0.28310981169142607,0.5847920019499776,0.5653686634145217,0.336783359421185,0.16691738322699232,0.47992133005096904,1.0,0.00011099507262963461,0.1641739658717288,0.03982993157204734,-0.090170247520427,0.40196442544841254,0.5598366906211326,0.44663032169957156,0.3411980443971182,0.34500739714372797,0.6881315774585518,-0.2536914948766098,-0.051269202036765375,-0.2051512112627734,-0.23185445116756032,0.5049420753517612,0.45879815666785945,0.3462338763480677,0.17532544924324475,0.33401868385108374,0.7672967792384361],[0.6790903880020744,0.2758686761737625,0.6917650135334819,0.7325622269972968,0.30146709825316975,0.49747344608506183,0.6319248221414899,0.6980498335607401,0.3033792632072624,0.00011099507262963461,1.0,0.213247337251158,0.9727936770160764,0.951830112110991,0.16451421981281159,0.3560645755322028,0.33235753760761044,0.5133464414367648,0.240567362450071,0.22775353267198015,0.715065195135185,0.19479855683425132,0.7196838036650045,0.7515484761266198,0.14191855291860658,0.2871031656007403,0.38058463462872183,0.5310623278216047,0.09454283035438192,0.04955943246457313],[-0.09731744314481315,0.38635762272449065,-0.08676107831179455,-0.06628021360457734,0.06840644817118247,0.046204830716407,0.07621834813534022,0.021479581923401814,0.12805292634025606,0.1641739658717288,0.213247337251158,1.0,0.2231707286307139,0.11156724721803944,0.39724285264120995,0.2316996989762372,0.19499846445881905,0.23028339955703386,0.41162068019753933,0.2797227477191938,-0.11169031312493008,0.409002766315306,-0.10224192188743281,-0.0831949885850464,-0.07365765910118512,-0.09243935361819376,-0.06895622054645596,-0.11963752313984616,-0.12821475779252947,-0.04565456859320706],[0.6741716157641049,0.28167311478720264,0.6931348895408653,0.7266283277906844,0.29609193289351476,0.5489052645888236,0.6603907872419604,0.710649871613898,0.31389276079651307,0.03982993157204734,0.9727936770160764,0.2231707286307139,1.0,0.9376554069544158,0.15107533120841293,0.41632236799246164,0.3624815822704489,0.5562640836543961,0.2664870918640224,0.24414277341628535,0.6972005927206456,0.20037085395945106,0.7210313099890177,0.7307129731302829,0.1300543919910096,0.34191944537120555,0.41889881573057136,0.5548972306282104,0.10993043423135032,0.08543257205665739],[0.7358636632128176,0.2598449866100985,0.7449826941190684,0.8000859212343204,0.2465524316657356,0.45565285198788846,0.6174268058452413,0.6902985397595536,0.22397021941762962,-0.090170247520427,0.951830112110991,0.11156724721803944,0.9376554069544158,1.0,0.07515033812199375,0.2848400565411611,0.270894726190632,0.4157295683714004,0.1341089796924749,0.12707090297801246,0.7573731889240164,0.19649664907281025,0.761212636068759,0.8114079609317274,0.12538943051609122,0.28325653753745555,0.38510013559852924,0.5381663138957359,0.07412629159952819,0.017539295132385495],[-0.22260012458211142,0.0066137773535855215,-0.20269402629832212,-0.16677666660111282,0.3323754426475921,0.1352992677004714,0.09856374579911731,0.02765330838713596,0.18732116526139078,0.40196442544841254,0.16451421981281159,0.39724285264120995,0.15107533120841293,0.07515033812199375,1.0,0.3366960805054452,0.2686847598722627,0.32842949910967884,0.4135061252078973,0.42737420672315823,-0.23069070984514767,-0.07474296487675625,-0.21730375458186166,-0.18219547805909897,0.314457455980828,-0.0555581387150509,-0.058298386743445514,-0.10200679633746536,-0.10734209778914475,0.10148031504252507],[0.2059999804076987,0.1919746113239669,0.2507436807405881,0.2125825507792327,0.31894329670537874,0.7387217896603929,0.6702788246430194,0.49042424959357145,0.4216591470050107,0.5598366906211326,0.3560645755322028,0.2316996989762372,0.41632236799246164,0.2848400565411611,0.3366960805054452,1.0,0.8012683427383293,0.7440826676953254,0.39471283476203156,0.8032688176617678,0.20460716594748166,0.14300258329571658,0.26051583964720865,0.19937132909101388,0.22739423230542308,0.6787803543724954,0.6391466977559191,0.4832083268256133,0.277878430714635,0.5909727625047896],[0.1942036227615088,0.14329307656049867,0.22808234539365824,0.20766006048256924,0.24839567988255598,0.5705168714898889,0.6912702075448504,0.43916706847426173,0.3426270230777206,0.44663032169957156,0.33235753760761044,0.19499846445881905,0.3624815822704489,0.270894726190632,0.2686847598722627,0.8012683427383293,1.0,0.7718039949238469,0.30942857798445156,0.727372183881192,0.1869035156858978,0.1002409837483462,0.22668042559090154,0.1883526520895307,0.1684813207913676,0.48485780068646867,0.662564133742741,0.44047226304622306,0.19778782186141092,0.43932926857579074],[0.3761689559399252,0.16385102528521822,0.407216915998619,0.37232028233071046,0.38067569098328613,0.642261850971647,0.6832599165123261,0.615634130896919,0.39329787208901684,0.3411980443971182,0.5133464414367648,0.23028339955703386,0.5562640836543961,0.4157295683714004,0.32842949910967884,0.7440826676953254,0.7718039949238469,1.0,0.3127802232097334,0.6110441393807231,0.35812666924104264,0.08674120994286842,0.3949992517741846,0.34227116209268155,0.21535059681593355,0.45288837736988047,0.5495923752351922,0.6024496059209876,0.14311566863305006,0.31065455149383076],[-0.10432088141786554,0.009127167755035892,-0.08162932702839933,-0.07249658821176244,0.20077437592048314,0.22997659080143223,0.1780092079208776,0.09535078688667677,0.4491365423934286,0.34500739714372797,0.240567362450071,0.41162068019753933,0.2664870918640224,0.1341089796924749,0.4135061252078973,0.39471283476203156,0.30942857798445156,0.3127802232097334,1.0,0.3690780833657291,-0.1281207690727424,-0.0774734201840788,-0.103753043843325,-0.11034274289549832,-0.01266179956590896,0.06025487946536685,0.03711904859992837,-0.03041339642360093,0.38940248488464635,0.07807947627266759],[-0.04264126911445634,0.05445751956893386,-0.005523391057003878,-0.019886963235068052,0.28360669854688514,0.5073181269004213,0.44930074905033784,0.25758374624303265,0.33178614627312375,0.6881315774585518,0.22775353267198015,0.2797227477191938,0.24414277341628535,0.12707090297801246,0.42737420672315823,0.8032688176617678,0.727372183881192,0.6110441393807231,0.3690780833657291,1.0,-0.03748761786267358,-0.0031950288680895737,-0.0010003976259669305,-0.0227361473089006,0.1705683159531418,0.39015884208667484,0.3799746614570791,0.21520401331002892,0.11109395575572387,0.5913280656608751],[0.9695389726112049,0.35257294715029575,0.9694763634663146,0.9627460860470841,0.21312014189594916,0.5353153982176662,0.6882364076436723,0.8303176311186159,0.18572775349568738,-0.2536914948766098,0.715065195135185,-0.11169031312493008,0.6972005927206456,0.7573731889240164,-0.23069070984514767,0.20460716594748166,0.1869035156858978,0.35812666924104264,-0.1281207690727424,-0.03748761786267358,1.0,0.35992075422104813,0.993707916102949,0.9840145644590745,0.21657443125969564,0.4758200374601465,0.5739747080993032,0.7874238517122407,0.2435292042913139,0.0934919786793018],[0.2970076439863734,0.912044588840421,0.3030383715571504,0.28748862712139706,0.03607179878564651,0.24813283327741725,0.29987888870969076,0.2927517130015173,0.09065068811664319,-0.051269202036765375,0.19479855683425132,0.409002766315306,0.20037085395945106,0.19649664907281025,-0.07474296487675625,0.14300258329571658,0.1002409837483462,0.08674120994286842,-0.0774734201840788,-0.0031950288680895737,0.35992075422104813,1.0,0.3650982454086192,0.3458422825267967,0.2254294149094867,0.36083233859797315,0.3683656074599455,0.3597546095250359,0.23302746144531722,0.2191224254631588],[0.9651365139559871,0.3580395750532242,0.9703868870426395,0.9591195743552647,0.23885262620915107,0.5902104277312981,0.7295649165132017,0.8559231281343123,0.21916855911105815,-0.2051512112627734,0.7196838036650045,-0.10224192188743281,0.7210313099890177,0.761212636068759,-0.21730375458186166,0.26051583964720865,0.22668042559090154,0.3949992517741846,-0.103753043843325,-0.0010003976259669305,0.993707916102949,0.3650982454086192,1.0,0.9775780914063873,0.2367746038860697,0.5294076901641023,0.6183440795335158,0.8163221016875439,0.26949276908381725,0.13895686184575765],[0.9410824595860461,0.3435459471864695,0.9415498080023067,0.9592133256498999,0.20671836342857694,0.50960380555792,0.6759872313060873,0.8096296199096182,0.17719337737409682,-0.23185445116756032,0.7515484761266198,-0.0831949885850464,0.7307129731302829,0.8114079609317274,-0.18219547805909897,0.19937132909101388,0.1883526520895307,0.34227116209268155,-0.11034274289549832,-0.0227361473089006,0.9840145644590745,0.3458422825267967,0.9775780914063873,1.0,0.20914533376028965,0.43829628377967406,0.5433305254110798,0.7474188023228168,0.20914550838707907,0.07964703402467606],[0.11961613992160791,0.07750335882212907,0.1505494043170373,0.12352293875557081,0.805324195494363,0.5655411663750887,0.44882203840476004,0.4527530541790489,0.4266750263849465,0.5049420753517612,0.14191855291860658,-0.07365765910118512,0.1300543919910096,0.12538943051609122,0.314457455980828,0.22739423230542308,0.1684813207913676,0.21535059681593355,-0.01266179956590896,0.1705683159531418,0.21657443125969564,0.2254294149094867,0.2367746038860697,0.20914533376028965,1.0,0.5681865166856064,0.5185232928640013,0.5476909029497875,0.4938383302357593,0.617624191655438],[0.4134628230608012,0.2778295924789794,0.4557742280383272,0.3904103092424987,0.4724684437304437,0.8658090398022626,0.7549680159063961,0.6674536768257124,0.47320001324461847,0.45879815666785945,0.2871031656007403,-0.09243935361819376,0.34191944537120555,0.28325653753745555,-0.0555581387150509,0.6787803543724954,0.48485780068646867,0.45288837736988047,0.06025487946536685,0.39015884208667484,0.4758200374601465,0.36083233859797315,0.5294076901641023,0.43829628377967406,0.5681865166856064,1.0,0.8922608987764685,0.8010803646352529,0.614440501149307,0.8104548563116118],[0.5269114618385446,0.3010252238164912,0.5638792634736619,0.512605920443324,0.4349257147250876,0.8162752498000282,0.8841026390943817,0.7523994975749643,0.433721007590172,0.3462338763480677,0.38058463462872183,-0.06895622054645596,0.41889881573057136,0.38510013559852924,-0.058298386743445514,0.6391466977559191,0.662564133742741,0.5495923752351922,0.03711904859992837,0.3799746614570791,0.5739747080993032,0.3683656074599455,0.6183440795335158,0.5433305254110798,0.5185232928640013,0.8922608987764685,1.0,0.8554338603439983,0.5325197291183625,0.6865109212448633],[0.7442141978674655,0.2953158433377365,0.7712407893605496,0.722016626260358,0.503053353298951,0.8155732235690645,0.8613230336379513,0.910155314298592,0.4302966114579542,0.17532544924324475,0.5310623278216047,-0.11963752313984616,0.5548972306282104,0.5381663138957359,-0.10200679633746536,0.4832083268256133,0.44047226304622306,0.6024496059209876,-0.03041339642360093,0.21520401331002892,0.7874238517122407,0.3597546095250359,0.8163221016875439,0.7474188023228168,0.5476909029497875,0.8010803646352529,0.8554338603439983,1.0,0.5025284938306982,0.5111141458863395],[0.16395333493630693,0.10500791031597186,0.18911504046245772,0.14356991388907164,0.39430948181175646,0.510223429921806,0.4094641265399857,0.3757441454236113,0.6998257976437307,0.33401868385108374,0.09454283035438192,-0.12821475779252947,0.10993043423135032,0.07412629159952819,-0.10734209778914475,0.277878430714635,0.19778782186141092,0.14311566863305006,0.38940248488464635,0.11109395575572387,0.2435292042913139,0.23302746144531722,0.26949276908381725,0.20914550838707907,0.4938383302357593,0.614440501149307,0.5325197291183625,0.5025284938306982,1.0,0.5378482062536087],[0.007065885692182385,0.11920535139708566,0.051018529723407056,0.003737597351571732,0.4993163685937669,0.6873823227538975,0.5149298906363857,0.36866113371677106,0.4384134984446025,0.7672967792384361,0.04955943246457313,-0.04565456859320706,0.08543257205665739,0.017539295132385495,0.10148031504252507,0.5909727625047896,0.43932926857579074,0.31065455149383076,0.07807947627266759,0.5913280656608751,0.0934919786793018,0.2191224254631588,0.13895686184575765,0.07964703402467606,0.617624191655438,0.8104548563116118,0.6865109212448633,0.5111141458863395,0.5378482062536087,1.0]],\"type\":\"heatmap\"}],                        {\"template\":{\"data\":{\"histogram2dcontour\":[{\"type\":\"histogram2dcontour\",\"colorbar\":{\"outlinewidth\":0,\"ticks\":\"\"},\"colorscale\":[[0.0,\"#0d0887\"],[0.1111111111111111,\"#46039f\"],[0.2222222222222222,\"#7201a8\"],[0.3333333333333333,\"#9c179e\"],[0.4444444444444444,\"#bd3786\"],[0.5555555555555556,\"#d8576b\"],[0.6666666666666666,\"#ed7953\"],[0.7777777777777778,\"#fb9f3a\"],[0.8888888888888888,\"#fdca26\"],[1.0,\"#f0f921\"]]}],\"choropleth\":[{\"type\":\"choropleth\",\"colorbar\":{\"outlinewidth\":0,\"ticks\":\"\"}}],\"histogram2d\":[{\"type\":\"histogram2d\",\"colorbar\":{\"outlinewidth\":0,\"ticks\":\"\"},\"colorscale\":[[0.0,\"#0d0887\"],[0.1111111111111111,\"#46039f\"],[0.2222222222222222,\"#7201a8\"],[0.3333333333333333,\"#9c179e\"],[0.4444444444444444,\"#bd3786\"],[0.5555555555555556,\"#d8576b\"],[0.6666666666666666,\"#ed7953\"],[0.7777777777777778,\"#fb9f3a\"],[0.8888888888888888,\"#fdca26\"],[1.0,\"#f0f921\"]]}],\"heatmap\":[{\"type\":\"heatmap\",\"colorbar\":{\"outlinewidth\":0,\"ticks\":\"\"},\"colorscale\":[[0.0,\"#0d0887\"],[0.1111111111111111,\"#46039f\"],[0.2222222222222222,\"#7201a8\"],[0.3333333333333333,\"#9c179e\"],[0.4444444444444444,\"#bd3786\"],[0.5555555555555556,\"#d8576b\"],[0.6666666666666666,\"#ed7953\"],[0.7777777777777778,\"#fb9f3a\"],[0.8888888888888888,\"#fdca26\"],[1.0,\"#f0f921\"]]}],\"heatmapgl\":[{\"type\":\"heatmapgl\",\"colorbar\":{\"outlinewidth\":0,\"ticks\":\"\"},\"colorscale\":[[0.0,\"#0d0887\"],[0.1111111111111111,\"#46039f\"],[0.2222222222222222,\"#7201a8\"],[0.3333333333333333,\"#9c179e\"],[0.4444444444444444,\"#bd3786\"],[0.5555555555555556,\"#d8576b\"],[0.6666666666666666,\"#ed7953\"],[0.7777777777777778,\"#fb9f3a\"],[0.8888888888888888,\"#fdca26\"],[1.0,\"#f0f921\"]]}],\"contourcarpet\":[{\"type\":\"contourcarpet\",\"colorbar\":{\"outlinewidth\":0,\"ticks\":\"\"}}],\"contour\":[{\"type\":\"contour\",\"colorbar\":{\"outlinewidth\":0,\"ticks\":\"\"},\"colorscale\":[[0.0,\"#0d0887\"],[0.1111111111111111,\"#46039f\"],[0.2222222222222222,\"#7201a8\"],[0.3333333333333333,\"#9c179e\"],[0.4444444444444444,\"#bd3786\"],[0.5555555555555556,\"#d8576b\"],[0.6666666666666666,\"#ed7953\"],[0.7777777777777778,\"#fb9f3a\"],[0.8888888888888888,\"#fdca26\"],[1.0,\"#f0f921\"]]}],\"surface\":[{\"type\":\"surface\",\"colorbar\":{\"outlinewidth\":0,\"ticks\":\"\"},\"colorscale\":[[0.0,\"#0d0887\"],[0.1111111111111111,\"#46039f\"],[0.2222222222222222,\"#7201a8\"],[0.3333333333333333,\"#9c179e\"],[0.4444444444444444,\"#bd3786\"],[0.5555555555555556,\"#d8576b\"],[0.6666666666666666,\"#ed7953\"],[0.7777777777777778,\"#fb9f3a\"],[0.8888888888888888,\"#fdca26\"],[1.0,\"#f0f921\"]]}],\"mesh3d\":[{\"type\":\"mesh3d\",\"colorbar\":{\"outlinewidth\":0,\"ticks\":\"\"}}],\"scatter\":[{\"fillpattern\":{\"fillmode\":\"overlay\",\"size\":10,\"solidity\":0.2},\"type\":\"scatter\"}],\"parcoords\":[{\"type\":\"parcoords\",\"line\":{\"colorbar\":{\"outlinewidth\":0,\"ticks\":\"\"}}}],\"scatterpolargl\":[{\"type\":\"scatterpolargl\",\"marker\":{\"colorbar\":{\"outlinewidth\":0,\"ticks\":\"\"}}}],\"bar\":[{\"error_x\":{\"color\":\"#2a3f5f\"},\"error_y\":{\"color\":\"#2a3f5f\"},\"marker\":{\"line\":{\"color\":\"#E5ECF6\",\"width\":0.5},\"pattern\":{\"fillmode\":\"overlay\",\"size\":10,\"solidity\":0.2}},\"type\":\"bar\"}],\"scattergeo\":[{\"type\":\"scattergeo\",\"marker\":{\"colorbar\":{\"outlinewidth\":0,\"ticks\":\"\"}}}],\"scatterpolar\":[{\"type\":\"scatterpolar\",\"marker\":{\"colorbar\":{\"outlinewidth\":0,\"ticks\":\"\"}}}],\"histogram\":[{\"marker\":{\"pattern\":{\"fillmode\":\"overlay\",\"size\":10,\"solidity\":0.2}},\"type\":\"histogram\"}],\"scattergl\":[{\"type\":\"scattergl\",\"marker\":{\"colorbar\":{\"outlinewidth\":0,\"ticks\":\"\"}}}],\"scatter3d\":[{\"type\":\"scatter3d\",\"line\":{\"colorbar\":{\"outlinewidth\":0,\"ticks\":\"\"}},\"marker\":{\"colorbar\":{\"outlinewidth\":0,\"ticks\":\"\"}}}],\"scattermapbox\":[{\"type\":\"scattermapbox\",\"marker\":{\"colorbar\":{\"outlinewidth\":0,\"ticks\":\"\"}}}],\"scatterternary\":[{\"type\":\"scatterternary\",\"marker\":{\"colorbar\":{\"outlinewidth\":0,\"ticks\":\"\"}}}],\"scattercarpet\":[{\"type\":\"scattercarpet\",\"marker\":{\"colorbar\":{\"outlinewidth\":0,\"ticks\":\"\"}}}],\"carpet\":[{\"aaxis\":{\"endlinecolor\":\"#2a3f5f\",\"gridcolor\":\"white\",\"linecolor\":\"white\",\"minorgridcolor\":\"white\",\"startlinecolor\":\"#2a3f5f\"},\"baxis\":{\"endlinecolor\":\"#2a3f5f\",\"gridcolor\":\"white\",\"linecolor\":\"white\",\"minorgridcolor\":\"white\",\"startlinecolor\":\"#2a3f5f\"},\"type\":\"carpet\"}],\"table\":[{\"cells\":{\"fill\":{\"color\":\"#EBF0F8\"},\"line\":{\"color\":\"white\"}},\"header\":{\"fill\":{\"color\":\"#C8D4E3\"},\"line\":{\"color\":\"white\"}},\"type\":\"table\"}],\"barpolar\":[{\"marker\":{\"line\":{\"color\":\"#E5ECF6\",\"width\":0.5},\"pattern\":{\"fillmode\":\"overlay\",\"size\":10,\"solidity\":0.2}},\"type\":\"barpolar\"}],\"pie\":[{\"automargin\":true,\"type\":\"pie\"}]},\"layout\":{\"autotypenumbers\":\"strict\",\"colorway\":[\"#636efa\",\"#EF553B\",\"#00cc96\",\"#ab63fa\",\"#FFA15A\",\"#19d3f3\",\"#FF6692\",\"#B6E880\",\"#FF97FF\",\"#FECB52\"],\"font\":{\"color\":\"#2a3f5f\"},\"hovermode\":\"closest\",\"hoverlabel\":{\"align\":\"left\"},\"paper_bgcolor\":\"white\",\"plot_bgcolor\":\"#E5ECF6\",\"polar\":{\"bgcolor\":\"#E5ECF6\",\"angularaxis\":{\"gridcolor\":\"white\",\"linecolor\":\"white\",\"ticks\":\"\"},\"radialaxis\":{\"gridcolor\":\"white\",\"linecolor\":\"white\",\"ticks\":\"\"}},\"ternary\":{\"bgcolor\":\"#E5ECF6\",\"aaxis\":{\"gridcolor\":\"white\",\"linecolor\":\"white\",\"ticks\":\"\"},\"baxis\":{\"gridcolor\":\"white\",\"linecolor\":\"white\",\"ticks\":\"\"},\"caxis\":{\"gridcolor\":\"white\",\"linecolor\":\"white\",\"ticks\":\"\"}},\"coloraxis\":{\"colorbar\":{\"outlinewidth\":0,\"ticks\":\"\"}},\"colorscale\":{\"sequential\":[[0.0,\"#0d0887\"],[0.1111111111111111,\"#46039f\"],[0.2222222222222222,\"#7201a8\"],[0.3333333333333333,\"#9c179e\"],[0.4444444444444444,\"#bd3786\"],[0.5555555555555556,\"#d8576b\"],[0.6666666666666666,\"#ed7953\"],[0.7777777777777778,\"#fb9f3a\"],[0.8888888888888888,\"#fdca26\"],[1.0,\"#f0f921\"]],\"sequentialminus\":[[0.0,\"#0d0887\"],[0.1111111111111111,\"#46039f\"],[0.2222222222222222,\"#7201a8\"],[0.3333333333333333,\"#9c179e\"],[0.4444444444444444,\"#bd3786\"],[0.5555555555555556,\"#d8576b\"],[0.6666666666666666,\"#ed7953\"],[0.7777777777777778,\"#fb9f3a\"],[0.8888888888888888,\"#fdca26\"],[1.0,\"#f0f921\"]],\"diverging\":[[0,\"#8e0152\"],[0.1,\"#c51b7d\"],[0.2,\"#de77ae\"],[0.3,\"#f1b6da\"],[0.4,\"#fde0ef\"],[0.5,\"#f7f7f7\"],[0.6,\"#e6f5d0\"],[0.7,\"#b8e186\"],[0.8,\"#7fbc41\"],[0.9,\"#4d9221\"],[1,\"#276419\"]]},\"xaxis\":{\"gridcolor\":\"white\",\"linecolor\":\"white\",\"ticks\":\"\",\"title\":{\"standoff\":15},\"zerolinecolor\":\"white\",\"automargin\":true,\"zerolinewidth\":2},\"yaxis\":{\"gridcolor\":\"white\",\"linecolor\":\"white\",\"ticks\":\"\",\"title\":{\"standoff\":15},\"zerolinecolor\":\"white\",\"automargin\":true,\"zerolinewidth\":2},\"scene\":{\"xaxis\":{\"backgroundcolor\":\"#E5ECF6\",\"gridcolor\":\"white\",\"linecolor\":\"white\",\"showbackground\":true,\"ticks\":\"\",\"zerolinecolor\":\"white\",\"gridwidth\":2},\"yaxis\":{\"backgroundcolor\":\"#E5ECF6\",\"gridcolor\":\"white\",\"linecolor\":\"white\",\"showbackground\":true,\"ticks\":\"\",\"zerolinecolor\":\"white\",\"gridwidth\":2},\"zaxis\":{\"backgroundcolor\":\"#E5ECF6\",\"gridcolor\":\"white\",\"linecolor\":\"white\",\"showbackground\":true,\"ticks\":\"\",\"zerolinecolor\":\"white\",\"gridwidth\":2}},\"shapedefaults\":{\"line\":{\"color\":\"#2a3f5f\"}},\"annotationdefaults\":{\"arrowcolor\":\"#2a3f5f\",\"arrowhead\":0,\"arrowwidth\":1},\"geo\":{\"bgcolor\":\"white\",\"landcolor\":\"#E5ECF6\",\"subunitcolor\":\"white\",\"showland\":true,\"showlakes\":true,\"lakecolor\":\"white\"},\"title\":{\"x\":0.05},\"mapbox\":{\"style\":\"light\"}}},\"margin\":{\"t\":25,\"r\":0,\"b\":200,\"l\":200},\"width\":1000,\"height\":700},                        {\"responsive\": true}                    ).then(function(){\n",
       "                            \n",
       "var gd = document.getElementById('8c6f1b5d-649d-4b52-9cc5-4ca3de5b44bc');\n",
       "var x = new MutationObserver(function (mutations, observer) {{\n",
       "        var display = window.getComputedStyle(gd).display;\n",
       "        if (!display || display === 'none') {{\n",
       "            console.log([gd, 'removed!']);\n",
       "            Plotly.purge(gd);\n",
       "            observer.disconnect();\n",
       "        }}\n",
       "}});\n",
       "\n",
       "// Listen for the removal of the full notebook cells\n",
       "var notebookContainer = gd.closest('#notebook-container');\n",
       "if (notebookContainer) {{\n",
       "    x.observe(notebookContainer, {childList: true});\n",
       "}}\n",
       "\n",
       "// Listen for the clearing of the current output cell\n",
       "var outputEl = gd.closest('.output');\n",
       "if (outputEl) {{\n",
       "    x.observe(outputEl, {childList: true});\n",
       "}}\n",
       "\n",
       "                        })                };                });            </script>        </div>"
      ]
     },
     "metadata": {},
     "output_type": "display_data"
    }
   ],
   "source": [
    "corr = df.iloc[:,1:].corr()\n",
    "fig = go.Figure(data=go.Heatmap(z=np.array(corr),x=corr.columns.tolist(),y=corr.columns.tolist(),xgap = 1,ygap = 1))\n",
    "fig.update_layout(margin = dict(t=25,r=0,b=200,l=200),width = 1000, height = 700)\n",
    "fig.show()"
   ]
  },
  {
   "cell_type": "code",
   "execution_count": 18,
   "metadata": {},
   "outputs": [
    {
     "data": {
      "text/plain": [
       "diagnosis\n",
       "0    357\n",
       "1    212\n",
       "Name: count, dtype: int64"
      ]
     },
     "execution_count": 18,
     "metadata": {},
     "output_type": "execute_result"
    }
   ],
   "source": [
    "from sklearn.preprocessing import LabelEncoder\n",
    "le = LabelEncoder()\n",
    "df['diagnosis'] = le.fit_transform(df['diagnosis']) # M:1, B:0\n",
    "df['diagnosis'].value_counts()"
   ]
  },
  {
   "cell_type": "code",
   "execution_count": 19,
   "metadata": {},
   "outputs": [],
   "source": [
    "random_state = 42\n",
    "X_train, X_test, y_train, y_test = train_test_split(df.iloc[:,1:], df['diagnosis'], test_size = 0.2, random_state = random_state)"
   ]
  }
 ],
 "metadata": {
  "kernelspec": {
   "display_name": "myenv",
   "language": "python",
   "name": "python3"
  },
  "language_info": {
   "codemirror_mode": {
    "name": "ipython",
    "version": 3
   },
   "file_extension": ".py",
   "mimetype": "text/x-python",
   "name": "python",
   "nbconvert_exporter": "python",
   "pygments_lexer": "ipython3",
   "version": "3.12.5"
  }
 },
 "nbformat": 4,
 "nbformat_minor": 2
}
